{
  "nbformat": 4,
  "nbformat_minor": 0,
  "metadata": {
    "colab": {
      "provenance": [],
      "authorship_tag": "ABX9TyN+8odHb3t0RFQW8PU0B80T",
      "include_colab_link": true
    },
    "kernelspec": {
      "name": "python3",
      "display_name": "Python 3"
    },
    "language_info": {
      "name": "python"
    }
  },
  "cells": [
    {
      "cell_type": "markdown",
      "metadata": {
        "id": "view-in-github",
        "colab_type": "text"
      },
      "source": [
        "<a href=\"https://colab.research.google.com/github/IANGECHUKI176/deeplearning/blob/main/pytorch/convnets/EfficientNetV2.ipynb\" target=\"_parent\"><img src=\"https://colab.research.google.com/assets/colab-badge.svg\" alt=\"Open In Colab\"/></a>"
      ]
    },
    {
      "cell_type": "markdown",
      "source": [
        "Paper: EfficientNetV2: Smaller Models and Faster Training by Mingxing Tan, Quoc V. Le\n",
        "\n",
        "Training efficiency has gained significant interests recently. For instance,\n",
        "NFNets aim to improve training efficiency by removing the expensive batch normalization;\n",
        "Several recent works focus on improving training speed by adding attention layers into\n",
        "convolutional networks (ConvNets); Vision Transformers improves training efficiency on\n",
        "large-scale datasets by using Transformer blocks. However, these methods often come with\n",
        "significant overheads.\n",
        "\n",
        "To develop these models, it uses a combination of training-aware neural search(NAS) and\n",
        "scaling, to jointly optimize training speed and parameter efficiency.\n",
        "\n",
        "Drawbracks of previous version of EfficientNets\n",
        "\n",
        "1. training with very large image sizes is slow.\n",
        "2. depthwise convolutions are slow in early layers.\n",
        "3. equally scaling up every stage is sub-optimal.\n",
        "\n",
        "Whats New With EfficientNetV2\n",
        "\n",
        "Based on the above observations, V2 is designed on a search space enriched with additional\n",
        "ops such as Fused-MBConv, and apply training-aware NAS and scaling to jointly optimize model\n",
        "accuracy, training speed, and parameter size. EfficientNetV2, train up to 4x faster than\n",
        "prior models, while being up to 6.8x smaller in parameter size.\n",
        "\n",
        "To further increase the training speed, it uses progressive increase image size, previously\n",
        "done by FixRes, Mix&Match. The only difference between the current approach from the previous\n",
        "approach is the use of adaptive regularization as the image size is increased.\n"
      ],
      "metadata": {
        "id": "JSpMpkLrngaI"
      }
    },
    {
      "cell_type": "markdown",
      "source": [
        "Additional Information:¶\n",
        "\n",
        "Fused MBCONV Block:\n",
        "\n",
        "> Same as MBCONV Block except the fact that Depthwise Convolution layer is replaced with normal Convolution layer.\n",
        "\n",
        "![fused_mb_conv.jpg](data:image/jpeg;base64,/9j/4AAQSkZJRgABAQAAAQABAAD/4gIoSUNDX1BST0ZJTEUAAQEAAAIYAAAAAAQwAABtbnRyUkdCIFhZWiAAAAAAAAAAAAAAAABhY3NwAAAAAAAAAAAAAAAAAAAAAAAAAAAAAAAAAAAAAQAA9tYAAQAAAADTLQAAAAAAAAAAAAAAAAAAAAAAAAAAAAAAAAAAAAAAAAAAAAAAAAAAAAAAAAAAAAAAAAAAAAlkZXNjAAAA8AAAAHRyWFlaAAABZAAAABRnWFlaAAABeAAAABRiWFlaAAABjAAAABRyVFJDAAABoAAAAChnVFJDAAABoAAAAChiVFJDAAABoAAAACh3dHB0AAAByAAAABRjcHJ0AAAB3AAAADxtbHVjAAAAAAAAAAEAAAAMZW5VUwAAAFgAAAAcAHMAUgBHAEIAAAAAAAAAAAAAAAAAAAAAAAAAAAAAAAAAAAAAAAAAAAAAAAAAAAAAAAAAAAAAAAAAAAAAAAAAAAAAAAAAAAAAAAAAAAAAAAAAAAAAAAAAAFhZWiAAAAAAAABvogAAOPUAAAOQWFlaIAAAAAAAAGKZAAC3hQAAGNpYWVogAAAAAAAAJKAAAA+EAAC2z3BhcmEAAAAAAAQAAAACZmYAAPKnAAANWQAAE9AAAApbAAAAAAAAAABYWVogAAAAAAAA9tYAAQAAAADTLW1sdWMAAAAAAAAAAQAAAAxlblVTAAAAIAAAABwARwBvAG8AZwBsAGUAIABJAG4AYwAuACAAMgAwADEANv/bAEMAAwICAwICAwMDAwQDAwQFCAUFBAQFCgcHBggMCgwMCwoLCw0OEhANDhEOCwsQFhARExQVFRUMDxcYFhQYEhQVFP/bAEMBAwQEBQQFCQUFCRQNCw0UFBQUFBQUFBQUFBQUFBQUFBQUFBQUFBQUFBQUFBQUFBQUFBQUFBQUFBQUFBQUFBQUFP/AABEIAUoBkAMBIgACEQEDEQH/xAAdAAEBAAIDAQEBAAAAAAAAAAAABgUHAwQIAgEJ/8QAXhAAAAYBAQMECgsMBQgJBQAAAAECAwQFBhEHEiETFDFBCBUXIlFVdZWz0xYyN1ZhdIGTlLK0IzU2QlJUYnGFkdHSM3JzgsMkNFNkg6GksQkYJkNjZYSSoyVGweHi/8QAFwEBAQEBAAAAAAAAAAAAAAAAAAECA//EACwRAQACAAMHBAICAwEAAAAAAAABESEx8AJBUWGBkaFxscHREuEi8TJCgrL/2gAMAwEAAhEDEQA/AP6pgAAAAAAAAAAAAAAAAADGX+SVuLwOeWktERjeJCTVqalqPoSlJampR9RERmYDJgIAtskDtm5CXQZG0bbCZK3FViz3WlKUlKzQRm5pqhX4uvDoFjTXkDIq9udWy2psRz2rrStS16yPwGXWR8SAd4AAAAAAAAAAAAAAAAAAAAAAAAAAAAAAAAAABj7y/rsar1zrOW3DioMiNxw+kz6EkXSZn1EWpmAyACA7skDtmUPtBkepsc5JztYv+i3t3f3NeU01P8nX4BXUWQV2TV6ZtXLbmRlGad9s/aqLpSoj4pMusjIjIBkQAAAAAAAAAAAAAAAAAAAAAAAAAAAAAAAAAAAAGpGcypVbScgnXJTXXql5NdXtNVsiQhkuSQt1wlIQpJLUpe706klBeEbbEHZKlYBlFhcpiPzcetjQ5NTEbNx2JISgkcruFxUhSEoJW7qZGkj00MzIJyNtRoS2sWMk+2fJKpIrZf8A0iXvak++Z97yWunEuOmn7h05+1DG8OzlNpE7ZMVtpGfVZMFUykEbzSSUh5KTbLVRp30q06e9M/ajuR9rGHltUsZZZDBcaXSRWkpbc3nFLJ+QZoJBd8atDLhprxIVGPszcvylvJZsR2vrYTC2KqNITuPOcoZco+4npTqSUpSk+JEajMiM9CCdwPsmMS2gQZkuAxctx48g45KVVvub5kRHqXJpURdPQeh/AKbutY/+RcH+xJnqhVRK6JXqeOLGZjG8vlHDaQSd9X5R6dJ/COyAjO61Qf6K5P8AYc31Qd1mi/0N15jm+qFmACM7rNH+b3fmKb6oO6xSfmt6f7Bm+qFmACLVtapEJNSol6SSLUzOhm6EXzQq66wj21fGnRHSeiyW0vNOJ6FIUWpH+4ws/vbL/sl/8jE9sq9zLFPJcb0SQFUAAAAAAAAAAAAAAAAAAAANTS8up17Urd66KY6VFyUSAwzXvyG23FtJcde1bQot8ycQgteJEk/yuO2RDXaZeE5VJyGPEenUti22iyZioNx5h1BGlD6UFxURp0Soi46JSZEehgJlW1Gh7q6JOtlyXaRTf3ol72vLpP2vJa6fDpoOtb7S8cxnOYF1C7YsxrNLsa0Z7UykE4aGlONvERtlqsuTUg9OJkvjwTw7KtrGH91REv2QweSKkU1u8r903+XSe5ue23tPxdNRS05S85yqJfvxHoNHWIWVc1KQbb0h5Zbqn1IPilJINSUkehnvqMyLgAnME7J7ENoJWa69i5QzCeJnlFVb7nKGZa6kTaVbv6laH8Aqu61j/wCRbn+xJnqhVRa2JCdfdjxmWHJCiW8tpskm4ro1UZdJ/CY7ICM7rVB1NXJ/sOb6oO6zRf6C6P8AYc31QswARvdYo/ze78xTfVB3WKT81vT/AGDN9ULIAElE2n0cp9Lak2cNKul+dVSYzKf6zjjaUp8HE+kVojNsPuc2/wDsS/8AmQLMAAAAAAAAAAAAAAAAAAAGteyEyO4xXZuuwoVqTZlZV7TaUuE3yhLltIUg1aHoSkqNJnp0GA2UA0jiOVZVlGYbUKO6eRjU5MaCxVRmZyXyjuux3lb7at1OqjNO8ZafijT0PbTnV92vms2kuOxlKWcQjMkktINq2UfnEhPD2yTVNI9eH3AvAEYz+Osf3UdYJwi9aq56S9ngNBZnkrFztAyCBbZ9LxGiq6OPOrJUCahgpClG6Tsg1GR8tuGhBbnFPHiR6kN249LKfQ1slMlcxL0ZtwpDjJsqd1SR75oMiNJn07plw10CMYvW/wCicJrW77alpm8wLsprx2SxHLF1UbDbRE+RqSknF7i93wmsnSPr00G6hGRfdjs/IMT7RIFmAAAAAAAAAAA6trwq5n9iv6pjAbLPc0xXyXG9EkZ63+9U3+xX9UxgtlvDZrivkyN6NICoAAAAAAAAAAAAAAAak2jZdlVLtjxGsx2Ei3jy6qe9Ir3ppRW1GhcckuGo0K1Mt5REWn4xgNtgPNldtTu4HY64zm1hbLVYVM5M68ZJ0lrXCOW6y4S9C4pSk94j0L+iHS2PZ7mMvPq3GMmu396G0vJJsiQaUEuPKaaTGimehFol518kl0/cEkEYzMa4+19pJwi9ay7w9QAPPOAZQm3nV13ebQLCvyZ/IZNc5jiHScZNKXXEIi81ItU/c0pXyvT+MZ7pj0MEYxetYk4TTSrjWYf9apt8mI/sW7Qm1py/f7vKEZubvh5TRPh0G6hGK92NvyCr7QkWYAAAAAAAAAACM2w+53a/1mPTtizEZtg9zyz/AK8f07YswAAAAAAAAAAAAAAAAABxPxmZTfJvtIeRqSt1xJKLUj1I9D8BlqOUAGPmY/Wz5saZIhMuSozxSGnjT3yXCQpBK16zJK1kWvRqY5SqYKEIIocdKW3FPJImklurPXeWXDgo9T1Pp4mO2IvPrCRZyIeJVrqmp1qlSpUhv20WGRkTqyPqUrXcT8Jmf4pgMA3bYrOgxI0LBZl3VVzi24UhutbeZSaVGRqaUtWum8R98XT08RQd0Z4v/tHJPoaP5xVV1fHqYEeFEaSxFjtpaaaT0JSRaERfIOyA1UxlVg3tDm3B4hkPMnapiIk+ao3uUQ88tXDf6NFp4ii7oz3vRyT6Gj+cWYAI1naZHTMiMz6W4qG5LyWESZ0YkNE4r2qTUSj01PgWvWZF1iyGPv6OJktNLrJzfKRZLZtrIj0MvAZH1GR6GR9RkQweA3suSxLpbhzfvqhRMyFmWnOGzL7k+XwLSXHwKJRdQCsAAAAAAHTuPvRO/sF/VMYTZfw2b4t5MjejSM1dcKef/YOfVMYbZjw2cYv5MjejSApgAAAAAAAAAAAAAcSozK30PqaQbyEmlLhpLeSR6akR9JEehfuHKADFIxWnbkyX01sYnJMdMV77mW6tpKlqJBp6NNXFn0fjGPuyxuruGltzIDD6F8nvbyCI1cmsloIzLiZEoiMi6BkhKZ9fS4UeJTVCyK9t1GxGUZb3IIIvuj5l4EJPX4VGkusBh3MmoEZPOn12Iy7axjuHFeuK+ubUZrIi3kE6ZkatOg9OGpGXUMh3Rnvejkn0NH84oseoYmMUsSrgoNEaMjcTvHqpR9JqUfWZnqZn1mZjIgNVHlVge0NFx7EMh5kVUqJrzVG9yhvEvo3+jQukUXdGe96OSfQ0fzizABGs7TI6ZsRifS3FO1KeSwiVPjEhknFe1SpRKPTU+Ba8NTIusWQx9/RRMlppdZOQbkWS2aFkk9FF4DI+oyPQyPqMiGDwG9lyWJdJcLJV7UKSy+vTTnDZl9ykEXgWRcfApKi6gFYAAAAAAIzbB7n1h/axvtDYsxGbX/wAnf28X7S0LMAAAAAAAAAAAAAAAAAAAABj7+8iY1TTLScs24sVs3FmRamfgIi6zM9CIuszIYPAKOXGYmXdsjcvLlSX5DeuvNmyI+SjkfgQk+PhUaj6xj5H/b/NUxy+6Y9j7xLe60SpxFqlHwpaIyUfVvmnrQYxPZJXVtQ7MHJNXMmVjKrCE1Z2NeR8vDr1SEJlPIMiM0mls1HvEWqS1PqEmaWIttIB4xmZpS+ySJAe2qZexsrJmeuLkq7F1tMiwTyG5HRPLv3m0pU8aSNR7yiUnvtwiGETebSb3DcmyO2yTKqy7ocWqLCHDjvORm3JKlvb63mSIiWpaEo3kKLTj0ajUYxE63/XtKcdcPt7pHUhW0KxkTGIstmS9Dc5GQ204SlMr3SVuqIug9DI9D6jIeecatc2n7c3Nn82fbFVVcyTkTtnvrSUmA+1uxovKfovuPd6R8CYSJhqla2V4btzjY2/a0k5vI2F0y4SnH5MyeqLGNpJmozN7lXj0XvHxJStTLpLN4XPC/MR9x6wtXNRrP8AU+kvVtrbQqKven2MtmDCZLedkSFkhCC8JmfAhLZ9XyKuREy2sZU9PrEmiVHbLU5UMz1cRp1qT7dPwpMvxjHmbL6iZtR7D7I5ubKs7HOayS+/ZVb7jiG4VgTqSJpDKVbqmkJNJt67xGRkvpMezRqYpmJvF166wj20CPNiPJkRZDaXWnUHqlaVFqRl8g7Ag8d/7CZW5jjne09mpcupX0Jac9s9G+DTitJeA1F+KLwRQAAB0bzhS2Hxdz6pjEbM/c6xjyZG9GkZe94Udj8Xc+qYxGzThs7xjybH9GkBSgAAAAAAAAAAAAAAADrWNhHqa+TNlupYix21OuurPQkJSWpmfyEJTAq+RZyZeW2bSmZ1okkRYzhcYsMj1bR8Cle3V8JkX4pDr35+zzK28eb7+lq1ok2yvxXnfbNRvhLgS1l4Nwj9sOl2RNveUGx6+m487JjTm0tEuTBb3348c3UE+62kiPVSGjWouB9GokzSxFy2SA8ay8zokZJV17G1TLV7J1yJJysmctHSbTNJho2YqLEu/Ns9XVGRq03yJGv4owMW32hZZjl7YWGVZbXuUuDHa1Zxn3IipbyZs0mJD6CIt9a2W2TUgy0URlqXQLeukz8Ycc0jHXGa+ceD3QOpGt4UydLhMS2XpcM0lIYbcI1smotU7xFxLUuJajzbRZDnc7bBV4RInWva+Y+xlq7MjUSUwOQIlw9/qLnOhbmvtFaaaDHnjldsxldkEVdMt6FCyr5EexguOPznpi4+qTQpRmp1anDSndM9D13eBdDa/jFzrU3HrBs/yquXn9VPpL1JZWcSmr5E6fJahwo6DdekPrJCG0kWpqUo+BEQk86gvxFwcvqEHJnVqD5ZhrjzyGrQ3Gy8Ki9un4U6fjGPNNhW2+1nsSdpKdpXbKTnUBMyRZ0S3HGo8SSlg+QbaaQo0uM7pocTrvEpRmo+JcPXWPJMsfrCMtDKK0Rkf9Qhqqvp5ZvKt9+K+3PWWUa4ros+G6l+JJbS806noUlRakf7jHaEHR/9gstcoXO8pLda5NWr8Rh7ip6N8BHqa0F/XL8UheDLQAAAjNr/AOAMz4zD+1NCzEZte/AOV8MqEX/FsizAAAAAAAAAAAAAAAAAAEvnuRSqevjwardXfWjnNYKFFvEhWmqnVF+ShOqj/URdZCkkyGocd195aWmWkGta1HoSUkWpmZ+DQReCR3cksZOZzUKbOa3yFYwstDYh66koy6lOGW+fwbhdQCkxjHYuK0cWsibym2U9844eq3VmeqlqPrUpRmZn4TGTMtS0PiQ/QAcfIN8mlvk0biehO6WhfIOQAAAAAAAABg8yxlOVUbkRLvNZrakvw5ZF30d9B6oWX6j6S6yMy6DHHhOTKyam5SS1zW0irOLPi6/0L6eCiLwpPgpJ9aVEfWKAQmVkeEZGzlbJGmsk7kW6QXQlGujUn4NwzMlH+QrU/akAuwH4SiURGRkZHxIy6x+gOhf/AHisvizn1TGK2be55jPk2P6NIymQ/eCz+LO/UMYzZxw2fY15Nj+jSAowAAAAAAAAAAAAAT2cZM5jdORxGik28xwotfFP/vXldGv6KSI1qPqSkzFApRISalGSUkWpmZ8CIQuHJPNL13MHyPmKEqi0rZlw5DXv5H63DLh+glP5RgKDD8ZbxSjah8ocmUtRvy5a/bSH1nq44f61a8OotCLgQzYAA4+btclyfJo5P8jdLT9w5AAAAAAAAAGFy/Gm8ro3oSnDjyCMnospHt476T1bcT8KVER6dZakfAx18HyVzIqlaZrZRrmC4cWwjF/3byesv0VEZLSfWlRCiEJmaFYbdtZjGSfM9xMa6aSXA4+vev6flNGfH9BSvAQC7AfKFpcQlaFEpCi1JRHqRl4R9AIza9+Asj45BL/i2RZiM2u/gM98egfbGRZgAAAAAAAAAAAAAAAAAlNpGL2WYY+itrpsaIlchtclEtlTjchlJ6m0ZJUk9FHprx4lqXWOumJtASkiKwxkiLgRFAkcP/mFmACN5ttB8Y4z9AkeuDm20HxjjP0CR64WQAI3m20HxjjP0CR64ObbQfGOM/QJHrhZAA07E2jZXN2oz8Fbs8aO1h17c9Z8xf00UoyNGnLdJFuq/UohYc22g+McZ+gSPXDAVuB0MTshLa9Zrm0W66Vh1UolK3jUt15Cj6dOKUILTo70htEBG822g+McZ+gSPXBzbaD4xxn6BI9cLIAEbzbaD4xxn6BI9cOKXWZ5OivRpE3F3mHkG242uvkGSkmWhkZct0GQtwATuz+gscXxODVWk5qxkxSU2l9pCkFye8e4nRRmZ7qdE6mfHQUQAAx2R/g9afFXfqGMds59z/GvJsf0aRkMk4Y7afFXfqGOhs7LTAcb8nR/RpAUIAAAAAAAAAAAACZ2iY5Y5bismqrZzMBySpKXXH21LStrXVbfeqSZbxd7qR9BmMezAz6Oyhpqdi7bSEklKE18giSRcCIi5YWwAIzm20LxjjP0CR64ObbQvGOM/QJHrhZgAjObbQvGOM/QJHrg5ttC8Y4z9AkeuFmADTsXaLlcrahNwVFpjXbaLXosFHzGRoZKUZGn+m6SLdP9SvgFfzbaF4xxn6BI9cMDX4FQMdkJbXzda2m3VSxnTlkpW8alOvtqPp04pbQWnR3pDaICM5ttC8Y4z9AkeuDm20LxjjP0CR64WYAIzm20LxjjP0CR64fLsHP32ltuT8YcbWRpUlVfIMjI+kjLlhagAmNnON2OI4sxVWU1icuOtZMrjtqQltnXVDZbylGe6XAjM+giFOAAIza7+BDnlCv+2sCzEZtc/ApReGxrvtzAswAAAAAAAAAAAAAAAAAAGupNRIynaNexHru3gxIUSIplivlmygjXym8ZkRcTPdL9wyXcyb982TedV/wAWYCM7mTfvmybzqv+AdzJv3zZN51X/ABZgIzuZN++bJvOq/4CZzpnHNnEOJIvcyypjnj3N4rEeY/IfkObpqNLbTaVLUZJIzPQuBFqYZCmi+7HZ+QYn2iQLMedpGY7MYTNdkXs4yl162W5WMnHdluyVLY3lrZU0ls1oNG8ozJSS01Fzh1PT55VKsanJ8wOMThtHzuTIir3i6e8dQlWnHp00AbQARncyb982TedV/wDuZN++bJvOq/4ALMBGdzJv3zZN51X/AO5k375sm86r/gAswGv8fr5GO7TF1ibi0sYL1Qck2rGUbxJcJ4k7ydS4cD0GwAGNybhjdr8Ud+oY6Gzz8Asc8nR/RpHeyjhjVt8Ue+oY6Wz4tMDx3ydH9GkBQAAAAAAAAAAAAAADXlhUyMn2l20J27toEOJXRXG2K+WbKd9a3iUo9C4mZJT+4ZDuZt++bJvOqwFmAjO5m375sm86rDuZt++bJvOqwFmAjO5m375sm86rEznTeN7OIsN68zHKmVTHTYix40x+S++skmoyQ02lS1aJIzPQuBFqYl0KeJ7sVp5BifaJIsh55lZbszr4VflB5xlDirZ5VSyuO9LdkrdZ31qYUyls1pUjvzMlJIy4i0wyrps9rHJ9Rk+YHHQ4bSueSJMVW8REftXUJMy49Omgo2kAjO5m375sm86rDuZt++bJvOqwFmAjO5m375sm86rDuZt++bJvOqwFmA1/R18jG9pSKxFxaWEJ+qXIU1Yyjf3VpdSkjTr0cDMbAARm1v8DUl4bOt+3MCzEZta/BFovDa1hf8AHMCzAAAAAAAAAAAAAAAAABGUPuo5Z8Tg/wCKLMRNljGSxsusbijsappqcww04zYRHXFJNvf4kpDieB7/AIOoffNdoXjLGfN8j14CzARnNdoXjLGfN8j14c12heMsZ83yPXgLMaV7JGqZmqxOXLrckRGhS3XCyTETW5YU7htGklkwhC1OtrI1IUW6oi4akfSVvzXaF4yxnzfI9eHNdoXjLGfN8j14kxaxNPKMutzSVLwm3tEZmisgZHZrYyKmxo03D8RcJKGn5MZDCt1S3DUjeU2kzSlJ6EPVGx+zKyxU/wDLMnsFNPqScjLKxcCWroP2immtUlrwMk+HiJeJtEyuZtPn4M3aY0dtDr27BZ8xf3dFKMtzTl9dSLdV+pZCu5rtC8ZYz5vkevGr3M0swEZzXaF4yxnzfI9eHNdoXjLGfN8j14irMBGc12heMsZ83yPXhzXaF4yxnzfI9eAK92NvyCr7QkWYjcfxm/Rl7l7ez62QooPMmma6K40REbhLNSjW4rXo04CyAYvKeGMW/wATe+oY6mAfgLjvk+P6NI7WV8MWuPib31DHWwLhg2PeT4/o0gM8AAAAAAAAAAAAAjan3Wci8lwfSSBZCKtsYyRnMZl3RWNUy3LiMxnGLCI46ZG2pwyUSkOJ6eU6DLqH1zXaF4yxnzfI9eAswEZzXaF4yxnzfI9eHNdoXjLGfN8j14CzGk+yQqmZkjE5kuuyVqNCkPLTk2I77s+ncU3ukrkENrU62sjUlXeqIuBmXWVzzXaF4yxnzfI9eHNdoXjLGfN8j14kxaxNPK9vWZpOg4PZ2TWXlX1+WzX2cgp8bNNy/CVCWhuTJioZVurUszQalNpMyIjMk6j0/sctCscZdLnuVWKmn1EcjLqtcCUrUiPRKFMtapLwknw8RNsbQsrkbTpWDJtca7bx69Fgf+QP6GlSzSadOX11It1X6lfAK3mu0LxljPm+R68aic9boj4ZnHXr9rMBGc12heMsZ83yPXhzXaF4yxnzfI9eIqzARnNdoXjLGfN8j14c12heMsZ83yPXgD/uwQ/Ibvp0CzEbQ4zkBZd28vZ9a+pEJUNpmuiuNF3yyWalGtxWvtSLgLIBG7WfwUjl4besL/jmBZCM2sccXhl4bmrL/jmBZgAAAAAAAAAAAAAAAAACP2r7RY2yvDnMhmNJditSozDu+vcJCXXkNGsz0P2u/r8gsBgc0w2DndKmrsHH2o6ZUeWSo6iSrfZdS6gtTIy0NSC14dGvR0gI7HduVfm0jO28ZbZu28ajMutPMPd7LccaW5yfR3pkaCLr6RIO9lhDVJmIjUa5DCqaPPrXifIimS3SYPmmmnemXO4/HjrvK4d7x2d3Pih5rMyOus5MV+zejqso6iQtp5pll1tDaSNOqdTcJRnrr3pdWpHJ1nYwYdUxKCOwuxNFJeOX8U1voMzeVrutK7zi0jRBJTwMiaRqZ6cUZ45av3v1it5OWGtVXpPJls320QcLzLGcaVBdnz7V8m5S2FkTcBs23FJW4Z9JqNtRJSXE9FHwIhw7OtpOT532muFYvGjYjdsqfhzGZ5uSmEabzapDRoSkicLo3FKNJmRH1mXUsexuxPKLajv8kilZ5XWyWZblugibXKcaSpKCcIi0NJEroIi9qXwjIYdsUjYZZVa2MmvplPUE4VZRyHmiixCWRp07xtLjhJSoySTi1Ekj8JEZI5pPLUurW4JQxOyEtr1mubRbLpWHVSiUreNS3XkKPp04pQgtP0SG0RGRfdjs/IMT7RIFmCgAAAAAAAAAMTlvDFbn4k96MxwYH+BGP+T2PRpHNl3DE7r4k/6NQ4sF4YTQeT2PRpAZwAAAAAAAAAAAAAGvc72z0mznN6GjvZDFdEtYcmSmfIc3UpU0pstzTTjryhn/AHRsIYGbhsKdmlXk7jj5WFdEfhtNpUXJGh1TalGotNTPVtOmhl0nwMN4h6bbqxbbOsPzIq9KKu9skQXFk9qUZC3VtNu66d8RrSgur2/wDHbN+yKLaJZ1Fa3RLhTps2Uhxlx/U2obbKHm5PRx30vRy3eo1mWp6ccq7sErpOB2WDv29krFJUNLDTSVtpkR3ucOPqfQ4SOCt5aNNSMi5MuHTrzN7DKumySRkVBNlVVy9WxKgl6oW03GZcSZ7qDR7ZaUJQo9ehKdNNNQ2c5vWq7TyNrlrV945sJcdkxWQLnLIUOnk2DNIzGJiUhxKW7CS9IOOTTevQlLhEk3D4a72hHu8b7DLjKpsmfEyiih1jrBNuMSqyaqTGfSrXVOq0IWlaTLiRp0MjSZH0kUOrsUNnLNjczYFQ5UvWkJEJzmLu4TW69yyXW9SPdcJzdVrxLvS4dOtphWAu4pOn2E7JbjJ7KYhtpUm1W0km2297dQhtltttPFSjNW7vKM+J6EREjLHMnPDJNRsCoWOyGl36K5BW7lK26crfXvbxurbM9NdPakktNNOA2kIz2u2Iv0qH/lI/8A2LMAAAAAAAAAABGbV/wbgF4buqL/AI5gWYjNq34O1vlyq+3MCzAAAAAAAAAAAAAAAAABA3WYZIrMLCmpINU4zCjsvLenyHEKUbm/wIkIPgW74esfPbvP/wAwxv6XI9WOON7qeUfE4P8AiikAT/bvP/zDG/pcj1Ydu8//ADDG/pcj1YoBofKeyW5vmNHV1FLPOmcyRdHNv5DKeZmppDpvoQZL3iNKm9N407pmlREZiXjEa4fJumeH9/DbHbvP/wAwxv6XI9WHbvP/AMwxv6XI9WNRROzPwiTAsZyotk1FYrnraIvRlxU+O0pJLNtCHDUlXfpMkrJJmR66cDHzlvZSP1TUOLCwy5j3qreuhyKuxbbQ6mLKWaUPp0c3T13FJItdSUWiiIaiLmI415mvcnCJnhfiLbHaYzxvLpN7zfHDW9BahGzzl/QiQ44ve15Pr5TTT4BmO3ef/mGN/S5HqxpPC+y0SugOTlGN28ZanbUmJ0eOjm8oobjhrQ2W/vbxNNmepkRHuq0MVyuycxB+4u6iIqXIsKyVXwzS20SidXMSZtKR3xbyUklRqPq3TGb16rVXeqX3bvP/AMwxv6XI9WHbvP8A8wxv6XI9WNVYv2UdTZycdqEwLS8sp0GJMkyYUVtsmkSDNKHDYN03N3UtVGglkkukxlcT7KHEswziLjkNuU2U6TIhwLBxTJsynmSUbiEpSs3E8EL0NaSJW6eh9A1VzWsGd1tgdu8//MMb+lyPVh27z/8AMMb+lyPVigARWHxbLr+Xl71HeQq1k+Y89ber33F6/dCQaVEtJeHXgLga9rPdh/YKvtCRsIBh8xPTEbz4i/6NQ+MILTDKEv8AUGPRpH7mp6Yde/EH/RqH7hZaYfRl/qLHo0gMyAAAAAAAAAAAAAi9rU+yq8TTLrbB2tNqZHKRIZQhSyYU4SF6bxGRaErXXTqGM9jF77+Lr5qL6kWWVULeUYzaVDqtxE2M4xv/AJJqSZEr5D0P5BL4NdOZDiNTPfTuSnY6SkI/IeT3rifkUSiAdX2MXvv4uvmovqQ9jF77+Lr5qL6kU4AJj2MXvv4uvmovqQ9jF77+Lr5qL6kU4AI08Cszt02h5nc8+SwcYneTjf0ZqJRp05LwkRjt+xi99/F181F9SKcAEx7GL338XXzUX1Iexi99/F181F9SKcAEx7GL338XXzUX1Iexi99/F181F9SKcYTNrtWOYlbWLaeUfYjrNlv8t0y0Qn5VGkvlAc+yWdZWeLPSrKwds+UnSExn30ISs2EuGhGu4REeu6Z66dYtBiMRoE4ti1TUIVv8yjNsGv8ALUSSJSvlPU/lGXARm1b8H6zy5VfbmRZiM2q/eGr8uVf21kWYAAAAAAAAAAAAAAAAANdxvdTyj4nB/wAUUgm43up5R8Tg/wCKKQAGkZPY1Kk5E2r2VykYm3eP5AmgKI3xkPk5yqTe9tyZqdWoi01I1dJloQ3cI/apn6tnOLIsWIB2lhKmxq2DD5Tk0uyX3UtNkpeh7qd5WpnoehEfAxJq71nHzS7pjWX1bROR9ibY47suyanx+0YsXCpXaunhx6mLEf75Sd1T0gi3nVpSndIzNJHxMyMz1FrN7HOyuyk2tvmTthlq5Nc8xZqr20NMtw3Tcaa5FKiJW8pazUrXUzVw0IiIcsjbDn7d9HxROC16cuOPIsHEu2+kFUNpTaScbcJs1mpa3SSSVIToaVGfDQzlXOy5s7GtnXVNh7ciiqqqFbWTsuw5J9tD61oW22gkGSloNtXSZEfhGomZmNr0rzPvd9pZnKY1jUfVd1/Vdj3V18PF4r1i/LYo5dlK3FtpIpHPEvJWhXgIiePTTwEJjC+w+x/DLjFrNu7sJsqkYmNLU+lP+WqdM+SW5p1spUtKdOpR6jMNbdpd7clitdXNwspctZ1Ysn177cNpljlUy1FoW8lSXGNE8OLmmvARNJtPzDZlkW0Cvt5Ntlcehqo1wTd4hiPIlNJccTNkQ1NIJBsEkkmltZ7+vDhvEZ4iom8sPFfWsJrc3MVnj5uvfWTKWfYhR7KPjNe5kynaqmZiNIJ+taXKbOOreJUeRwUwa9CJWmpeDQxndnvY1RtneXx7CDbRlUsORJlRYJU8ZMneeNRmlyXpyi0JNat0i0Po1MyIYS4z3KNreyqNnWLybulo1tyZddAx5qO7Z2bZGSYzquXI0Ntnopam9N7Q08SPVI2xsjyeRmmzDFr2XKjzZk+uYffkREKQ0tw0FvmlKiIyLe14GRaDpFxe6Y+f66MTUxHCfj++quAAGVTtZ7sP7BV9oSNhDXtZ7sP7BV9oSNhAMJm56YZfH/qD/o1D7w4tMSpC/wBSZ9GQ4s7PTCcgP/y9/wBGoc+IlpilMX+pM/UIBlgAAAAAAAAAAAAAa2w9vtVd5VSK73mticplP/gyEk6R/wDvN0v7o2SNfZI32q2p1EsuDdtXuQVn4VsqN1sv/at4BQgAAAAAAAAAAAAAlczb7aW2LUhd9zyyQ+6n/wAJhJvKP9W8lsv7xCqE9jzfbbarZyj75uorkQ0H4HH1k4v5d1tr94DYIAACM2q/eKq8uVf2xoWYjNqn3kqfLlZ9saFmAAAAAAAAAAAAAAAAADXcb3U8o+Jwf8UUg4r3ZtjWTWZ2FlUsypqkJaN81KSo0lroR7plrpqf7xj+4zhniNr51z+YBlRgM4wmr2hY4/S2yHTjOLbdQ7HcNt5h1tZLbdbWXFK0qSSiMush2u4zhniNr51z+YO4zhniNr51z+YMzJrhfY0Y4Zty27jImL/fdN+/as1JnSUOkhK23F6aGjRtvRJERJ3CMtD4jJM9j1hUWht6aPXvR660rY1VIZbfUX3Bje5MiPpI+/UZn0nrxFr3GcM8RtfOufzB3GcM8RtfOufzByE3K2LYlOy+6yWRW8raXFWVRMUpw9xyP0GW70Eoy0I1FxMkpLqITkPsZMTbiS48+Xd3aJLLENarOyW8oobTnKJia/6EzIt9J8VkXfGYw9RQ10zslLnFXsOkt4yzUNKYkKS6TRvEpRm5va9CtTQXHQzb8I2/3GcM8RtfOufzBGGtcZ7ya12js17J7GvFEpb7UyrnG1tPyXWV009UfkUSDJTzCCLglpSkkrcIuCuKdDGw8XxmtwzHa6jqIxRKyvZTHjskZnuoSWhcT4mfwmPzuM4Z4ja+dc/mDuM4Z4ja+dc/mDdQyoDFdxnDPEbXzrn8wdxnDPEbXzrn8wDpVnuw/sFX2hI2EJ7Hdn+PYnMel1NW1DlPNk0t1JqUo0Eeu7qZnw14ihAYHPj0wbIT/wDL5Ho1Ds4qWmL05f6mz9Qh1NoJ6YJkXk6R6NQ7uL/g1U/FGfqEAyYAAAAAAAAAAAAAIfa60cfGY102X3eknMTyMv8AR73JvF8y46LgdG8qWr2ln1r/APQy2FsL/UpJl/8AkBjEqJSSUR6kZakZD9E5s8snbTDKtcn/AD1hrmksj6n2jNp0v/ehQowAAAAAAAAAAH4ZkkjMz0IuJmMRsiaOVj028WX3a7nvzdT/ANESuSZ/+Jts/lMdbaDaO1GGWz0fjMWyceKkulT7hk20XyrWkWOP1DWP0VfWM/0UOOhhJ+EkpItf9wDIAAAIzan95afy7Wfa2xZiM2p/eem8u1v2psWYAAAAAAAAAAAAAAAAAAAAAAAAAAAIyL7sdn5BifaJAsxGRfdjs/IMT7RIFmAAAAAAAAAAAn9oX4B5H5OkejUO7jPDG6n4o19Qh0don4A5H5OkejUO/jX4O1XxRr6hAMkAAAAAAAAAAAAAAAANb4232qzDL6joSUtFk0n9CQkzM/nG3RDXd/lud7Wr7EMeyIsRr8fr4smRNahNSpEl+QazQkidI0pbSlvjw1M1cDLQbBzBvtVtGxuxT3rdhHfq3j/KUWjzX7t14v74nMy2PIyPKjyWnya5w+9dilBlSqjkFFKYSZmhLiHmnEmaTUrdUREZbx8TLgJOcLulMztsWUYQ2zj9ljnszyyuq1Wty7SPIjMIjE4tKFoJ0yNTiyQo+TLhqlXfdGuP/wCtfDmOyJtZitjY4vEk10aVdpkNNpRz1DKmFJaM99XGQ2Sujd1149AyDnYtUkSFGYo8myPHXeYOVk6XCkMresWHHFur5ZTrS+/Nbjit9BJMt9WnVplmOxyxWHjdzRRHbCJW2cuulraadR9xOEUcmUNmaD0TpGb3t7Uz1VoZalpqM/5axx8Zc7SeWsPu/DqQduLudQ6+qxWDzfKrODYuk3ZHq1VvRXCYUUkk8TLlj3SJPTumIzFuyCuMPLOCy96RkNZjMyGiTZdrSr5LEd1J8rIVH/GYQouCyItUko+O7qew2Ox6xmLabQbCPItI0vNUJROdYlcmqLoSuMY0pI2zNS1LPieqj1+AYhXYx1FqzPLJMmyDKHrJyIVg7PcjpKZHjGo2oriW2Up5LeWalEREpR9KtDMhnHr4z168VmunlM7T9ruaubLmtomNrcx6iTDdlR4DtSc6ZOXvGbJupLgywpCd41a7ySUWploN94/ZduaCtsDUys5cZp/ejr32z3kErVKutPHgfWQ1Q72MkKPTRqqozfLaSAzFerlMRpTC0qhOLNXN9HGVEkkamlCy0WSeBqPhptihpImNUddUV7XIwK+M3Ejt667jaEklJa/ARENRVT48/rWeZzjXD96ywuTt9tcsxCo6UrmqsXU/oR07xH8ji2hska/xJvtttJyGwV3zdZFYrGD8C16vPfvI2C/ujYAigAACM2pfeml8u132lsWYjNqX3qpPLtd9pQLMAAAAAAAAAAAAAAAAAEftTxaZleKrar5MpifEdTLZbjS3I3ODRrqytbaknurIzLp4GZH1CTx7EMeyWmi2MWReE0+nU0LvJpKbUR6KQouW4KSZGRl4SMbcGtbSN7Asz5wkuTx+/dJKyL2sacZcD+BLpFp/XIutYD87mdN+cXXn2b64O5nTfnF159m+uFWOna3EChgOzrObGroTRauSZbqWm0F4TUoyIgGA7mdN+cXXn2b64O5nTfnF159m+uGdprytyOvbn1NhFtILuu5JhPJeaXpwPRSTMjHeARxbKMfTLVKJVsUlSCaU8V1M3zQRmZJNXK66EZmenwmObuZ035xdefZvrhVjhRMjrlORUvtqktoS4tklka0pUZkkzLpIj3VaH16H4AE13M6b84uvPs31wdzOm/OLrz7N9cKla0tIUtaiQhJampR6EReEx8RpLMyO2/HdQ+w6kltutqJSVpMtSMjLgZH4QEz3M6b84uvPs31ww+VYnSY1TuSiXeSZS1JZiRUXs3ekPqPRtsvu3WZlx6i1M+BDYYmMSjezfKnMhdLfp6ta41Wn8V57il6R8JFoaEn/AFz6yAUmz3GJGIYhArJc6RYzGyUt+RJfW8o1qUalESlmat0jPQiM+giFGAAJ3aL+AGSeTpHo1DI45+D1X8Va+oQx20b3P8k8nSPRqGSx38H6z4q19QgGQAAAAAAAAAAAAAAAAEVtejLLDHbRpJqfpX2rRBF0mlpZKcSX62+UT8oyTTqH2kONqJSFpJSVF0GR9BjN2EJuygSYjxEpl9tTSyPrSotD/wCYgNmslx7DYMeQZnLgG5Xv69PKMLU0ev69zX9RkApwAAAAAAHy44lptS1qJKEkalKPoIiH0JjaTLcjYXYtRzMpU0kQGNOnlHlpaTp8q9fkAZHZCwpeHptnUml67kvWhkfSSHVGbRfI0TZfILYdasgNVddFhMkSWY7SGUEXUlJERf8AIdkAAAARm1H72Ufl2v8AtCBZiN2ofe6i8u1/p0iyAAAAAAAAAAAAAAAAAAGNyKgh5RSS6ueg1xZKDQrdPRSfApJ9SiPQyPqMiGSABrvDLeY+1LqLdRHeVSyYkqIt0n0mWrb6S8C08fgUSi6hq/sgX6uu2kbLbLLDYRg0aRNKY7OIjiMzVNIKIt7XvSIvuxEauBKUXXoNs7SKp+uei5dXNKemViDRLjoLjJhmeq0/CpHt0/CRl+MMjHfiXVc0+2bcuFJbJxCtCUhxCi1I/hIyMThI8t5LtAwxm0ZThFs9h+HWuSFGyPLapaGYTrhQ1KQUd4zUhBKWhtC3EpSW8WmpmZmMDjWYZjtDk9rvZ5dx6eHS3c2DaQDaaes0RpaW4r61cmZKLdM9TSREvQj6D4+xeYRua815u1zbTd5HcLc08GnQORLSEJJKUJSki0IiLTQvAJMZ1Oqq+mcalbxjW+/O/UPKWPbUc7tbvCMWdspC5WdQaq/j2bbaSKHHbZSuyaLhoW8aGyT4OdHp0cM2zR1OAbXNuU47udTNyMYrrCXcvSVPPR1m5YHvoNepESNCJKCLTgRaD0mSElpwLhwLh0AaEnrqkj14HqXSN7X8rrDPzu6Ydcd7OzhFTy8TE31eUtnNpc7cNj2fxNo8+xjZAwySpFA0pUImIyY+8wvRB7ykvl90WWumpmj8QyG9NgvuIYB5Bg+gQLrdLUz0LU+ngOlc28THqmTYTF8lEjNmtZkWp6F1ERdJn0EXWYXnzrxfvZWXK/Ne1MJmMqTayoeLVrqmZ9oSjfkI6YsROnKuf1j13E/pK16jF/WVsamrYsCG0liJGaSy02noSlJaEX7iEvs4x6VDiyry3a5O8tzS682Z6nGaL+iYI/0SMzPTpUpR9YshFAAAE5tI9z7JPJ0j0ahk8f8AvDW/FmvqEMXtJ9z3JfJ0j0ZjK0H3irvizf1SAd8AAAAAAAAAAAAAAAABriob7U7QssrfatyTYtWk9X3RHJr0/vM6/rUNjiBzpvtVm+KXCeCJBvVD5/A4knWzP9S2dP8AaGAzwAAAAAACYum+22fYlWe2aYcetXU9Rk0jcRr/AH3Un+tIpxgMHb7bZ3lNufFuITFQx/cSbrp/Kp1Kf9mAvwAAAAABGbUPvfQ+XYHp0izEZtP/AMxoPLsD0xCzAAAAAAAAAAAAAAAAAAAAAfhkRkZGWpGNZ1kf2CZU7jy+9qLA1yqhX4rR67zsYvBu67yC/JMyL2g2aMBm+LJyyiciod5tPZUUiFLIuLEhPFC/hLXgZdZGZdYD8ARNdtVqG4iGrp46m3a1alw3GnNW3UnorQyToaTMtSMukjIx2e6vinjdHzTn8oCtASPdZxI1mjty3vEWpp5JzXTw+1+AfvdXxTxuj5pz+UBWiUajez7MyjGXKY/QupckdaJM0i1Q2fhJsjJZl+UafyTHSs9pMO1jlX4xIKwvJiiYjI5Fe40pXS6szItEoLVR+HTTrGwsVxuNiVDFq4pqWhkjNbrnFbrhnqtxR9alKMzP9YDLAAAAAACa2lcNnmS+TpHozGXovvHXfF2/qkMRtM4bO8l8nP8AozGXo/vLX/F2/qkA7wAAAAAAAAAAAAAAAACO2twXZWB2MmOg3JdbuWTKS6VKYUTm6X6ySaflFiPh5pL7S21lvIWk0qI+sjATkSU1OisyWFk4y8hLiFl0KSZakf7jHMIfG4+X4pSxqb2KLsW4JHHalNWDCUuNJMybPRRkZd7u8DGT7cZb7yH/ADlG/mAUoDXD+1eyjZ1FxBzE3yvpMNU5uP2xj8Wkq0M9d7TX4PAQou3GW+8h/wA5Rv5gFDJkNxI7r7yybaaSa1rPoSki1Mx0NkUNxnBIEx9BtybRS7N1KulJvqNwkn+pKkl8gmskZzDKaSXTpxRyuTOTzdyU5YsKJptRkS1aJMzPvTVwIbUYZRGYbabSSW20khKS6CIi0IByAAAAAACM2n/5lj/l2D6UhZiM2ncYmOl/57B9ILMAAAAAAAAAAAAAAAAAAAABpnD+ydx3MrTEaqGuOq4vbKZXuwESSU7E5u1JcNai04682006t8vAPzKeyPj4pft1UmlcW8nIU08hSXi0YjKS0fPD4e1Ll2tS6tT48BRwditXTVWNxa+bMafx6XLnwX1m2ajefakNq5TvNDSRSVmRERcUp114keOtOx5pMlnXVldzp0u1useKgnPNKQhHFJE5IbTu946rdRx4kXJp0LhxzF3r1+K623P4zEVrUTfSn27trW7hVTcwqY5E28uHKiohrf3EvmTrqUOrXunuINDKnOBGemhFqYscLuL22hSk5FSIpbCNINnRiSUhiQjdIydbXok909dDJSSMjSfSWhnJSdiTMigrqJF3Ph11MiGqmejk1zmFIYJRG9vKQaVGslaKJRGRlrwLUVWEYc7iEWdzq9ssinzpByZE2yWjXe3UpJKEISlDaCJJd6lJdZnqZmY3hF64fvWXPGa1x/TXOPVGXt9lLktjLlQl48qkjIbjodXyiGzcdJo9N3Te323jPj0KLQz6C3UIyo7/AGuZQr8iorUfvdmGLMRQAAAAAAAAAEztN4bOsm8nP+jMZml+80D4u39Uhhdp3uc5N5Of9GYzdNwqIP8AYN/VIB3AAAAAAAAAAAAAASu1HPGdmOBW+USWecR65tLjjZr3CNJrSkz16tN7X5BVDAZ3hsPaBik/H7B19mHMJBOLjGknC3VpWWhqIy6Ul1CTyWKvFN4jtop8+yLKqvHHY9wijr4cznMZ8lIdW+cgia6OBlzfp/T+AQa+y2rWlJWukeKMrG1XJPE8R6yyRvlB009uadTI/g6Bs57Z9zXLpeRVNi9Bm2BQI81s0oU0uPFW+okJLd1I184WRnr1J000PWPPsXMQODzU3rE2yyUsnI+VRqTxHqTBd5/QERmnd6dD6QjGcdau/wDmt6zUZa1MV1ZnIdpF+jJGsax3HY1nfNViLWc3NnHHZYQpRoS2lZIUalqUlZFwIiJOpnxIhd0s56zqIUyTCerZD7KHHIcg0m4woyIzQo0mZGZHw4HpwEBZbIJ9rYNXKcxtabIubuwX7Ctbj/5RFU6pbbakuNKTqje0SsiIy49OovMfpWcco4FUw9IkMw2EMIdlvKeeWSS03lrVxUo+szGoyx1n8UxlOuXzbXE7Z5QyeyLrciXDUdu1SvOlI5ZZd8Tjbae91003VLLTTTjr0ja4jD77bGj9ChV/vkF/KLMRQAAAAAAAAAEbtN/zbHPLsL0gshGbTf8AN8b8uwvrizAAAAAAAAAAAAAAAAAAAAAAAAAAABrD2KpyLavlbp2trX8lBr0btfLNklf5wfHTp6f95jOdzNHvmybzor+AoYdDGg3dlaNms5M9LSHSUfekTZKJOhdXtjGSARnczR75sm86K/gHczR75sm86K/gLMAEZ3M0e+bJvOiv4B3M0e+bJvOiv4CzABGdzNHvmybzor+AdzNHvmybzor+AswAQs/ZLFs4T8STkWSPR30G242uzUaVJMtDIy04kLaOwmNHaZRruNpJBa+Ai0HIAAAAAAAAAAAAAAAAAAAAAAAAA1xd0CMj2svMLnT4BM0jK9+vkqYWer7paGaekuHR8Ayncya6skyYv2s4KFFDGbyJ66I187diNw1EZ97uIWtZaF4dVn/uGSARnczR1ZPkxftRX8A7mpdWU5MX7R//AJFmACM7myurLMmL/wBeX8gdzdwujLslL/1qD/wxZgAjO51ILozHJC/XJaP/AAw7ns0ujNMiL/bMH/hCzABFFs0W/NgPzsmurJuHJRKRHkrZ5M1o4pM91sj/AN4tQAAAAAAAAAAAAAAAAAAAAAAGldvvZS4/2PWW7PKO9rZsosxnqgtTIxp5OHotpBuO6nru6vJ6PAY3UPMHZk9jNkHZD2uKrp3IbUerq7llTsl00KblPstc0WktD1InWiMz6iLrGZmpiauN/p+2oi8HUyL/AKQjEaK72rVzWO21gez5TKJTzK2yRNWt4mTJrU/xVmZGZ+AxSY32ZdK5Y5TXZtit3s9n49S+yCS1aGy8lcLeNBrSplai3t4tN09DMeZUf9H/ALS4+zHLalxymsb2/wAahRpbr01SUyLErFyXJNStzXd0XukrTjp0CnxPsFcmvJ+cxpWO0GyPGMhxdykdqMduH7RMqUbiVtSXDcbQSdzQy0IuO8YsxMbNZzET3i6nrMR33ZpcTtXlEzHaa9ome3R6F2Wdk/J2gZTWVNvs2yjDIlzCXY1FraNtuRpLKUko+UU2pXIKNJkZJXpqLmj28bOslYvXqrNaOxaom1O2a481CyhoTrvKc0PgktD49HAaXp9nvZAZvSOYrmE/GsUxpjHZNMt2ieXKftJC2eSakHvoSbCU+23UmZ66lroNWtdiLtNybFHK2wo8ZxZ+j2dzsKgKrJpuFdPvNpQl97RtPJILc3tD3jJTihduamfxyiJrn/lXtEVzvCphNiLr8sMYvll9zN8ub1rU9kFs1vec9rs5oZvNpDMR42JzaybedPRpB6H0qPgXhMVlZk9TdWdnXQLGNMnVjiWpsdlwlLjrUneSlZF7UzLjoY8k23YVWl/MyKO61WVtfO2eV9BFdiL0WzaxXOUbd3SSXepUSTJXT08BuTsVNkl/sn2byCzKTGn53fWD9xfTIqjU25JcMiJKVGRGaUoShJfqMaqMccr96jxEz1hm5qOfjC58zXSW5gABloAAAAAAAAAAAAAAAAAAABE7adqULYpsuyLN7GG/PhUsY5LsaMZE44RGRaJ14a8esSezzsg5OSxHp2X4VY7Nqs+QRFnX0yMpuW48rdQ2jk1q0UZmWhHprqO52U+zS42w9j7m2G0HN+3FxBOPG504bbW8aiPvlER6Fw8A1RtJ7DWspNhaqPZVjVXU5KmyqbZ+OuS4hqc7EeSs0KcUat3Ut/Q9OsTZzn8srjzOM9I/pdrKPxzx8VXdvnIttOB4lBtJl1l1RWRauUmFNdky0IKO+pJKJpep8FGkyPTp0HBcbeNnWP49TXtlm1HCprk92unPTm0tSj/8NWvfadenR1jyZknYrbT8orM1ubGhqU39zmTWSRItXkDkaTCbKIlkzZk8luk6kyMjJaFJUWvAYC67DTbEvGcKlurq7y3iU1nRzatqazCQw3JeNaFm4Uc0OHunuuGlCFK6SMSLrHPD/wA3PnC8oMLw5+9e2PN6x24dlFgOwjHJ0+7vIL9mzAOwj0rUttMqY0XQbSTPjr1H16D6299kTVbAtjJ7RbKpm2sDeipKFCNPLGb5kSdNeHDe4jyxtA7CzaQxR5rjuO1WO5HEyzF6uo7ZW9gpDtU9DbJBpRq2pS0q3SUk9S0PiY2xtq7FDKM8wxuFEzS3ujfn1TzuPW8lgqyI0w80t7kNxknNd1CiIlKPXUamN0Tvjtc343pE5TMbp71FebZ0+zexB/alhOEwa2fPk5RQov2ZrRo5GO0thb6EL467xobPoGI2ddnbX5tOwtdhs+yPHKHMJioFPeSVx3WH3i39EmlCzWkj5NfE09Q1Fsd7A/PdnmeUd3YTa6eitt7NCHTkma0VXM1x4DZFu9JGtWqerXpMYPY92Cm0LEbPZylWHYrh9ljtqUyzzWsv5EmbYx95ZrY5sbSUJ30rJJnvHpoLFTt4ZYdpx8Rh0ylJuNiePzH3OPXOHo6l7M6Lkd5FfqtnmVWOBSrU6ZnM4rKHIy5BLNs1EylRu8jvkaeU004DbrO2PBpGcrwxrLahzK0EZqp0zEHJLQtTLc111046dI89bK9je3bZBV0uzXHp2MxcCrLhcpGULcW5YOQFPKdOMcVSNzfPeNPKb/R1a8RM1XYnbQY+WV1C9AokY5Bz17NfZo3LM7J5tTinCjG1uaks94mzVv6bpFw6hNnH8Y1/r9zPOq4TN2sPymNZ/UR1vjD0zF7IjZjNspFfHzygenR470p6O3ObNbbTWvKrMteBJ3Va+DQxTQM6x61soFfDuYUqdPh9sYsdp5KlvRtSLlkkXSjVSS16OJDyVgnYa5FSsbKWrOFTKKjyG+n3imndVPRZqHUoSR7nfmZKSSiPTTTr0Fr2IvYx5FsTyLJrPLLGPauMsoocbW0s1qYp2nFuNoXqXBZmsiMi6kJ8Auzjnw+PuYjpJtYZax+omesPToAAgAAAAAAAAAAAAAAAAAAAAAAAAAAAAAAAAAAAAAAAAAAAAAAAAAAAAAAAAAAAAAAAAAAAAAAAAAAAAAAAAAAAAAAAAAAAAAP/2Q==)"
      ],
      "metadata": {
        "id": "S4BHbDJ-v1OD"
      }
    },
    {
      "cell_type": "markdown",
      "source": [
        "Progressive Learning:\n",
        "\n",
        "> According to the paper, The author hypothesized that low resolution images needs week regularizer and high resolution images requires strong regularizer while training to achieve the best accuracy."
      ],
      "metadata": {
        "id": "Ifd-t4utwpJq"
      }
    },
    {
      "cell_type": "markdown",
      "source": [
        "> The Progressive learning method is you start the training with small size images and weak augmentaions to learn the simpler features fast and easily first and then progressively increase the image size but also introduce the strong augmentations to make the learning difficult for the model. The augmentations used by the authors are Dropout, RandAugment, and Mixup."
      ],
      "metadata": {
        "id": "mrxj5zmUw8uf"
      }
    },
    {
      "cell_type": "code",
      "source": [
        "import torch\n",
        "import torch.nn as nn\n",
        "from torchsummary import summary\n"
      ],
      "metadata": {
        "id": "yG9QGDHYBFdG"
      },
      "execution_count": null,
      "outputs": []
    },
    {
      "cell_type": "code",
      "source": [
        "Eff_V2_SETTINGS = {\n",
        "    # expansion factor, k, stride, n_in, n_out, num_layers, use_fusedMBCONV\n",
        "    's' : [\n",
        "        [1, 3, 1, 24, 24, 2, True],\n",
        "        [4, 3, 2, 24, 48, 4, True],\n",
        "        [4, 3, 2, 48, 64, 4, True],\n",
        "        [4, 3, 2, 64, 128, 6, False],\n",
        "        [6, 3, 1, 128, 160, 9, False],\n",
        "        [6, 3, 2, 160, 256, 15, False]\n",
        "    ],\n",
        "\n",
        "    'm' : [\n",
        "        [1, 3, 1, 24, 24, 3, True],\n",
        "        [4, 3, 2, 24, 48, 5, True],\n",
        "        [4, 3, 2, 48, 80, 5, True],\n",
        "        [4, 3, 2, 80, 160, 7, False],\n",
        "        [6, 3, 1, 160, 176, 14, False],\n",
        "        [6, 3, 2, 176, 304, 18, False],\n",
        "        [6, 3, 1, 304, 512, 5, False]\n",
        "    ],\n",
        "\n",
        "    'l' : [\n",
        "        [1, 3, 1, 32, 32, 4, True],\n",
        "        [4, 3, 2, 32, 64, 7, True],\n",
        "        [4, 3, 2, 64, 96, 7, True],\n",
        "        [4, 3, 2, 96, 192, 10, False],\n",
        "        [6, 3, 1, 192, 224, 19, False],\n",
        "        [6, 3, 2, 224, 384, 25, False],\n",
        "        [6, 3, 1, 384, 640, 7, False]\n",
        "    ]\n",
        "}"
      ],
      "metadata": {
        "id": "qTpH2HElyucG"
      },
      "execution_count": null,
      "outputs": []
    },
    {
      "cell_type": "markdown",
      "source": [
        "A simple Convolution + Batch Normalization + Activation Class"
      ],
      "metadata": {
        "id": "NK39CLLPMxrE"
      }
    },
    {
      "cell_type": "code",
      "source": [
        "\n",
        "class ConvBnAct(nn.Module):\n",
        "    def __init__(self,ch_in,ch_out,kernel_size = 3,stride = 1,padding = 0,groups = 1,act = True,bn = True,bias = False):\n",
        "        super(ConvBnAct,self).__init__()\n",
        "        self.conv = nn.Conv2d(ch_in,ch_out,kernel_size,stride,padding = padding, groups = groups,bias = bias)\n",
        "        self.bn = nn.BatchNorm2d(ch_out) if bn else nn.Identity()\n",
        "        self.activation = nn.SiLU() if act else nn.Identity()\n",
        "    def forward(self,x):\n",
        "        out = self.conv(x)\n",
        "        out = self.bn(out)\n",
        "        out = self.activation(out)\n",
        "        return out"
      ],
      "metadata": {
        "id": "R3rVqhwT0D6R"
      },
      "execution_count": null,
      "outputs": []
    },
    {
      "cell_type": "markdown",
      "source": [
        "\n",
        "Squeeze and Excitation Class"
      ],
      "metadata": {
        "id": "hX0y9o-6MqQ7"
      }
    },
    {
      "cell_type": "code",
      "source": [
        "class SqueezeAndExcitation(nn.Module):\n",
        "    def __init__(self,ch_in,reduced_dim):\n",
        "        super(SqueezeAndExcitation,self).__init__()\n",
        "        self.squeeze = nn.AdaptiveAvgPool2d((1,1))\n",
        "        self.excitation = nn.Sequential(\n",
        "            nn.Conv2d(ch_in,reduced_dim,kernel_size=1),\n",
        "            nn.SiLU(),\n",
        "            nn.Conv2d(reduced_dim,ch_in,kernel_size = 1),\n",
        "            nn.Sigmoid()\n",
        "        )\n",
        "    def forward(self,x):\n",
        "        y = self.squeeze(x)\n",
        "        y = self.excitation(y)\n",
        "        return x * y"
      ],
      "metadata": {
        "id": "ognTrQD4Mtjl"
      },
      "execution_count": null,
      "outputs": []
    },
    {
      "cell_type": "markdown",
      "source": [
        "Stochastic Depth Class"
      ],
      "metadata": {
        "id": "MndovuUzOWkm"
      }
    },
    {
      "cell_type": "code",
      "source": [
        "class StochasticDepth(nn.Module):\n",
        "    def __init__(self,survival_prob = 0.8):\n",
        "        super(StochasticDepth,self).__init__()\n",
        "        self.p = survival_prob\n",
        "    def forward(self,x):\n",
        "        if not self.training:\n",
        "            return x\n",
        "        binary_tensor = torch.randn(x.size(0),1,1,1,device = x.device) < self.p\n",
        "\n",
        "        return torch.div(x,self.p) * binary_tensor\n"
      ],
      "metadata": {
        "id": "2abBp1CROXxL"
      },
      "execution_count": null,
      "outputs": []
    },
    {
      "cell_type": "markdown",
      "source": [
        "MBCONV Class"
      ],
      "metadata": {
        "id": "CCVFaW7QRFlj"
      }
    },
    {
      "cell_type": "code",
      "source": [
        "class MBCONV(nn.Module):\n",
        "    def __init__(self,\n",
        "                 ch_in,\n",
        "                 ch_out,\n",
        "                 kernel_size = 3,\n",
        "                 stride = 1,\n",
        "                 expansion_factor = 4,\n",
        "                 reduction_factor = 4,# SqueezeExcitation Block\n",
        "                 survival_prob = 0.8): # StochasticDepth Block\n",
        "        super(MBCONV,self).__init__()\n",
        "        reduced_dim  = int(ch_in // 4)\n",
        "        expanded_dim = int(ch_in * expansion_factor)\n",
        "        padding = (kernel_size - 1) // 2\n",
        "\n",
        "        self.use_residual = (ch_in == ch_out) and (stride == 1)\n",
        "\n",
        "        self.expand = nn.Identity() if expansion_factor == 1 else ConvBnAct(ch_in,expanded_dim,kernel_size = 1)\n",
        "        #dw gconv\n",
        "        self.depthwise_conv = ConvBnAct(expanded_dim,expanded_dim,kernel_size,stride = stride,padding = padding,groups = expanded_dim)\n",
        "        #se\n",
        "        self.se = SqueezeAndExcitation(expanded_dim,reduced_dim)\n",
        "        #stochastic depth\n",
        "        self.droplayers = StochasticDepth(survival_prob)\n",
        "        #pw conv\n",
        "        self.pointwise_conv = ConvBnAct(expanded_dim,ch_out,kernel_size = 1,act = False)\n",
        "    def forward(self,x):\n",
        "        residual = x.clone()\n",
        "        out = self.expand(x)\n",
        "        out = self.depthwise_conv(out)\n",
        "        out = self.se(out)\n",
        "        out = self.pointwise_conv(out)\n",
        "        if self.use_residual:\n",
        "            out = self.droplayers(out)\n",
        "            out += residual\n",
        "        return out"
      ],
      "metadata": {
        "id": "wVbEWqecRBvW"
      },
      "execution_count": null,
      "outputs": []
    },
    {
      "cell_type": "code",
      "source": [
        "# fb = MBCONV(32,64)\n",
        "# summary(fb,(32,224,224))"
      ],
      "metadata": {
        "id": "k5DvlOrWdh1l"
      },
      "execution_count": null,
      "outputs": []
    },
    {
      "cell_type": "markdown",
      "source": [
        "Fused-MBCONV Class"
      ],
      "metadata": {
        "id": "FAuTH278XXdg"
      }
    },
    {
      "cell_type": "code",
      "source": [
        "class FusedMBCONV(nn.Module):\n",
        "    def __init__(self,\n",
        "                 ch_in,\n",
        "                 ch_out,\n",
        "                 kernel_size = 3,\n",
        "                 stride = 1,\n",
        "                 expansion_factor = 4,\n",
        "                 reduction_factor = 4,\n",
        "                 survival_prob = 0.8\n",
        "                 ):\n",
        "        super(FusedMBCONV,self).__init__()\n",
        "        reduced_dim = int(ch_in // reduction_factor)\n",
        "        expanded_dim = int(ch_in * expansion_factor)\n",
        "        padding = (kernel_size - 1) // 2\n",
        "\n",
        "        self.use_residual = (ch_in == ch_out) and (stride == 1)\n",
        "\n",
        "        self.conv = ConvBnAct(ch_in,expanded_dim,kernel_size,stride = stride,padding = padding,groups = 1)\n",
        "        self.se = SqueezeAndExcitation(expanded_dim,reduced_dim)\n",
        "        self.drop_layers = StochasticDepth(survival_prob)\n",
        "        self.pointwise_conv = nn.Identity() if expansion_factor == 1 else ConvBnAct(expanded_dim,ch_out,kernel_size =1,act = False)\n",
        "\n",
        "    def forward(self,x):\n",
        "        residual = x.clone()\n",
        "        out = self.conv(x)\n",
        "        out = self.se(out)\n",
        "        out = self.pointwise_conv(out)\n",
        "        if self.use_residual:\n",
        "            out = self.drop_layers(out)\n",
        "            out += residual\n",
        "        return out"
      ],
      "metadata": {
        "id": "nnrF078KXcMR"
      },
      "execution_count": null,
      "outputs": []
    },
    {
      "cell_type": "code",
      "source": [
        "# fb = FusedMBCONV(32,64)\n",
        "# summary(fb,(32,224,224))"
      ],
      "metadata": {
        "id": "c_ZM7-lmcruc"
      },
      "execution_count": null,
      "outputs": []
    },
    {
      "cell_type": "code",
      "source": [
        "class EfficientNetV2(nn.Module):\n",
        "    def __init__(self,version = 's',dropout_rate = 0.2,n_classes = 10):\n",
        "        super(EfficientNetV2,self).__init__()\n",
        "        last_channel = 1280\n",
        "        self.features = self._feature_extractor(version,last_channel)\n",
        "        self.classifier = nn.Sequential(\n",
        "            nn.AdaptiveAvgPool2d((1,1)),\n",
        "            nn.Flatten(),\n",
        "            nn.Dropout(dropout_rate,inplace = True),\n",
        "            nn.Linear(last_channel,n_classes)\n",
        "        )\n",
        "    def forward(self,x):\n",
        "        out = self.features(x)\n",
        "        out = self.classifier(out)\n",
        "        return out\n",
        "\n",
        "\n",
        "        return nn.Sequential(*layers)\n",
        "\n",
        "    def _feature_extractor(self,version,last_channel):\n",
        "        config = Eff_V2_SETTINGS[version]\n",
        "        layers = []\n",
        "        layers.append(ConvBnAct(3,config[0][3],kernel_size = 3,stride = 2,padding = 1))\n",
        "\n",
        "        for (expansion_factor, k, stride, n_in, n_out, num_layers, use_fused) in config:\n",
        "            if use_fused:\n",
        "                layers += [\n",
        "                    FusedMBCONV(\n",
        "                        n_in if repeat == 0 else n_out,\n",
        "                        n_out,\n",
        "                        kernel_size = k,\n",
        "                        stride =stride if repeat == 0 else 1,\n",
        "                        expansion_factor= expansion_factor\n",
        "                    )\n",
        "                    for repeat in range(num_layers)\n",
        "                ]\n",
        "            else:\n",
        "                layers +=[\n",
        "                    MBCONV(n_in if repeat == 0 else n_out,\n",
        "                           n_out,\n",
        "                           kernel_size = k,\n",
        "                           stride = stride if repeat == 0 else 1,\n",
        "                           expansion_factor= expansion_factor\n",
        "                           )\n",
        "                    for repeat in range(num_layers)\n",
        "                ]\n",
        "        layers.append(ConvBnAct(config[-1][4],last_channel,kernel_size = 1))\n",
        "        return nn.Sequential(*layers)"
      ],
      "metadata": {
        "id": "9PS9vf3Gdno0"
      },
      "execution_count": null,
      "outputs": []
    },
    {
      "cell_type": "code",
      "source": [
        "def test(version = 's', num_classes = 1000):\n",
        "    net = EfficientNetV2(version = version, n_classes= num_classes)\n",
        "    x = torch.rand(4, 3, 224, 224)\n",
        "    y = net(x)\n",
        "    print(y.size())\n",
        "\n",
        "test()"
      ],
      "metadata": {
        "colab": {
          "base_uri": "https://localhost:8080/"
        },
        "id": "Hqa4RR1Txgb7",
        "outputId": "13e6433c-fc30-41c3-9b7a-795cc7e7b430"
      },
      "execution_count": null,
      "outputs": [
        {
          "output_type": "stream",
          "name": "stdout",
          "text": [
            "torch.Size([4, 1000])\n"
          ]
        }
      ]
    }
  ]
}