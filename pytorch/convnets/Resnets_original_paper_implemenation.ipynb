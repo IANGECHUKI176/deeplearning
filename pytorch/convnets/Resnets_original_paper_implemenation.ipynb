{
  "nbformat": 4,
  "nbformat_minor": 0,
  "metadata": {
    "colab": {
      "provenance": [],
      "gpuType": "T4",
      "authorship_tag": "ABX9TyOWyVTVzoPZdc5iMGvqkT6K",
      "include_colab_link": true
    },
    "kernelspec": {
      "name": "python3",
      "display_name": "Python 3"
    },
    "language_info": {
      "name": "python"
    },
    "accelerator": "GPU"
  },
  "cells": [
    {
      "cell_type": "markdown",
      "metadata": {
        "id": "view-in-github",
        "colab_type": "text"
      },
      "source": [
        "<a href=\"https://colab.research.google.com/github/IANGECHUKI176/deeplearning/blob/main/pytorch/convnets/Resnets_original_paper_implemenation.ipynb\" target=\"_parent\"><img src=\"https://colab.research.google.com/assets/colab-badge.svg\" alt=\"Open In Colab\"/></a>"
      ]
    },
    {
      "cell_type": "code",
      "execution_count": 1,
      "metadata": {
        "id": "4BvIII1B1sA1"
      },
      "outputs": [],
      "source": [
        "import torch\n",
        "import torch.nn as nn\n",
        "import torch.nn.functional as F"
      ]
    },
    {
      "cell_type": "code",
      "source": [
        "class BasicBlock(nn.Module):\n",
        "    expansion = 1\n",
        "    def __init__(self,in_channels,out_channels,stride = 1):\n",
        "        super(BasicBlock,self).__init__()\n",
        "        self.conv1 = nn.Conv2d(in_channels,out_channels,kernel_size = 3,stride = stride ,padding = 1,bias = False)\n",
        "        self.bn1 = nn.BatchNorm2d(out_channels)\n",
        "        self.conv2 = nn.Conv2d(out_channels,out_channels,kernel_size = 3,stride = 1,padding = 1,bias = False)\n",
        "        self.bn2 = nn.BatchNorm2d(out_channels)\n",
        "\n",
        "        self.shortcut = nn.Sequential()\n",
        "        if stride != 1 or in_channels != self.expansion * out_channels:\n",
        "            self.shortcut = nn.Sequential(\n",
        "                nn.Conv2d(in_channels,self.expansion * out_channels,kernel_size = 1,stride = stride,bias = False),\n",
        "                nn.BatchNorm2d(self.expansion * out_channels)\n",
        "            )\n",
        "    def forward(self,x):\n",
        "        identity = x\n",
        "        x = F.relu(self.bn1(self.conv1(x)))\n",
        "        x = self.bn2(self.conv2(x))\n",
        "        x += self.shortcut(identity)\n",
        "        x = F.relu(x)\n",
        "        return x\n"
      ],
      "metadata": {
        "id": "Xl-hkLMdlmll"
      },
      "execution_count": 2,
      "outputs": []
    },
    {
      "cell_type": "code",
      "source": [
        "class BottleneckBlock(nn.Module):\n",
        "    expansion = 4\n",
        "    def __init__(self,in_channels,out_channels,stride = 1):\n",
        "        super(BottleneckBlock,self).__init__()\n",
        "        self.conv1 = nn.Conv2d(in_channels,out_channels,kernel_size = 1,stride = 1,bias = False)\n",
        "        self.bn1 = nn.BatchNorm2d(out_channels)\n",
        "        self.conv2 = nn.Conv2d(out_channels,out_channels,kernel_size = 3,stride = stride,padding = 1,bias = False)\n",
        "        self.bn2 = nn.BatchNorm2d(out_channels)\n",
        "        self.conv3 = nn.Conv2d(out_channels,out_channels * self.expansion,kernel_size = 1,stride=1,bias = False)\n",
        "        self.bn3 = nn.BatchNorm2d(out_channels * self.expansion)\n",
        "        self.relu = nn.ReLU()\n",
        "        self.shortcut = nn.Sequential()\n",
        "        if stride != 1 or in_channels != self.expansion * out_channels :\n",
        "            self.shortcut = nn.Sequential(\n",
        "                nn.Conv2d(in_channels,self.expansion*out_channels,kernel_size = 1,stride = stride,bias = False),\n",
        "                nn.BatchNorm2d(self.expansion * out_channels)\n",
        "            )\n",
        "    def forward(self,x):\n",
        "        identity = x\n",
        "        x = self.relu(self.bn1(self.conv1(x)))\n",
        "        x = self.relu(self.bn2(self.conv2(x)))\n",
        "        x = self.bn3(self.conv3(x))\n",
        "\n",
        "        identity = self.shortcut(identity)\n",
        "        x += identity\n",
        "        x = self.relu(x)\n",
        "        return x"
      ],
      "metadata": {
        "id": "goVrRCEY5J7m"
      },
      "execution_count": 3,
      "outputs": []
    },
    {
      "cell_type": "code",
      "source": [
        "class Resnet(nn.Module):\n",
        "    def __init__(self,block,layers,num_classes):\n",
        "        super(Resnet,self).__init__()\n",
        "        self.in_channels =64\n",
        "\n",
        "        self.conv1 = nn.Conv2d(3,64,kernel_size = 7,stride = 2,padding = 3,bias = False)\n",
        "        self.bn1 = nn.BatchNorm2d(64)\n",
        "        self.maxpool = nn.MaxPool2d(kernel_size = 3,stride = 2,padding = 1)\n",
        "\n",
        "        self.layer1 = self._make_layer(block,64,layers[0],stride = 1)\n",
        "        self.layer2 = self._make_layer(block,128,layers[1],stride = 2)\n",
        "        self.layer3 = self._make_layer(block,256,layers[2],stride = 2)\n",
        "        self.layer4 = self._make_layer(block,512,layers[3],stride = 2)\n",
        "\n",
        "        self.avgpool = nn.AdaptiveAvgPool2d((1,1))\n",
        "        self.fc = nn.Linear(512 * block.expansion,num_classes)\n",
        "    def _make_layer(self,block,out_channels,blocks,stride =1):\n",
        "        layers = []\n",
        "        layers.append(block(self.in_channels,out_channels,stride))\n",
        "        self.in_channels = out_channels * block.expansion\n",
        "        for i in range(1,blocks):\n",
        "            layers.append(block(self.in_channels,out_channels))\n",
        "        return nn.Sequential(*layers)\n",
        "    def forward(self,x):\n",
        "        x = F.relu(self.bn1(self.conv1(x)))\n",
        "        x = self.maxpool(x)\n",
        "\n",
        "        x = self.layer1(x)\n",
        "        x = self.layer2(x)\n",
        "        x = self.layer3(x)\n",
        "        x = self.layer4(x)\n",
        "\n",
        "        x = self.avgpool(x)\n",
        "        x= torch.flatten(x,1)\n",
        "        x = self.fc(x)\n",
        "        return x"
      ],
      "metadata": {
        "id": "8XZRpVINAUdb"
      },
      "execution_count": 4,
      "outputs": []
    },
    {
      "cell_type": "code",
      "source": [
        "input = torch.randn(64,3,224,224)\n",
        "\n",
        "def resnet18(num_classes=10):\n",
        "    return Resnet(BasicBlock,[2, 2, 2, 2],num_classes)\n",
        "\n",
        "def resnet34(num_classes=10):\n",
        "    return Resnet(BasicBlock,[3, 4, 6, 3],num_classes)"
      ],
      "metadata": {
        "id": "_g41HixHsUcO"
      },
      "execution_count": 5,
      "outputs": []
    },
    {
      "cell_type": "code",
      "source": [
        "def resnet50(num_classes = 10):\n",
        "    return Resnet(BottleneckBlock,[3, 4, 6, 3],num_classes)\n",
        "\n",
        "def resnet101(num_classes = 10):\n",
        "    return Resnet(BottleneckBlock,[3, 4, 23, 3],num_classes)\n",
        "\n",
        "def resnet152(num_classes = 10):\n",
        "    return Resnet(BottleneckBlock,[3, 8, 36, 3],num_classes)"
      ],
      "metadata": {
        "id": "UoaGaCruGPXf"
      },
      "execution_count": 6,
      "outputs": []
    }
  ]
}