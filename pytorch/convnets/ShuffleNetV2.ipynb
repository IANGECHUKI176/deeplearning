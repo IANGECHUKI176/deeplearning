{
  "nbformat": 4,
  "nbformat_minor": 0,
  "metadata": {
    "colab": {
      "provenance": [],
      "gpuType": "T4",
      "authorship_tag": "ABX9TyOCJd8+lL/W4l7oQm2z4El5",
      "include_colab_link": true
    },
    "kernelspec": {
      "name": "python3",
      "display_name": "Python 3"
    },
    "language_info": {
      "name": "python"
    }
  },
  "cells": [
    {
      "cell_type": "markdown",
      "metadata": {
        "id": "view-in-github",
        "colab_type": "text"
      },
      "source": [
        "<a href=\"https://colab.research.google.com/github/IANGECHUKI176/deeplearning/blob/main/pytorch/convnets/ShuffleNetV2.ipynb\" target=\"_parent\"><img src=\"https://colab.research.google.com/assets/colab-badge.svg\" alt=\"Open In Colab\"/></a>"
      ]
    },
    {
      "cell_type": "markdown",
      "source": [
        "Ningning Ma, Xiangyu Zhang, Hai-Tao Zheng, Jian Sun\n",
        "\n",
        "ShuffleNet V2: Practical Guidelines for Efficient CNN Architecture Design\n",
        "> https://arxiv.org/abs/1807.11164"
      ],
      "metadata": {
        "id": "9x_x9s7onH_5"
      }
    },
    {
      "cell_type": "code",
      "execution_count": null,
      "metadata": {
        "id": "5MQqwlZLcrHx"
      },
      "outputs": [],
      "source": [
        "import torch\n",
        "import torch.nn as nn\n",
        "import torch.nn.functional as F\n",
        "from torchsummary import summary"
      ]
    },
    {
      "cell_type": "code",
      "source": [
        "class ShuffleBlock(nn.Module):\n",
        "    def __init__(self,groups = 2):\n",
        "        super(ShuffleBlock,self).__init__()\n",
        "        self.groups = groups\n",
        "    def forward(self,x):\n",
        "        '''Channel shuffle: [N,C,H,W] -> [N,g,C/g,H,W] -> [N,C/g,g,H,w] -> [N,C,H,W]'''\n",
        "        N,C,H,W = x.size()\n",
        "        g = self.groups\n",
        "        x = x.view(N,g,int(C/g),H,W)\n",
        "        x = x.permute(0,2,1,3,4)\n",
        "        x = x.reshape(N,C,H,W)\n",
        "        return x"
      ],
      "metadata": {
        "id": "pZB9_yPhqIdL"
      },
      "execution_count": null,
      "outputs": []
    },
    {
      "cell_type": "code",
      "source": [
        "class SplitBlock(nn.Module):\n",
        "    def __init__(self,ratio):\n",
        "        super(SplitBlock,self).__init__()\n",
        "        self.ratio = ratio\n",
        "    def forward(self,x):\n",
        "        c = int(x.size(1) * self.ratio)\n",
        "        return x[:,:c,:,:],x[:,c:,:,:]\n",
        "        #return torch.split(x,self.ratio,dim =1) #use whole number to indicate no of splits"
      ],
      "metadata": {
        "id": "dsV_bKaltdMD"
      },
      "execution_count": null,
      "outputs": []
    },
    {
      "cell_type": "code",
      "source": [
        "blk = SplitBlock(0.5)\n",
        "x = torch.randn(2,4,224,224)\n",
        "c,d = blk(x)\n",
        "c.shape,d.shape"
      ],
      "metadata": {
        "id": "WnSoA-louT1f",
        "colab": {
          "base_uri": "https://localhost:8080/"
        },
        "outputId": "7f68ecd3-7765-4dff-934f-d56f4309bcc0"
      },
      "execution_count": null,
      "outputs": [
        {
          "output_type": "execute_result",
          "data": {
            "text/plain": [
              "(torch.Size([2, 2, 224, 224]), torch.Size([2, 2, 224, 224]))"
            ]
          },
          "metadata": {},
          "execution_count": 127
        }
      ]
    },
    {
      "cell_type": "code",
      "source": [
        "class BasicBlock(nn.Module):\n",
        "    def __init__(self,in_channels,split_ratio = 0.5):\n",
        "        super(BasicBlock,self).__init__()\n",
        "        self.split = SplitBlock(split_ratio)\n",
        "        in_channels = int(in_channels * split_ratio)\n",
        "\n",
        "        #1X1CONV\n",
        "        self.conv1 = nn.Conv2d(in_channels,in_channels,kernel_size=1,bias = False)\n",
        "        self.bn1 = nn.BatchNorm2d(in_channels)\n",
        "        #DWCONV\n",
        "        self.conv2 = nn.Conv2d(in_channels,in_channels,kernel_size=3,padding = 1,stride = 1,groups = in_channels,bias = False)\n",
        "        self.bn2 = nn.BatchNorm2d(in_channels)\n",
        "        #1X1CONV\n",
        "        self.conv3 = nn.Conv2d(in_channels,in_channels,kernel_size = 1,bias = False)\n",
        "        self.bn3 = nn.BatchNorm2d(in_channels)\n",
        "        self.shuffle = ShuffleBlock()\n",
        "    def forward(self,x):\n",
        "        x1,x2 = self.split(x)\n",
        "        out = F.relu(self.bn1(self.conv1(x2)))\n",
        "        out = self.bn2(self.conv2(out))\n",
        "        out = F.relu(self.bn3(self.conv3(out)))\n",
        "        out = torch.cat([x1,out],1)\n",
        "        out = self.shuffle(out)\n",
        "        return out"
      ],
      "metadata": {
        "id": "1WYVH8sKwNIY"
      },
      "execution_count": null,
      "outputs": []
    },
    {
      "cell_type": "code",
      "source": [
        "class DownBlock(nn.Module):\n",
        "    def __init__(self,in_channels,out_channels):\n",
        "        super(DownBlock,self).__init__()\n",
        "        mid_channels = out_channels // 2\n",
        "        #left\n",
        "        self.conv1 = nn.Conv2d(in_channels,in_channels,kernel_size= 3,stride = 2,padding = 1,groups = in_channels,bias = False)\n",
        "        self.bn1 = nn.BatchNorm2d(mid_channels)\n",
        "\n",
        "        self.conv2 = nn.Conv2d(in_channels,mid_channels,kernel_size=1,bias = False)\n",
        "        self.bn2 = nn.BatchNorm2d(mid_channels)\n",
        "        #right\n",
        "        #1x1 CONV\n",
        "        self.conv3 = nn.Conv2d(in_channels,mid_channels,kernel_size = 1,bias = False)\n",
        "        self.bn3 = nn.BatchNorm2d(mid_channels)\n",
        "        #3x3 DWGCONV\n",
        "        self.conv4 = nn.Conv2d(mid_channels,mid_channels,kernel_size = 3,stride = 2,padding = 1,groups = mid_channels,bias = False)\n",
        "        self.bn4 = nn.BatchNorm2d(mid_channels)\n",
        "\n",
        "        #1X1 CONV\n",
        "        self.conv5 = nn.Conv2d(mid_channels,mid_channels,kernel_size = 1,bias = False)\n",
        "        self.bn5 = nn.BatchNorm2d(mid_channels)\n",
        "\n",
        "        self.shuffle = ShuffleBlock()\n",
        "\n",
        "    def forward(self,x):\n",
        "        #LEFT\n",
        "        out1 = self.bn1(self.conv1(x))\n",
        "        out1 = F.relu(self.bn2(self.conv2(out1)))\n",
        "\n",
        "        #RIGHT\n",
        "        out2 = F.relu(self.bn3(self.conv3(x)))\n",
        "        out2 = self.bn4(self.conv4(out2))\n",
        "        out2 = F.relu(self.bn5(self.conv5(out2)))\n",
        "\n",
        "        out = torch.cat([out1,out2],1)\n",
        "\n",
        "        out = self.shuffle(out)\n",
        "        return out"
      ],
      "metadata": {
        "id": "sghxn3OX3dV_"
      },
      "execution_count": null,
      "outputs": []
    },
    {
      "cell_type": "code",
      "source": [
        "blk2 = DownBlock(32,64)\n",
        "\n",
        "summary(blk2,(32,224,224))"
      ],
      "metadata": {
        "colab": {
          "base_uri": "https://localhost:8080/"
        },
        "id": "hw6e7cnu8BCB",
        "outputId": "e9cb251c-8117-4219-eeb3-11d69232faa4"
      },
      "execution_count": null,
      "outputs": [
        {
          "output_type": "stream",
          "name": "stdout",
          "text": [
            "----------------------------------------------------------------\n",
            "        Layer (type)               Output Shape         Param #\n",
            "================================================================\n",
            "            Conv2d-1         [-1, 32, 112, 112]             288\n",
            "       BatchNorm2d-2         [-1, 32, 112, 112]              64\n",
            "            Conv2d-3         [-1, 32, 112, 112]           1,024\n",
            "       BatchNorm2d-4         [-1, 32, 112, 112]              64\n",
            "            Conv2d-5         [-1, 32, 224, 224]           1,024\n",
            "       BatchNorm2d-6         [-1, 32, 224, 224]              64\n",
            "            Conv2d-7         [-1, 32, 112, 112]             288\n",
            "       BatchNorm2d-8         [-1, 32, 112, 112]              64\n",
            "            Conv2d-9         [-1, 32, 112, 112]           1,024\n",
            "      BatchNorm2d-10         [-1, 32, 112, 112]              64\n",
            "     ShuffleBlock-11         [-1, 64, 112, 112]               0\n",
            "================================================================\n",
            "Total params: 3,968\n",
            "Trainable params: 3,968\n",
            "Non-trainable params: 0\n",
            "----------------------------------------------------------------\n",
            "Input size (MB): 6.12\n",
            "Forward/backward pass size (MB): 55.12\n",
            "Params size (MB): 0.02\n",
            "Estimated Total Size (MB): 61.27\n",
            "----------------------------------------------------------------\n"
          ]
        }
      ]
    },
    {
      "cell_type": "code",
      "source": [
        "class ShuffleNetV2(nn.Module):\n",
        "    def __init__(self,configs,net_size,n_classes):\n",
        "        super(ShuffleNetV2,self).__init__()\n",
        "        out_channels = configs[net_size]['out_channels']\n",
        "        num_blocks = configs[net_size]['num_blocks']\n",
        "\n",
        "        self.conv1 = nn.Conv2d(3,24,kernel_size = 3,stride = 1,padding = 1,bias = False)\n",
        "        self.bn1 = nn.BatchNorm2d(24)\n",
        "        self.in_channels = 24\n",
        "\n",
        "        self.layer1 = self._make_layer(out_channels[0],num_blocks[0])\n",
        "        self.layer2 = self._make_layer(out_channels[1],num_blocks[1])\n",
        "        self.layer3 = self._make_layer(out_channels[2],num_blocks[2])\n",
        "\n",
        "        self.conv2 = nn.Conv2d(out_channels[2],out_channels[3],kernel_size = 1,stride = 1,padding= 0,bias = False)\n",
        "        self.bn2 = nn.BatchNorm2d(out_channels[3])\n",
        "        self.adaptive_pool = nn.AdaptiveAvgPool2d((1,1))\n",
        "        self.linear = nn.Linear(out_channels[3],n_classes)\n",
        "    def _make_layer(self,out_channels,num_blocks):\n",
        "        layers = [DownBlock(self.in_channels,out_channels)]\n",
        "        for i in range(num_blocks):\n",
        "            layers.append(BasicBlock(out_channels))\n",
        "            self.in_channels = out_channels\n",
        "        return nn.Sequential(*layers)\n",
        "    def forward(self,x):\n",
        "        out = F.relu(self.bn1(self.conv1(x)))\n",
        "\n",
        "        out = self.layer1(out)\n",
        "        out = self.layer2(out)\n",
        "        out = self.layer3(out)\n",
        "        out = F.relu(self.bn2(self.conv2(out)))\n",
        "        out = self.adaptive_pool(out)\n",
        "        out = out.view(out.size(0),-1)\n",
        "        out = self.linear(out)\n",
        "        return out"
      ],
      "metadata": {
        "id": "_hsDepbZ9GE8"
      },
      "execution_count": null,
      "outputs": []
    },
    {
      "cell_type": "code",
      "source": [
        "configs = {\n",
        "    0.5: {\n",
        "        'out_channels': (48, 96, 192, 1024),\n",
        "        'num_blocks': (3, 7, 3)\n",
        "    },\n",
        "\n",
        "    1: {\n",
        "        'out_channels': (116, 232, 464, 1024),\n",
        "        'num_blocks': (3, 7, 3)\n",
        "    },\n",
        "    1.5: {\n",
        "        'out_channels': (176, 352, 704, 1024),\n",
        "        'num_blocks': (3, 7, 3)\n",
        "    },\n",
        "    2: {\n",
        "        'out_channels': (224, 488, 976, 2048),\n",
        "        'num_blocks': (3, 7, 3)\n",
        "    }\n",
        "}"
      ],
      "metadata": {
        "id": "ZyIxwphICoZ-"
      },
      "execution_count": null,
      "outputs": []
    },
    {
      "cell_type": "code",
      "source": [
        "net = ShuffleNetV2(configs=configs,net_size=0.5,n_classes = 10)\n",
        "input = torch.randn(2,3,224,224)\n",
        "#summary(blk5,(3,224,224))\n",
        "net(input).shape"
      ],
      "metadata": {
        "colab": {
          "base_uri": "https://localhost:8080/"
        },
        "id": "kkb0Yd2aCj7I",
        "outputId": "f76812f2-f3c8-4702-9b30-8f828ea4d8ac"
      },
      "execution_count": null,
      "outputs": [
        {
          "output_type": "execute_result",
          "data": {
            "text/plain": [
              "torch.Size([2, 10])"
            ]
          },
          "metadata": {},
          "execution_count": 137
        }
      ]
    }
  ]
}