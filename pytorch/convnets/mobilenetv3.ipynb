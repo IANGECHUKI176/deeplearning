{
  "nbformat": 4,
  "nbformat_minor": 0,
  "metadata": {
    "colab": {
      "provenance": [],
      "authorship_tag": "ABX9TyNoxUjFG7mPPyAnxLohKm9E",
      "include_colab_link": true
    },
    "kernelspec": {
      "name": "python3",
      "display_name": "Python 3"
    },
    "language_info": {
      "name": "python"
    }
  },
  "cells": [
    {
      "cell_type": "markdown",
      "metadata": {
        "id": "view-in-github",
        "colab_type": "text"
      },
      "source": [
        "<a href=\"https://colab.research.google.com/github/IANGECHUKI176/deeplearning/blob/main/pytorch/convnets/mobilenetv3.ipynb\" target=\"_parent\"><img src=\"https://colab.research.google.com/assets/colab-badge.svg\" alt=\"Open In Colab\"/></a>"
      ]
    },
    {
      "cell_type": "markdown",
      "source": [
        "Creates a MobileNetV3 Model as defined in:\n",
        "Andrew Howard, Mark Sandler, Grace Chu, Liang-Chieh Chen, Bo Chen, Mingxing Tan, Weijun Wang, Yukun Zhu, Ruoming Pang, Vijay Vasudevan, Quoc V. Le, Hartwig Adam. (2019).\n",
        "Searching for MobileNetV3\n",
        "> arXiv preprint https://arxiv.org/pdf/1905.02244.pdf"
      ],
      "metadata": {
        "id": "k4RPI7HAUIZg"
      }
    },
    {
      "cell_type": "code",
      "execution_count": null,
      "metadata": {
        "id": "LhYHsK5L8eRh"
      },
      "outputs": [],
      "source": [
        "import torch\n",
        "import torch.nn as nn\n",
        "import math\n",
        "from torchsummary import summary"
      ]
    },
    {
      "cell_type": "code",
      "source": [
        "def _make_divisible(v, divisor, min_value=None):\n",
        "    \"\"\"\n",
        "    This function is taken from the original tf repo.\n",
        "    It ensures that all layers have a channel number that is divisible by 8\n",
        "    It can be seen here:\n",
        "    https://github.com/tensorflow/models/blob/master/research/slim/nets/mobilenet/mobilenet.py\n",
        "    :param v:\n",
        "    :param divisor:\n",
        "    :param min_value:\n",
        "    :return:\n",
        "    \"\"\"\n",
        "    if min_value is None:\n",
        "        min_value = divisor\n",
        "    new_v = max(min_value, int(v + divisor / 2) // divisor * divisor)\n",
        "    # Make sure that round down does not go down by more than 10%.\n",
        "    if new_v < 0.9 * v:\n",
        "        new_v += divisor\n",
        "    return new_v"
      ],
      "metadata": {
        "id": "BQlpEsgJVGpe"
      },
      "execution_count": null,
      "outputs": []
    },
    {
      "cell_type": "code",
      "source": [
        "class h_sigmoid(nn.Module):\n",
        "    def __init__(self,inplace = True):\n",
        "        super(h_sigmoid,self).__init__()\n",
        "        self.relu = nn.ReLU6(inplace = inplace)\n",
        "\n",
        "    def forward(self,x):\n",
        "        return self.relu(x + 3)  / 6"
      ],
      "metadata": {
        "id": "4JFkmMKHVhNO"
      },
      "execution_count": null,
      "outputs": []
    },
    {
      "cell_type": "code",
      "source": [
        "class h_swish(nn.Module):\n",
        "    def __init__(self,inplace = True):\n",
        "        super(h_swish,self).__init__()\n",
        "        self.sigmoid = h_sigmoid(inplace = inplace)\n",
        "\n",
        "    def forward(self,x):\n",
        "        return x * self.sigmoid(x)"
      ],
      "metadata": {
        "id": "ezPvpNDCXvK3"
      },
      "execution_count": null,
      "outputs": []
    },
    {
      "cell_type": "code",
      "source": [
        "class SELayer(nn.Module):\n",
        "    def __init__(self,in_channel,reduction = 4):\n",
        "        super(SELayer,self).__init__()\n",
        "        mid_channel = _make_divisible(in_channel // reduction, 8)\n",
        "        self.avg_pool = nn.AdaptiveAvgPool2d((1,1))\n",
        "        self.fc = nn.Sequential(\n",
        "            nn.Linear(in_channel,mid_channel),\n",
        "            nn.ReLU(inplace = True),\n",
        "            nn.Linear(mid_channel,in_channel),\n",
        "            h_sigmoid()\n",
        "        )\n",
        "    def forward(self,x):\n",
        "        b,c,_,_ = x.size()\n",
        "        y = self.avg_pool(x).view(b,c)\n",
        "        y = self.fc(y).view(b,c,1,1)\n",
        "        return x * y"
      ],
      "metadata": {
        "id": "W19WYD1hYj1F"
      },
      "execution_count": null,
      "outputs": []
    },
    {
      "cell_type": "code",
      "source": [
        "def conv_3x3_bn(ch_in,ch_out,stride):\n",
        "    return nn.Sequential(\n",
        "        nn.Conv2d(ch_in,ch_out,3,stride ,1,bias = False),\n",
        "        nn.BatchNorm2d(ch_out),\n",
        "        h_swish()\n",
        "    )"
      ],
      "metadata": {
        "id": "uaL-QVZPdJeQ"
      },
      "execution_count": null,
      "outputs": []
    },
    {
      "cell_type": "code",
      "source": [
        "def conv_1x1_bn(ch_in,ch_out):\n",
        "    return nn.Sequential(\n",
        "        nn.Conv2d(ch_in,ch_out,1,1 ,0,bias = False),\n",
        "        nn.BatchNorm2d(ch_out),\n",
        "        h_swish()\n",
        "    )"
      ],
      "metadata": {
        "id": "Xu-685qbd3gb"
      },
      "execution_count": null,
      "outputs": []
    },
    {
      "cell_type": "code",
      "source": [
        "class InvertedResidual(nn.Module):\n",
        "    def __init__(self,ch_in,hidden_dim,ch_out,kernel_size,stride,use_se,use_hs):\n",
        "        super(InvertedResidual,self).__init__()\n",
        "\n",
        "        assert stride in [1,2]\n",
        "\n",
        "        self.identity = stride == 1 and ch_in == ch_out\n",
        "        if ch_in == hidden_dim:\n",
        "            self.conv = nn.Sequential(\n",
        "                #dw gcov\n",
        "                nn.Conv2d(hidden_dim,hidden_dim,kernel_size,stride,(kernel_size - 1)//2,groups = hidden_dim,bias = False),\n",
        "                nn.BatchNorm2d(hidden_dim),\n",
        "                #se\n",
        "                SELayer(hidden_dim) if use_hs else nn.Identity(),\n",
        "                h_swish() if use_hs else nn.ReLU(inplace  = True),\n",
        "                #pwlinear\n",
        "                nn.Conv2d(hidden_dim,ch_out,1,1,0,bias = False),\n",
        "                nn.BatchNorm2d(ch_out)\n",
        "            )\n",
        "        else:\n",
        "            self.conv = nn.Sequential(\n",
        "                #pw\n",
        "                nn.Conv2d(ch_in,hidden_dim,1,1,0,bias = False),\n",
        "                nn.BatchNorm2d(hidden_dim),\n",
        "                h_swish() if use_hs else nn.ReLU(inplace = True),\n",
        "                #dw gcov\n",
        "                nn.Conv2d(hidden_dim,hidden_dim,kernel_size,stride,(kernel_size - 1)//2,groups = hidden_dim,bias = False),\n",
        "                nn.BatchNorm2d(hidden_dim),\n",
        "                #se\n",
        "                SELayer(hidden_dim) if use_hs else nn.Identity(),\n",
        "                h_swish() if use_hs else nn.ReLU(inplace  = True),\n",
        "                #pwlinear\n",
        "                nn.Conv2d(hidden_dim,ch_out,1,1,0,bias = False),\n",
        "                nn.BatchNorm2d(ch_out)\n",
        "            )\n",
        "    def forward(self,x):\n",
        "        if self.identity:\n",
        "            return x + self.conv(x)\n",
        "        else:\n",
        "            return self.conv(x)"
      ],
      "metadata": {
        "id": "V9JkYXPueShx"
      },
      "execution_count": null,
      "outputs": []
    },
    {
      "cell_type": "code",
      "source": [
        "class MobileNetV3(nn.Module):\n",
        "    def __init__(self,cfgs,mode ,num_classes = 10,width_mult = 1):\n",
        "        super(MobileNetV3,self).__init__()\n",
        "        self.cfgs = cfgs\n",
        "        assert mode in ['large','small']\n",
        "        input_channel = _make_divisible(16 * width_mult, 8)\n",
        "        layers = [conv_3x3_bn(3, input_channel, 2)]\n",
        "\n",
        "        block = InvertedResidual\n",
        "        for k, t, c, use_se, use_hs, s in self.cfgs:\n",
        "            output_channel = _make_divisible(c * width_mult, 8)\n",
        "            exp_size = _make_divisible(input_channel * t, 8)\n",
        "            layers.append(block(input_channel,exp_size,output_channel,k,s,use_se,use_hs))\n",
        "            input_channel = output_channel\n",
        "        self.features = nn.Sequential(*layers)\n",
        "        self.conv = conv_1x1_bn(input_channel,exp_size,)\n",
        "        self.avgpool = nn.AdaptiveAvgPool2d((1,1))\n",
        "        output_channel = {'large': 1280, 'small': 1024}\n",
        "        output_channel = _make_divisible(output_channel[mode] * width_mult, 8) if width_mult > 1.0 else output_channel[mode]\n",
        "        self.classifier = nn.Sequential(\n",
        "            nn.Linear(exp_size,output_channel),\n",
        "            h_swish(),\n",
        "            nn.Dropout(0.2),\n",
        "            nn.Linear(output_channel,num_classes)\n",
        "        )\n",
        "        self.initialize_weights()\n",
        "    def forward(self,x):\n",
        "        out = self.features(x)\n",
        "        out = self.conv(out)\n",
        "        out = self.avgpool(out)\n",
        "        out = out.view(out.size(0),-1)\n",
        "        out = self.classifier(out)\n",
        "        return out\n",
        "    def initialize_weights(self,):\n",
        "        for m in self.modules():\n",
        "            if isinstance(m,nn.Conv2d):\n",
        "                n = m.kernel_size[0] * m.kernel_size[1] * m.out_channels\n",
        "                m.weight.data.normal_(0, math.sqrt(2. / n))\n",
        "                if m.bias is not None:\n",
        "                    m.bias.data.zero_()\n",
        "            elif isinstance(m,nn.BatchNorm2d):\n",
        "                m.weight.data.fill_(0)\n",
        "                m.bias.data.zero_()\n",
        "            elif isinstance(m,nn.Linear):\n",
        "                m.weight.data.normal_(0,0.01)\n",
        "                m.bias.data.zero_()"
      ],
      "metadata": {
        "id": "uV8t4I2XlqVH"
      },
      "execution_count": null,
      "outputs": []
    },
    {
      "cell_type": "code",
      "source": [
        "def mobilenetv3_large(**kwargs):\n",
        "    \"\"\"\n",
        "    Constructs a MobileNetV3-Large model\n",
        "    \"\"\"\n",
        "    cfgs = [\n",
        "        # k, t, c, SE, HS, s\n",
        "        [3,   1,  16, 0, 0, 1],\n",
        "        [3,   4,  24, 0, 0, 2],\n",
        "        [3,   3,  24, 0, 0, 1],\n",
        "        [5,   3,  40, 1, 0, 2],\n",
        "        [5,   3,  40, 1, 0, 1],\n",
        "        [5,   3,  40, 1, 0, 1],\n",
        "        [3,   6,  80, 0, 1, 2],\n",
        "        [3, 2.5,  80, 0, 1, 1],\n",
        "        [3, 2.3,  80, 0, 1, 1],\n",
        "        [3, 2.3,  80, 0, 1, 1],\n",
        "        [3,   6, 112, 1, 1, 1],\n",
        "        [3,   6, 112, 1, 1, 1],\n",
        "        [5,   6, 160, 1, 1, 2],\n",
        "        [5,   6, 160, 1, 1, 1],\n",
        "        [5,   6, 160, 1, 1, 1]\n",
        "    ]\n",
        "    return MobileNetV3(cfgs, mode='large', **kwargs)"
      ],
      "metadata": {
        "id": "LKmoGbRNq7p9"
      },
      "execution_count": null,
      "outputs": []
    },
    {
      "cell_type": "code",
      "source": [
        "\n",
        "def mobilenetv3_small(**kwargs):\n",
        "    \"\"\"\n",
        "    Constructs a MobileNetV3-Small model\n",
        "    \"\"\"\n",
        "    cfgs = [\n",
        "        # k, t, c, SE, HS, s\n",
        "        [3,    1,  16, 1, 0, 2],\n",
        "        [3,  4.5,  24, 0, 0, 2],\n",
        "        [3, 3.67,  24, 0, 0, 1],\n",
        "        [5,    4,  40, 1, 1, 2],\n",
        "        [5,    6,  40, 1, 1, 1],\n",
        "        [5,    6,  40, 1, 1, 1],\n",
        "        [5,    3,  48, 1, 1, 1],\n",
        "        [5,    3,  48, 1, 1, 1],\n",
        "        [5,    6,  96, 1, 1, 2],\n",
        "        [5,    6,  96, 1, 1, 1],\n",
        "        [5,    6,  96, 1, 1, 1],\n",
        "    ]\n",
        "\n",
        "    return MobileNetV3(cfgs, mode='small', **kwargs)"
      ],
      "metadata": {
        "id": "gE3Iv95zu-YU"
      },
      "execution_count": null,
      "outputs": []
    },
    {
      "cell_type": "code",
      "source": [
        "# net = mobilenetv3_large()\n",
        "# summary(net,(3,224,224))"
      ],
      "metadata": {
        "id": "Oj1Idc5Eq9-6"
      },
      "execution_count": null,
      "outputs": []
    }
  ]
}