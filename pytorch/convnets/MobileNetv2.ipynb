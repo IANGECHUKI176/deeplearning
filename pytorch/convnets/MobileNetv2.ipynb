{
  "nbformat": 4,
  "nbformat_minor": 0,
  "metadata": {
    "colab": {
      "provenance": [],
      "authorship_tag": "ABX9TyN9jEvYK5Rlz5ic1UNrs/x7",
      "include_colab_link": true
    },
    "kernelspec": {
      "name": "python3",
      "display_name": "Python 3"
    },
    "language_info": {
      "name": "python"
    }
  },
  "cells": [
    {
      "cell_type": "markdown",
      "metadata": {
        "id": "view-in-github",
        "colab_type": "text"
      },
      "source": [
        "<a href=\"https://colab.research.google.com/github/IANGECHUKI176/deeplearning/blob/main/pytorch/convnets/MobileNetv2.ipynb\" target=\"_parent\"><img src=\"https://colab.research.google.com/assets/colab-badge.svg\" alt=\"Open In Colab\"/></a>"
      ]
    },
    {
      "cell_type": "markdown",
      "source": [
        "MobileNetV2\n",
        "[paper](https://arxiv.org/pdf/1801.04381.pdf)\n",
        "\n",
        "MobileNet architecture is built with the idea to make neural networks feasible on mobile devices.\n",
        "MobileNet introduces the idea of depthwise separable convolution, which is depthwise conv followed\n",
        "by pointwise conv.\n",
        "\n",
        "What's New\n",
        "\n",
        "With MobileNetV2, the architecture introduces the concept of inverted residual, where the residual\n",
        "connections are made between the bottleneck layers. The intermediate expansion layer uses lightweight\n",
        "depthwise convolutions to filter features as a source of non-linearity.\n",
        "\n",
        "A traditional Residual Block has a wide -> narrow -> wide structure with the number of channels. The\n",
        "input has a high number of channels, which are compressed with a 1x1 convolution. The number of\n",
        "channels is then increased again with a 1x1 convolution so input and output can be added.\n",
        "\n",
        "In contrast, an Inverted Residual Block follows a narrow -> wide -> narrow approach, hence the inversion.\n",
        "We first widen with a 1x1 convolution, then use a 3x3 depthwise convolution (which greatly reduces the\n",
        "number of parameters), then we use a 1x1 convolution to reduce the number of channels so input and output\n",
        "can be added.\n",
        "![mobilenetv2image.webp](data:image/webp;base64,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)"
      ],
      "metadata": {
        "id": "i-SCxHiwlVoP"
      }
    },
    {
      "cell_type": "code",
      "source": [
        "import torch\n",
        "import torch.nn as nn\n",
        "import math\n",
        "from torchsummary import summary"
      ],
      "metadata": {
        "id": "wKhry-DFykDf"
      },
      "execution_count": 38,
      "outputs": []
    },
    {
      "cell_type": "code",
      "source": [
        "def conv3x3(c_in,c_out,stride):\n",
        "    return nn.Sequential(\n",
        "        nn.Conv2d(c_in,c_out,3,stride = stride,padding = 1,bias = False),\n",
        "        nn.BatchNorm2d(c_out),\n",
        "        nn.ReLU6(inplace = True)\n",
        "    )"
      ],
      "metadata": {
        "id": "UutkJmRxyuH-"
      },
      "execution_count": 39,
      "outputs": []
    },
    {
      "cell_type": "code",
      "source": [
        "def conv1x1(c_in,c_out):\n",
        "    return nn.Sequential(\n",
        "        nn.Conv2d(c_in,c_out,kernel_size=1,stride = 1,padding = 0,bias = False),\n",
        "        nn.BatchNorm2d(c_out),\n",
        "        nn.ReLU6(inplace = True)\n",
        "    )"
      ],
      "metadata": {
        "id": "0OWxwoSJ5kBJ"
      },
      "execution_count": 40,
      "outputs": []
    },
    {
      "cell_type": "code",
      "source": [
        "def dwise_conv(c_in,stride= 1):\n",
        "    return nn.Sequential(\n",
        "        nn.Conv2d(c_in,c_in,kernel_size = 3,padding = 1,stride = stride,groups = c_in,bias = False),\n",
        "        nn.BatchNorm2d(c_in),\n",
        "        nn.ReLU6(inplace =True)\n",
        "    )"
      ],
      "metadata": {
        "id": "7X3Kz58-9OCS"
      },
      "execution_count": 41,
      "outputs": []
    },
    {
      "cell_type": "code",
      "source": [
        "class InvertedResidualBlock(nn.Module):\n",
        "    def __init__(self,c_in,c_out,stride,expand_ratio):\n",
        "        super().__init__()\n",
        "        assert stride in [1, 2], 'Stride value is greater than 2'\n",
        "\n",
        "        hidden_dim = round(c_in * expand_ratio)\n",
        "        self.identity = stride == 1 and c_in == c_out\n",
        "\n",
        "        layers = []\n",
        "        if expand_ratio != 1:\n",
        "            #pointwise convolution\n",
        "            layers.append(conv1x1(c_in,hidden_dim))\n",
        "        layers.extend([\n",
        "            #dephtwise conv\n",
        "            dwise_conv(hidden_dim,stride),\n",
        "\n",
        "            #pointwise linear -> no relu\n",
        "            nn.Sequential(\n",
        "                nn.Conv2d(hidden_dim,c_out,kernel_size = 1,stride =1,padding = 0,bias = False),\n",
        "                nn.BatchNorm2d(c_out)\n",
        "            )\n",
        "        ])\n",
        "        self.layers = nn.Sequential(*layers)\n",
        "\n",
        "    def forward(self,x):\n",
        "        if self.identity:\n",
        "            return x + self.layers(x)\n",
        "        else:\n",
        "            return self.layers(x)"
      ],
      "metadata": {
        "id": "Z5sXDjC56EIx"
      },
      "execution_count": 42,
      "outputs": []
    },
    {
      "cell_type": "code",
      "source": [
        "input = torch.randn(3,3,224,224)\n",
        "\n",
        "blk = InvertedResidualBlock(3,32,1,2)\n",
        "blk(input).shape"
      ],
      "metadata": {
        "colab": {
          "base_uri": "https://localhost:8080/"
        },
        "id": "_lXoMxh4AWmF",
        "outputId": "bd6c41cc-10aa-4f06-93e7-e6d008328394"
      },
      "execution_count": 43,
      "outputs": [
        {
          "output_type": "execute_result",
          "data": {
            "text/plain": [
              "torch.Size([3, 32, 224, 224])"
            ]
          },
          "metadata": {},
          "execution_count": 43
        }
      ]
    },
    {
      "cell_type": "markdown",
      "source": [
        "Full archicture\n",
        "\n",
        "\n",
        "![mobilenetV2 architecture.webp](data:image/webp;base64,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)"
      ],
      "metadata": {
        "id": "OVr8SWt067Zd"
      }
    },
    {
      "cell_type": "code",
      "source": [
        "class MobileNetV2(nn.Module):\n",
        "    def __init__(self,c_in,n_classes = 10):\n",
        "        super(MobileNetV2,self).__init__()\n",
        "        self.configs=[\n",
        "            # t, c, n, s\n",
        "            [1, 16, 1, 1],\n",
        "            [6, 24, 2, 2],\n",
        "            [6, 32, 3, 2],\n",
        "            [6, 64, 4, 2],\n",
        "            [6, 96, 3, 1],\n",
        "            [6, 160, 3, 2],\n",
        "            [6, 320, 1, 1]\n",
        "        ]\n",
        "        #t: expansion factor, c: number of output channels, n: repeating number, s: stride\n",
        "        self.stem_conv = conv3x3(c_in,32,stride = 2)\n",
        "        layers = []\n",
        "        c_in = 32\n",
        "        for t,c,n,s in self.configs:\n",
        "            for i in range(n):\n",
        "                stride = s if i==0 else 1\n",
        "                layers.append(InvertedResidualBlock(c_in,c,stride =s,expand_ratio = t ))\n",
        "                c_in = c\n",
        "        self.layers = nn.Sequential(*layers)\n",
        "        self.last_conv = conv1x1(c_in,1280)\n",
        "        self.avg_pool = nn.AdaptiveAvgPool2d(1)\n",
        "        self.classifier = nn.Sequential(\n",
        "            nn.Dropout(0.2),\n",
        "            nn.Linear(1280,n_classes)\n",
        "        )\n",
        "        self._initialize_weights()\n",
        "    def forward(self,x):\n",
        "        out = self.stem_conv(x)\n",
        "        out = self.layers(out)\n",
        "        out = self.last_conv(out)\n",
        "        out = self.avg_pool(out)\n",
        "        out = out.view(-1,1280)\n",
        "        out = self.classifier(out)\n",
        "        return out\n",
        "\n",
        "    def _initialize_weights(self):\n",
        "        for m in self.modules():\n",
        "            if isinstance(m, nn.Conv2d):\n",
        "                n = m.kernel_size[0] * m.kernel_size[1] * m.out_channels\n",
        "                m.weight.data.normal_(0, math.sqrt(2. / n))\n",
        "                if m.bias is not None:\n",
        "                    m.bias.data.zero_()\n",
        "            elif isinstance(m, nn.BatchNorm2d):\n",
        "                m.weight.data.fill_(1)\n",
        "                m.bias.data.zero_()\n",
        "            elif isinstance(m, nn.Linear):\n",
        "                m.weight.data.normal_(0, 0.01)\n",
        "                m.bias.data.zero_()\n"
      ],
      "metadata": {
        "id": "kIedgYeq7BOQ"
      },
      "execution_count": 52,
      "outputs": []
    },
    {
      "cell_type": "code",
      "source": [
        "blk = MobileNetV2(3)\n",
        "#input = torch.randn(3,3,224,224)\n",
        "summary(blk,(3,224,224))"
      ],
      "metadata": {
        "colab": {
          "base_uri": "https://localhost:8080/"
        },
        "id": "TpasW_xyXBTi",
        "outputId": "094cf0a3-23e1-4766-8fea-4f2f897588de"
      },
      "execution_count": 53,
      "outputs": [
        {
          "output_type": "stream",
          "name": "stdout",
          "text": [
            "----------------------------------------------------------------\n",
            "        Layer (type)               Output Shape         Param #\n",
            "================================================================\n",
            "            Conv2d-1         [-1, 32, 112, 112]             864\n",
            "       BatchNorm2d-2         [-1, 32, 112, 112]              64\n",
            "             ReLU6-3         [-1, 32, 112, 112]               0\n",
            "            Conv2d-4         [-1, 32, 112, 112]             288\n",
            "       BatchNorm2d-5         [-1, 32, 112, 112]              64\n",
            "             ReLU6-6         [-1, 32, 112, 112]               0\n",
            "            Conv2d-7         [-1, 16, 112, 112]             512\n",
            "       BatchNorm2d-8         [-1, 16, 112, 112]              32\n",
            "InvertedResidualBlock-9         [-1, 16, 112, 112]               0\n",
            "           Conv2d-10         [-1, 96, 112, 112]           1,536\n",
            "      BatchNorm2d-11         [-1, 96, 112, 112]             192\n",
            "            ReLU6-12         [-1, 96, 112, 112]               0\n",
            "           Conv2d-13           [-1, 96, 56, 56]             864\n",
            "      BatchNorm2d-14           [-1, 96, 56, 56]             192\n",
            "            ReLU6-15           [-1, 96, 56, 56]               0\n",
            "           Conv2d-16           [-1, 24, 56, 56]           2,304\n",
            "      BatchNorm2d-17           [-1, 24, 56, 56]              48\n",
            "InvertedResidualBlock-18           [-1, 24, 56, 56]               0\n",
            "           Conv2d-19          [-1, 144, 56, 56]           3,456\n",
            "      BatchNorm2d-20          [-1, 144, 56, 56]             288\n",
            "            ReLU6-21          [-1, 144, 56, 56]               0\n",
            "           Conv2d-22          [-1, 144, 28, 28]           1,296\n",
            "      BatchNorm2d-23          [-1, 144, 28, 28]             288\n",
            "            ReLU6-24          [-1, 144, 28, 28]               0\n",
            "           Conv2d-25           [-1, 24, 28, 28]           3,456\n",
            "      BatchNorm2d-26           [-1, 24, 28, 28]              48\n",
            "InvertedResidualBlock-27           [-1, 24, 28, 28]               0\n",
            "           Conv2d-28          [-1, 144, 28, 28]           3,456\n",
            "      BatchNorm2d-29          [-1, 144, 28, 28]             288\n",
            "            ReLU6-30          [-1, 144, 28, 28]               0\n",
            "           Conv2d-31          [-1, 144, 14, 14]           1,296\n",
            "      BatchNorm2d-32          [-1, 144, 14, 14]             288\n",
            "            ReLU6-33          [-1, 144, 14, 14]               0\n",
            "           Conv2d-34           [-1, 32, 14, 14]           4,608\n",
            "      BatchNorm2d-35           [-1, 32, 14, 14]              64\n",
            "InvertedResidualBlock-36           [-1, 32, 14, 14]               0\n",
            "           Conv2d-37          [-1, 192, 14, 14]           6,144\n",
            "      BatchNorm2d-38          [-1, 192, 14, 14]             384\n",
            "            ReLU6-39          [-1, 192, 14, 14]               0\n",
            "           Conv2d-40            [-1, 192, 7, 7]           1,728\n",
            "      BatchNorm2d-41            [-1, 192, 7, 7]             384\n",
            "            ReLU6-42            [-1, 192, 7, 7]               0\n",
            "           Conv2d-43             [-1, 32, 7, 7]           6,144\n",
            "      BatchNorm2d-44             [-1, 32, 7, 7]              64\n",
            "InvertedResidualBlock-45             [-1, 32, 7, 7]               0\n",
            "           Conv2d-46            [-1, 192, 7, 7]           6,144\n",
            "      BatchNorm2d-47            [-1, 192, 7, 7]             384\n",
            "            ReLU6-48            [-1, 192, 7, 7]               0\n",
            "           Conv2d-49            [-1, 192, 4, 4]           1,728\n",
            "      BatchNorm2d-50            [-1, 192, 4, 4]             384\n",
            "            ReLU6-51            [-1, 192, 4, 4]               0\n",
            "           Conv2d-52             [-1, 32, 4, 4]           6,144\n",
            "      BatchNorm2d-53             [-1, 32, 4, 4]              64\n",
            "InvertedResidualBlock-54             [-1, 32, 4, 4]               0\n",
            "           Conv2d-55            [-1, 192, 4, 4]           6,144\n",
            "      BatchNorm2d-56            [-1, 192, 4, 4]             384\n",
            "            ReLU6-57            [-1, 192, 4, 4]               0\n",
            "           Conv2d-58            [-1, 192, 2, 2]           1,728\n",
            "      BatchNorm2d-59            [-1, 192, 2, 2]             384\n",
            "            ReLU6-60            [-1, 192, 2, 2]               0\n",
            "           Conv2d-61             [-1, 64, 2, 2]          12,288\n",
            "      BatchNorm2d-62             [-1, 64, 2, 2]             128\n",
            "InvertedResidualBlock-63             [-1, 64, 2, 2]               0\n",
            "           Conv2d-64            [-1, 384, 2, 2]          24,576\n",
            "      BatchNorm2d-65            [-1, 384, 2, 2]             768\n",
            "            ReLU6-66            [-1, 384, 2, 2]               0\n",
            "           Conv2d-67            [-1, 384, 1, 1]           3,456\n",
            "      BatchNorm2d-68            [-1, 384, 1, 1]             768\n",
            "            ReLU6-69            [-1, 384, 1, 1]               0\n",
            "           Conv2d-70             [-1, 64, 1, 1]          24,576\n",
            "      BatchNorm2d-71             [-1, 64, 1, 1]             128\n",
            "InvertedResidualBlock-72             [-1, 64, 1, 1]               0\n",
            "           Conv2d-73            [-1, 384, 1, 1]          24,576\n",
            "      BatchNorm2d-74            [-1, 384, 1, 1]             768\n",
            "            ReLU6-75            [-1, 384, 1, 1]               0\n",
            "           Conv2d-76            [-1, 384, 1, 1]           3,456\n",
            "      BatchNorm2d-77            [-1, 384, 1, 1]             768\n",
            "            ReLU6-78            [-1, 384, 1, 1]               0\n",
            "           Conv2d-79             [-1, 64, 1, 1]          24,576\n",
            "      BatchNorm2d-80             [-1, 64, 1, 1]             128\n",
            "InvertedResidualBlock-81             [-1, 64, 1, 1]               0\n",
            "           Conv2d-82            [-1, 384, 1, 1]          24,576\n",
            "      BatchNorm2d-83            [-1, 384, 1, 1]             768\n",
            "            ReLU6-84            [-1, 384, 1, 1]               0\n",
            "           Conv2d-85            [-1, 384, 1, 1]           3,456\n",
            "      BatchNorm2d-86            [-1, 384, 1, 1]             768\n",
            "            ReLU6-87            [-1, 384, 1, 1]               0\n",
            "           Conv2d-88             [-1, 64, 1, 1]          24,576\n",
            "      BatchNorm2d-89             [-1, 64, 1, 1]             128\n",
            "InvertedResidualBlock-90             [-1, 64, 1, 1]               0\n",
            "           Conv2d-91            [-1, 384, 1, 1]          24,576\n",
            "      BatchNorm2d-92            [-1, 384, 1, 1]             768\n",
            "            ReLU6-93            [-1, 384, 1, 1]               0\n",
            "           Conv2d-94            [-1, 384, 1, 1]           3,456\n",
            "      BatchNorm2d-95            [-1, 384, 1, 1]             768\n",
            "            ReLU6-96            [-1, 384, 1, 1]               0\n",
            "           Conv2d-97             [-1, 96, 1, 1]          36,864\n",
            "      BatchNorm2d-98             [-1, 96, 1, 1]             192\n",
            "InvertedResidualBlock-99             [-1, 96, 1, 1]               0\n",
            "          Conv2d-100            [-1, 576, 1, 1]          55,296\n",
            "     BatchNorm2d-101            [-1, 576, 1, 1]           1,152\n",
            "           ReLU6-102            [-1, 576, 1, 1]               0\n",
            "          Conv2d-103            [-1, 576, 1, 1]           5,184\n",
            "     BatchNorm2d-104            [-1, 576, 1, 1]           1,152\n",
            "           ReLU6-105            [-1, 576, 1, 1]               0\n",
            "          Conv2d-106             [-1, 96, 1, 1]          55,296\n",
            "     BatchNorm2d-107             [-1, 96, 1, 1]             192\n",
            "InvertedResidualBlock-108             [-1, 96, 1, 1]               0\n",
            "          Conv2d-109            [-1, 576, 1, 1]          55,296\n",
            "     BatchNorm2d-110            [-1, 576, 1, 1]           1,152\n",
            "           ReLU6-111            [-1, 576, 1, 1]               0\n",
            "          Conv2d-112            [-1, 576, 1, 1]           5,184\n",
            "     BatchNorm2d-113            [-1, 576, 1, 1]           1,152\n",
            "           ReLU6-114            [-1, 576, 1, 1]               0\n",
            "          Conv2d-115             [-1, 96, 1, 1]          55,296\n",
            "     BatchNorm2d-116             [-1, 96, 1, 1]             192\n",
            "InvertedResidualBlock-117             [-1, 96, 1, 1]               0\n",
            "          Conv2d-118            [-1, 576, 1, 1]          55,296\n",
            "     BatchNorm2d-119            [-1, 576, 1, 1]           1,152\n",
            "           ReLU6-120            [-1, 576, 1, 1]               0\n",
            "          Conv2d-121            [-1, 576, 1, 1]           5,184\n",
            "     BatchNorm2d-122            [-1, 576, 1, 1]           1,152\n",
            "           ReLU6-123            [-1, 576, 1, 1]               0\n",
            "          Conv2d-124            [-1, 160, 1, 1]          92,160\n",
            "     BatchNorm2d-125            [-1, 160, 1, 1]             320\n",
            "InvertedResidualBlock-126            [-1, 160, 1, 1]               0\n",
            "          Conv2d-127            [-1, 960, 1, 1]         153,600\n",
            "     BatchNorm2d-128            [-1, 960, 1, 1]           1,920\n",
            "           ReLU6-129            [-1, 960, 1, 1]               0\n",
            "          Conv2d-130            [-1, 960, 1, 1]           8,640\n",
            "     BatchNorm2d-131            [-1, 960, 1, 1]           1,920\n",
            "           ReLU6-132            [-1, 960, 1, 1]               0\n",
            "          Conv2d-133            [-1, 160, 1, 1]         153,600\n",
            "     BatchNorm2d-134            [-1, 160, 1, 1]             320\n",
            "InvertedResidualBlock-135            [-1, 160, 1, 1]               0\n",
            "          Conv2d-136            [-1, 960, 1, 1]         153,600\n",
            "     BatchNorm2d-137            [-1, 960, 1, 1]           1,920\n",
            "           ReLU6-138            [-1, 960, 1, 1]               0\n",
            "          Conv2d-139            [-1, 960, 1, 1]           8,640\n",
            "     BatchNorm2d-140            [-1, 960, 1, 1]           1,920\n",
            "           ReLU6-141            [-1, 960, 1, 1]               0\n",
            "          Conv2d-142            [-1, 160, 1, 1]         153,600\n",
            "     BatchNorm2d-143            [-1, 160, 1, 1]             320\n",
            "InvertedResidualBlock-144            [-1, 160, 1, 1]               0\n",
            "          Conv2d-145            [-1, 960, 1, 1]         153,600\n",
            "     BatchNorm2d-146            [-1, 960, 1, 1]           1,920\n",
            "           ReLU6-147            [-1, 960, 1, 1]               0\n",
            "          Conv2d-148            [-1, 960, 1, 1]           8,640\n",
            "     BatchNorm2d-149            [-1, 960, 1, 1]           1,920\n",
            "           ReLU6-150            [-1, 960, 1, 1]               0\n",
            "          Conv2d-151            [-1, 320, 1, 1]         307,200\n",
            "     BatchNorm2d-152            [-1, 320, 1, 1]             640\n",
            "InvertedResidualBlock-153            [-1, 320, 1, 1]               0\n",
            "          Conv2d-154           [-1, 1280, 1, 1]         409,600\n",
            "     BatchNorm2d-155           [-1, 1280, 1, 1]           2,560\n",
            "           ReLU6-156           [-1, 1280, 1, 1]               0\n",
            "AdaptiveAvgPool2d-157           [-1, 1280, 1, 1]               0\n",
            "         Dropout-158                 [-1, 1280]               0\n",
            "          Linear-159                   [-1, 10]          12,810\n",
            "================================================================\n",
            "Total params: 2,236,682\n",
            "Trainable params: 2,236,682\n",
            "Non-trainable params: 0\n",
            "----------------------------------------------------------------\n",
            "Input size (MB): 0.57\n",
            "Forward/backward pass size (MB): 77.76\n",
            "Params size (MB): 8.53\n",
            "Estimated Total Size (MB): 86.86\n",
            "----------------------------------------------------------------\n"
          ]
        }
      ]
    }
  ]
}