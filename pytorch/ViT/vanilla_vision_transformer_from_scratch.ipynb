{
  "nbformat": 4,
  "nbformat_minor": 0,
  "metadata": {
    "colab": {
      "provenance": [],
      "gpuType": "T4",
      "authorship_tag": "ABX9TyPa40vqvqsArcSnrXTRlRwb",
      "include_colab_link": true
    },
    "kernelspec": {
      "name": "python3",
      "display_name": "Python 3"
    },
    "language_info": {
      "name": "python"
    },
    "accelerator": "GPU"
  },
  "cells": [
    {
      "cell_type": "markdown",
      "metadata": {
        "id": "view-in-github",
        "colab_type": "text"
      },
      "source": [
        "<a href=\"https://colab.research.google.com/github/IANGECHUKI176/deeplearning/blob/main/pytorch/ViT/vanilla_vision_transformer_from_scratch.ipynb\" target=\"_parent\"><img src=\"https://colab.research.google.com/assets/colab-badge.svg\" alt=\"Open In Colab\"/></a>"
      ]
    },
    {
      "cell_type": "markdown",
      "source": [
        "[Reference:](https://medium.com/@pashashaik/part-1-building-vision-transformers-from-scratch-a-pytorch-deep-dive-plus-a-teaser-on-lora-for-beef0f3aef5c)\n",
        "\n",
        "Paper: [AN IMAGE IS WORTH 16X16 WORDS:\n",
        "TRANSFORMERS FOR IMAGE RECOGNITION AT SCALE](https://arxiv.org/pdf/2010.11929.pdf)"
      ],
      "metadata": {
        "id": "FktTCCMQFd-U"
      }
    },
    {
      "cell_type": "code",
      "source": [
        "import torch\n",
        "import torch.nn as nn\n",
        "import math\n",
        "import torch.nn.functional as F"
      ],
      "metadata": {
        "id": "wJZYr6N6gvOh"
      },
      "execution_count": 1,
      "outputs": []
    },
    {
      "cell_type": "code",
      "execution_count": 2,
      "metadata": {
        "id": "bs9pRda9_0qY"
      },
      "outputs": [],
      "source": [
        "from dataclasses import dataclass\n",
        "@dataclass\n",
        "class ModelArgs:\n",
        "    dim : int = 256 #dim of model embeddings\n",
        "    hidden_dim :int = 512 #feed forward hidden dim\n",
        "    n_heads = 8\n",
        "    n_layers = 6\n",
        "    patch_size:int = 4\n",
        "    n_channels = 3\n",
        "    n_classes:int = 10\n",
        "    dropout:float = 0.2\n",
        "    n_patches = 64"
      ]
    },
    {
      "cell_type": "code",
      "source": [
        "class MultiHeadAttention(nn.Module):\n",
        "    def __init__(self,args:ModelArgs):\n",
        "        super().__init__()\n",
        "\n",
        "        self.n_heads = args.n_heads\n",
        "        self.dim = args.dim\n",
        "        self.head_dim = args.dim // args.n_heads\n",
        "\n",
        "        self.wq = nn.Linear(args.dim,args.dim,bias = False)\n",
        "        self.wk = nn.Linear(args.dim,args.dim,bias = False)\n",
        "        self.wv = nn.Linear(args.dim,args.dim,bias = False)\n",
        "        self.wo = nn.Linear(args.dim,args.dim,bias = False)\n",
        "\n",
        "    def forward(self,x):\n",
        "        b,seq_len,dim = x.shape\n",
        "        q = self.wq(x) #[b,seq_len,n_heads*h_dim]\n",
        "        k = self.wk(x) #[b,seq_len,n_heads*h_dim]\n",
        "        v = self.wv(x) #[b,seq_len,n_heads*h_dim]\n",
        "\n",
        "        q = q.view(b,seq_len,self.n_heads,self.head_dim) #[b,seq_len,n_heads,h_dim]\n",
        "        k = k.view(b,seq_len,self.n_heads,self.head_dim)\n",
        "        v = v.view(b,seq_len,self.n_heads,self.head_dim)\n",
        "        q = q.transpose(1,2) #[b,n_heads,seq_len,h_dim]\n",
        "        k = k.transpose(1,2)\n",
        "        v = v.transpose(1,2)\n",
        "\n",
        "        attn =  torch.matmul(q,k.transpose(2,3)) / math.sqrt(self.head_dim) #[b,n_heads,seq_len,seq_len]\n",
        "        attn_scores = F.softmax(attn,dim = -1)\n",
        "\n",
        "        #compute attended features\n",
        "        out = torch.matmul(attn_scores,v) #[b,n_heads,seq_len,h_dim]\n",
        "\n",
        "        out = out.view(b,seq_len,-1) #[b,seq_len,n_heads * head_dim]\n",
        "\n",
        "        #out = out.transpose(1,2).contiguous().view(b,seq_len,dim)\n",
        "\n",
        "        out = self.wo(out) #[b,seq_len,dim]\n",
        "        return out"
      ],
      "metadata": {
        "id": "bqz9aXOQf49a"
      },
      "execution_count": 3,
      "outputs": []
    },
    {
      "cell_type": "code",
      "source": [
        "\n",
        "class AttentionBlock(nn.Module):\n",
        "    def __init__(self,args:ModelArgs):\n",
        "        super().__init__()\n",
        "        self.layer_norm_1 = nn.LayerNorm(args.dim)\n",
        "        self.attn = MultiHeadAttention(args)\n",
        "        self.layer_norm_2 = nn.LayerNorm(args.dim)\n",
        "        self.ffn = nn.Sequential(\n",
        "            nn.Linear(args.dim,args.hidden_dim),\n",
        "            nn.GELU(),\n",
        "            nn.Dropout(args.dropout),\n",
        "            nn.Linear(args.hidden_dim,args.dim),\n",
        "            nn.Dropout(args.dropout)\n",
        "        )\n",
        "    def forward(self,x):\n",
        "        x = x + self.attn(self.layer_norm_1(x))\n",
        "        x = x + self.ffn(self.layer_norm_2(x))\n",
        "        return x"
      ],
      "metadata": {
        "id": "SrXTpZAIprNW"
      },
      "execution_count": 4,
      "outputs": []
    },
    {
      "cell_type": "markdown",
      "source": [
        "Coverting images image into patches"
      ],
      "metadata": {
        "id": "ec82omRHuQ6m"
      }
    },
    {
      "cell_type": "code",
      "source": [
        "def img_to_patches(x,patch_size,flatten_channels = True):\n",
        "    B,C,H,W = x.shape\n",
        "\n",
        "    #reshape image into non overlapping patches\n",
        "    x = x.reshape(B,C,H//patch_size,patch_size,W//patch_size,patch_size)\n",
        "\n",
        "    #permute to group the patches and channels\n",
        "    x = x.permute(0,2,4,1,3,5) #[B,H/patch_size,W/patch_size,C,patch_size,patch_size]\n",
        "\n",
        "    x = x.flatten(1,2) #[B,(H/patch_size * W/patch_size),C ,patch_size ,patch_size]\n",
        "\n",
        "    if flatten_channels:\n",
        "        x = x.flatten(2,4) #[B,(H/patch_size * W/patch_size),(C *patch_size *patch_size)]\n",
        "\n",
        "    return x"
      ],
      "metadata": {
        "id": "iIrCp1s0uVS8"
      },
      "execution_count": 5,
      "outputs": []
    },
    {
      "cell_type": "code",
      "source": [
        "class VisionTransformer(nn.Module):\n",
        "    def __init__(self,args):\n",
        "        super().__init__()\n",
        "\n",
        "        self.patch_size = args.patch_size\n",
        "\n",
        "        patch_dim = args.n_channels * args.patch_size ** 2\n",
        "        self.input_layer = nn.Linear(patch_dim,args.dim)\n",
        "\n",
        "        attn_blocks = []\n",
        "        for _ in range(args.n_layers):\n",
        "            attn_blocks.append(AttentionBlock(args))\n",
        "\n",
        "        self.transformer = nn.Sequential(*attn_blocks)\n",
        "\n",
        "        self.mlp = nn.Sequential(\n",
        "            nn.LayerNorm(args.dim),\n",
        "            nn.Linear(args.dim,args.n_classes)\n",
        "        )\n",
        "\n",
        "        self.dropout = nn.Dropout(args.dropout)\n",
        "\n",
        "        self.cls_token = nn.Parameter(torch.randn(1,1,args.dim))\n",
        "        #n_patches = (img_W * img_H) / patch_size ** 2\n",
        "        self.pos_embedding = nn.Parameter(torch.randn(1,1 + args.n_patches,args.dim))\n",
        "    def forward(self,x):\n",
        "        #convert img to patches and flatten\n",
        "        x = img_to_patches(x,self.patch_size)\n",
        "        b,seq_len,_ = x.shape\n",
        "\n",
        "\n",
        "        #transform patches using embedding layer\n",
        "        x = self.input_layer(x)\n",
        "\n",
        "        #add the class token to beggining of each seq\n",
        "        cls_token = self.cls_token.repeat(b,1,1)\n",
        "\n",
        "        x = torch.cat([cls_token,x],dim = 1)\n",
        "\n",
        "        x = x + self.pos_embedding[:,:seq_len + 1]\n",
        "\n",
        "        x = self.dropout(x)\n",
        "\n",
        "        x = self.transformer(x)\n",
        "\n",
        "        x = x.transpose(0,1)\n",
        "\n",
        "        # Retrieve the class token's representation (for classification)\n",
        "        cls = x[0]\n",
        "        # Classify using the representation of the class token\n",
        "        out = self.mlp(cls)\n",
        "\n",
        "        return out"
      ],
      "metadata": {
        "id": "SK8lWPKo1hBy"
      },
      "execution_count": 6,
      "outputs": []
    },
    {
      "cell_type": "markdown",
      "source": [
        "Data and dataloaders"
      ],
      "metadata": {
        "id": "vejO2iw7dH3h"
      }
    },
    {
      "cell_type": "code",
      "source": [
        "from torchvision import transforms, datasets"
      ],
      "metadata": {
        "id": "pGf_RhfOdsxJ"
      },
      "execution_count": 7,
      "outputs": []
    },
    {
      "cell_type": "code",
      "source": [
        "DATA_DIR = \"../data\"\n",
        "test_transform = transforms.Compose([\n",
        "    transforms.ToTensor(),\n",
        "    transforms.Normalize([0.49139968, 0.48215841, 0.44653091], [0.24703223, 0.24348513, 0.26158784])\n",
        "])\n",
        "train_transform = transforms.Compose([\n",
        "    transforms.RandomHorizontalFlip(),\n",
        "    transforms.RandomResizedCrop((32, 32), scale=(0.8, 1.0), ratio=(0.9, 1.1)),\n",
        "    transforms.ToTensor(),\n",
        "    transforms.Normalize([0.49139968, 0.48215841, 0.44653091], [0.24703223, 0.24348513, 0.26158784])\n",
        "])\n",
        "train_dataset = datasets.CIFAR10(root = DATA_DIR,train = True,transform = train_transform,download = True)\n",
        "test_dataset = datasets.CIFAR10(root = DATA_DIR,train = False , transform = test_transform,download = True)\n",
        "\n",
        "train_set,val_set = torch.utils.data.random_split(train_dataset,[45000,5000])"
      ],
      "metadata": {
        "colab": {
          "base_uri": "https://localhost:8080/"
        },
        "id": "40qLdKxedL1X",
        "outputId": "2c529036-2c74-49c6-9d1d-55aedfad52e0"
      },
      "execution_count": 8,
      "outputs": [
        {
          "output_type": "stream",
          "name": "stdout",
          "text": [
            "Downloading https://www.cs.toronto.edu/~kriz/cifar-10-python.tar.gz to ../data/cifar-10-python.tar.gz\n"
          ]
        },
        {
          "output_type": "stream",
          "name": "stderr",
          "text": [
            "100%|██████████| 170498071/170498071 [00:03<00:00, 43863638.47it/s]\n"
          ]
        },
        {
          "output_type": "stream",
          "name": "stdout",
          "text": [
            "Extracting ../data/cifar-10-python.tar.gz to ../data\n",
            "Files already downloaded and verified\n"
          ]
        }
      ]
    },
    {
      "cell_type": "markdown",
      "source": [
        "Let’s setup the data loaders for training, validation and test datasets"
      ],
      "metadata": {
        "id": "0LPAKRqnfQef"
      }
    },
    {
      "cell_type": "code",
      "source": [
        "batch_size = 16\n",
        "# Define the number of subprocesses to use for data loading.\n",
        "num_workers = 4\n",
        "\n",
        "# Create a DataLoader for the training and validation dataset:\n",
        "# 1. Shuffle the training data for each epoch.\n",
        "# 2. Drop the last batch if its size is not equal to `batch_size` to maintain consistency.\n",
        "train_loader = torch.utils.data.DataLoader(dataset = train_set,\n",
        "                                           batch_size = batch_size,\n",
        "                                           shuffle = True,\n",
        "                                           num_workers = num_workers,\n",
        "                                           drop_last = True)\n",
        "\n",
        "# Do not drop any data; process all the validation data.\n",
        "val_loader = torch.utils.data.DataLoader(dataset=val_set,\n",
        "                                         batch_size=batch_size,\n",
        "                                         shuffle=False,\n",
        "                                         num_workers=num_workers,\n",
        "                                         drop_last=False)\n",
        "# Create a DataLoader for the testing dataset:\n",
        "# Do not drop any data; process all the test data.\n",
        "test_loader = torch.utils.data.DataLoader(dataset=test_dataset,\n",
        "                                          batch_size=batch_size,\n",
        "                                          shuffle=False,\n",
        "                                          num_workers=num_workers,\n",
        "                                          drop_last=False)"
      ],
      "metadata": {
        "colab": {
          "base_uri": "https://localhost:8080/"
        },
        "id": "vBz49y9xfRcE",
        "outputId": "0e90bb04-63c9-4ce0-f870-ce473a49a8c9"
      },
      "execution_count": 9,
      "outputs": [
        {
          "output_type": "stream",
          "name": "stderr",
          "text": [
            "/usr/local/lib/python3.10/dist-packages/torch/utils/data/dataloader.py:557: UserWarning: This DataLoader will create 4 worker processes in total. Our suggested max number of worker in current system is 2, which is smaller than what this DataLoader is going to create. Please be aware that excessive worker creation might get DataLoader running slow or even freeze, lower the worker number to avoid potential slowness/freeze if necessary.\n",
            "  warnings.warn(_create_warning_msg(\n"
          ]
        }
      ]
    },
    {
      "cell_type": "code",
      "source": [
        "import matplotlib.pyplot as plt\n",
        "\n",
        "# Assuming you have imported necessary libraries and defined your datasets already\n",
        "\n",
        "# Create a function to display images\n",
        "def show_images(dataset, num_images=5):\n",
        "    # Set up a figure with the specified number of subplots\n",
        "    fig, axes = plt.subplots(1, num_images, figsize=(12, 3))\n",
        "\n",
        "    for i in range(num_images):\n",
        "        # Get an image and its label from the dataset\n",
        "        image, label = dataset[i]\n",
        "\n",
        "        # Unnormalize the image to display it properly\n",
        "        image = (image * 0.26158784) + 0.44653091  # Unnormalize using the CIFAR-10 statistics\n",
        "\n",
        "        # Transpose the image  (C, H, W) -> (H,W,C) format for displaying\n",
        "        image = image.permute(1, 2, 0)\n",
        "\n",
        "        # Display the image\n",
        "        axes[i].imshow(image)\n",
        "        axes[i].set_title(f\"Label: {label}\")\n",
        "        axes[i].axis('off')\n",
        "\n",
        "    plt.show()\n",
        "\n",
        "# Show examples from the training dataset\n",
        "show_images(train_set)\n",
        "\n",
        "# Show examples from the test dataset\n",
        "show_images(test_dataset)\n"
      ],
      "metadata": {
        "colab": {
          "base_uri": "https://localhost:8080/",
          "height": 525
        },
        "id": "I74LhFdHjWKM",
        "outputId": "011a9124-c327-42d7-ab84-9ddf3277feff"
      },
      "execution_count": 10,
      "outputs": [
        {
          "output_type": "stream",
          "name": "stderr",
          "text": [
            "WARNING:matplotlib.image:Clipping input data to the valid range for imshow with RGB data ([0..1] for floats or [0..255] for integers).\n"
          ]
        },
        {
          "output_type": "display_data",
          "data": {
            "text/plain": [
              "<Figure size 1200x300 with 5 Axes>"
            ],
            "image/png": "[encoded data removed]"
          },
          "metadata": {}
        },
        {
          "output_type": "stream",
          "name": "stderr",
          "text": [
            "WARNING:matplotlib.image:Clipping input data to the valid range for imshow with RGB data ([0..1] for floats or [0..255] for integers).\n",
            "WARNING:matplotlib.image:Clipping input data to the valid range for imshow with RGB data ([0..1] for floats or [0..255] for integers).\n",
            "WARNING:matplotlib.image:Clipping input data to the valid range for imshow with RGB data ([0..1] for floats or [0..255] for integers).\n",
            "WARNING:matplotlib.image:Clipping input data to the valid range for imshow with RGB data ([0..1] for floats or [0..255] for integers).\n"
          ]
        },
        {
          "output_type": "display_data",
          "data": {
            "text/plain": [
              "<Figure size 1200x300 with 5 Axes>"
            ],
            "image/png": "[encoded data removed]"
          },
          "metadata": {}
        }
      ]
    },
    {
      "cell_type": "code",
      "source": [
        "device = torch.device(\"cuda\" if torch.cuda.is_available() else \"cpu\")\n",
        "args = ModelArgs()\n",
        "model = VisionTransformer(args).to(device)\n",
        "criterion = nn.CrossEntropyLoss()\n",
        "optimizer = torch.optim.Adam(model.parameters(),3e-4)\n",
        "lr_scheduler = torch.optim.lr_scheduler.MultiStepLR(optimizer, milestones=[80, 130], gamma=0.1)"
      ],
      "metadata": {
        "id": "Lfp7OVmqiaQm"
      },
      "execution_count": 11,
      "outputs": []
    },
    {
      "cell_type": "code",
      "source": [
        "from tqdm import tqdm"
      ],
      "metadata": {
        "id": "NNELzz8krpwi"
      },
      "execution_count": 12,
      "outputs": []
    },
    {
      "cell_type": "code",
      "source": [
        "num_epochs = 15\n",
        "for epoch in range(num_epochs):\n",
        "    model.train()\n",
        "    total_loss = 0.0\n",
        "    for i,(imgs,labels) in enumerate(tqdm(train_loader)):\n",
        "        imgs,labels = imgs.to(device),labels.to(device)\n",
        "\n",
        "        optimizer.zero_grad()\n",
        "\n",
        "        outputs = model(imgs)\n",
        "        loss = criterion(outputs,labels)\n",
        "\n",
        "        loss.backward()\n",
        "        optimizer.step()\n",
        "\n",
        "        total_loss += loss.item()\n",
        "\n",
        "    avg_train_loss = total_loss / len(train_loader)\n",
        "    print(f\"Epoch : [{epoch+1} / {num_epochs}] ,Train loss :{avg_train_loss:.4f}\")\n",
        "\n",
        "    #validation\n",
        "    model.eval()\n",
        "    total_val_loss = 0.0\n",
        "    correct = 0\n",
        "    total = 0\n",
        "    with torch.no_grad():\n",
        "        for imgs,labels in tqdm(val_loader):\n",
        "            imgs,labels = imgs.to(device),labels.to(device)\n",
        "\n",
        "            outputs = model(imgs)\n",
        "            loss = criterion(outputs,labels)\n",
        "\n",
        "            total_val_loss += loss.item()\n",
        "            predicted = outputs.argmax(1)\n",
        "            total += labels.size(0)\n",
        "            correct += predicted.eq(labels).sum().item()\n",
        "\n",
        "    avg_val_loss = total_val_loss / len(val_loader)\n",
        "    val_accuracy = 100 * correct / total\n",
        "    print(f\"Epoch [{epoch+1}/{num_epochs}], Validation Loss: {avg_val_loss:.4f}, Validation Accuracy: {val_accuracy:.2f}%\")\n",
        "    # Update the learning rate\n",
        "    lr_scheduler.step()\n",
        "\n",
        "print(\"Training complete!\")"
      ],
      "metadata": {
        "colab": {
          "base_uri": "https://localhost:8080/"
        },
        "id": "K4qPLnWkljqx",
        "outputId": "9f7db4f7-56ff-4794-af34-4e31afc58709"
      },
      "execution_count": 21,
      "outputs": [
        {
          "output_type": "stream",
          "name": "stderr",
          "text": [
            "100%|██████████| 2812/2812 [01:17<00:00, 36.11it/s]\n"
          ]
        },
        {
          "output_type": "stream",
          "name": "stdout",
          "text": [
            "Epoch : [1 / 5] ,Train loss :1.1154\n"
          ]
        },
        {
          "output_type": "stream",
          "name": "stderr",
          "text": [
            "100%|██████████| 313/313 [00:04<00:00, 65.45it/s]\n"
          ]
        },
        {
          "output_type": "stream",
          "name": "stdout",
          "text": [
            "Epoch [1/5], Validation Loss: 1.1718, Validation Accuracy: 58.34%\n"
          ]
        },
        {
          "output_type": "stream",
          "name": "stderr",
          "text": [
            "100%|██████████| 2812/2812 [01:17<00:00, 36.20it/s]\n"
          ]
        },
        {
          "output_type": "stream",
          "name": "stdout",
          "text": [
            "Epoch : [2 / 5] ,Train loss :1.0921\n"
          ]
        },
        {
          "output_type": "stream",
          "name": "stderr",
          "text": [
            "100%|██████████| 313/313 [00:05<00:00, 54.40it/s]\n"
          ]
        },
        {
          "output_type": "stream",
          "name": "stdout",
          "text": [
            "Epoch [2/5], Validation Loss: 1.1296, Validation Accuracy: 60.08%\n"
          ]
        },
        {
          "output_type": "stream",
          "name": "stderr",
          "text": [
            "100%|██████████| 2812/2812 [01:17<00:00, 36.43it/s]\n"
          ]
        },
        {
          "output_type": "stream",
          "name": "stdout",
          "text": [
            "Epoch : [3 / 5] ,Train loss :1.0652\n"
          ]
        },
        {
          "output_type": "stream",
          "name": "stderr",
          "text": [
            "100%|██████████| 313/313 [00:04<00:00, 69.50it/s]\n"
          ]
        },
        {
          "output_type": "stream",
          "name": "stdout",
          "text": [
            "Epoch [3/5], Validation Loss: 1.1057, Validation Accuracy: 61.58%\n"
          ]
        },
        {
          "output_type": "stream",
          "name": "stderr",
          "text": [
            "100%|██████████| 2812/2812 [01:17<00:00, 36.24it/s]\n"
          ]
        },
        {
          "output_type": "stream",
          "name": "stdout",
          "text": [
            "Epoch : [4 / 5] ,Train loss :1.0446\n"
          ]
        },
        {
          "output_type": "stream",
          "name": "stderr",
          "text": [
            "100%|██████████| 313/313 [00:05<00:00, 57.26it/s]\n"
          ]
        },
        {
          "output_type": "stream",
          "name": "stdout",
          "text": [
            "Epoch [4/5], Validation Loss: 1.0778, Validation Accuracy: 61.86%\n"
          ]
        },
        {
          "output_type": "stream",
          "name": "stderr",
          "text": [
            "100%|██████████| 2812/2812 [01:18<00:00, 36.04it/s]\n"
          ]
        },
        {
          "output_type": "stream",
          "name": "stdout",
          "text": [
            "Epoch : [5 / 5] ,Train loss :1.0210\n"
          ]
        },
        {
          "output_type": "stream",
          "name": "stderr",
          "text": [
            "100%|██████████| 313/313 [00:04<00:00, 69.18it/s]"
          ]
        },
        {
          "output_type": "stream",
          "name": "stdout",
          "text": [
            "Epoch [5/5], Validation Loss: 1.0720, Validation Accuracy: 62.34%\n",
            "Training complete!\n"
          ]
        },
        {
          "output_type": "stream",
          "name": "stderr",
          "text": [
            "\n"
          ]
        }
      ]
    },
    {
      "cell_type": "code",
      "source": [
        "model.eval()\n",
        "correct = 0\n",
        "total = 0\n",
        "with torch.no_grad():\n",
        "    for inputs, labels in test_loader:\n",
        "        inputs, labels = inputs.to(device), labels.to(device)\n",
        "\n",
        "        # Forward pass\n",
        "        outputs = model(inputs)\n",
        "        _, predicted = outputs.max(dim=-1)\n",
        "        total += labels.size(0)\n",
        "        correct += predicted.eq(labels).sum().item()\n",
        "\n",
        "test_accuracy = 100 * correct / total\n",
        "print(f\"Test Accuracy: {test_accuracy:.2f}%\")"
      ],
      "metadata": {
        "colab": {
          "base_uri": "https://localhost:8080/"
        },
        "id": "TP49Gl_2ltRN",
        "outputId": "b3595446-203d-42b4-e197-5f9140e51933"
      },
      "execution_count": 22,
      "outputs": [
        {
          "output_type": "stream",
          "name": "stdout",
          "text": [
            "Test Accuracy: 63.34%\n"
          ]
        }
      ]
    },
    {
      "cell_type": "code",
      "source": [
        "import matplotlib.pyplot as plt\n",
        "\n",
        "model.eval()\n",
        "correct = 0\n",
        "total = 0\n",
        "\n",
        "# Choose the number of images you want to plot\n",
        "num_images_to_plot = 5\n",
        "\n",
        "# Create a figure for plotting\n",
        "fig, axes = plt.subplots(1, num_images_to_plot, figsize=(12, 3))\n",
        "\n",
        "with torch.no_grad():\n",
        "    for i, (inputs, labels) in enumerate(test_loader):\n",
        "        if i >= num_images_to_plot:\n",
        "            break\n",
        "\n",
        "        inputs, labels = inputs.to(device), labels.to(device)\n",
        "\n",
        "        # Forward pass\n",
        "        outputs = model(inputs)\n",
        "        _, predicted = outputs.max(dim=-1)\n",
        "        image_label = labels[0].item()\n",
        "        predicted_label = predicted[0].item()\n",
        "\n",
        "        # Convert the image tensor to a NumPy array\n",
        "        image = inputs[0].cpu().numpy().transpose((1, 2, 0))\n",
        "\n",
        "        # Display the image\n",
        "        ax = axes[i]\n",
        "        ax.imshow(image)\n",
        "        ax.set_title(f'Real: {image_label}\\nPredicted: {predicted_label}')\n",
        "        ax.axis('off')\n",
        "        # Update accuracy variables\n",
        "\n",
        "        total += 1\n",
        "        correct += (predicted == labels).sum().item()\n",
        "test_accuracy = 100 * correct / total\n",
        "print(f\"Test Accuracy: {test_accuracy:.2f}%\")\n",
        "\n",
        "plt.show()  # Show the plot with selected images and labels\n"
      ],
      "metadata": {
        "colab": {
          "base_uri": "https://localhost:8080/",
          "height": 363
        },
        "id": "g78Qk40xvdux",
        "outputId": "a98a486b-8bcf-4fee-c118-77209c083a40"
      },
      "execution_count": 27,
      "outputs": [
        {
          "output_type": "stream",
          "name": "stderr",
          "text": [
            "WARNING:matplotlib.image:Clipping input data to the valid range for imshow with RGB data ([0..1] for floats or [0..255] for integers).\n",
            "WARNING:matplotlib.image:Clipping input data to the valid range for imshow with RGB data ([0..1] for floats or [0..255] for integers).\n",
            "WARNING:matplotlib.image:Clipping input data to the valid range for imshow with RGB data ([0..1] for floats or [0..255] for integers).\n",
            "WARNING:matplotlib.image:Clipping input data to the valid range for imshow with RGB data ([0..1] for floats or [0..255] for integers).\n",
            "WARNING:matplotlib.image:Clipping input data to the valid range for imshow with RGB data ([0..1] for floats or [0..255] for integers).\n"
          ]
        },
        {
          "output_type": "stream",
          "name": "stdout",
          "text": [
            "Test Accuracy: 1140.00%\n"
          ]
        },
        {
          "output_type": "display_data",
          "data": {
            "text/plain": [
              "<Figure size 1200x300 with 5 Axes>"
            ],
            "image/png": "[encoded data removed]"
          },
          "metadata": {}
        }
      ]
    },
    {
      "cell_type": "code",
      "source": [
        "import matplotlib.pyplot as plt\n",
        "\n",
        "model.eval()\n",
        "correct = 0\n",
        "total = 0\n",
        "\n",
        "# Choose the number of images you want to plot\n",
        "num_images_to_plot = 8\n",
        "\n",
        "# Create a figure for plotting\n",
        "fig, axes = plt.subplots(1, num_images_to_plot, figsize=(12, 3))\n",
        "\n",
        "with torch.no_grad():\n",
        "    for i, (inputs, labels) in enumerate(test_loader):\n",
        "        if i >= num_images_to_plot:\n",
        "            break\n",
        "\n",
        "        inputs, labels = inputs.to(device), labels.to(device)\n",
        "\n",
        "        # Forward pass\n",
        "        outputs = model(inputs)\n",
        "        _, predicted = outputs.max(dim=-1)\n",
        "        image_label = labels[0].item()\n",
        "        predicted_label = predicted[0].item()\n",
        "\n",
        "        # Convert the image tensor to a NumPy array\n",
        "        image = inputs[0].cpu().numpy().transpose((1, 2, 0))\n",
        "\n",
        "        # Display the image\n",
        "        ax = axes[i]\n",
        "        ax.imshow(image)\n",
        "        ax.set_title(f'Real: {image_label}\\nPredicted: {predicted_label}')\n",
        "        ax.axis('off')\n",
        "\n",
        "        # Update accuracy variables\n",
        "        total += labels.size(0)  # Update the total count with the batch size\n",
        "        correct += (predicted == labels).sum().item()\n",
        "\n",
        "test_accuracy = 100 * correct / total\n",
        "print(f\"Test Accuracy: {test_accuracy:.2f}%\")\n",
        "\n",
        "plt.show()  # Show the plot with selected images and labels\n"
      ],
      "metadata": {
        "colab": {
          "base_uri": "https://localhost:8080/",
          "height": 354
        },
        "id": "gNHf-SDXyxlt",
        "outputId": "b0de7de3-d307-4282-b143-0489d4c3e8c9"
      },
      "execution_count": 32,
      "outputs": [
        {
          "output_type": "stream",
          "name": "stderr",
          "text": [
            "WARNING:matplotlib.image:Clipping input data to the valid range for imshow with RGB data ([0..1] for floats or [0..255] for integers).\n",
            "WARNING:matplotlib.image:Clipping input data to the valid range for imshow with RGB data ([0..1] for floats or [0..255] for integers).\n",
            "WARNING:matplotlib.image:Clipping input data to the valid range for imshow with RGB data ([0..1] for floats or [0..255] for integers).\n",
            "WARNING:matplotlib.image:Clipping input data to the valid range for imshow with RGB data ([0..1] for floats or [0..255] for integers).\n",
            "WARNING:matplotlib.image:Clipping input data to the valid range for imshow with RGB data ([0..1] for floats or [0..255] for integers).\n",
            "WARNING:matplotlib.image:Clipping input data to the valid range for imshow with RGB data ([0..1] for floats or [0..255] for integers).\n",
            "WARNING:matplotlib.image:Clipping input data to the valid range for imshow with RGB data ([0..1] for floats or [0..255] for integers).\n",
            "WARNING:matplotlib.image:Clipping input data to the valid range for imshow with RGB data ([0..1] for floats or [0..255] for integers).\n"
          ]
        },
        {
          "output_type": "stream",
          "name": "stdout",
          "text": [
            "Test Accuracy: 67.97%\n"
          ]
        },
        {
          "output_type": "display_data",
          "data": {
            "text/plain": [
              "<Figure size 1200x300 with 8 Axes>"
            ],
            "image/png": "[encoded data removed]"
          },
          "metadata": {}
        }
      ]
    }
  ]
}