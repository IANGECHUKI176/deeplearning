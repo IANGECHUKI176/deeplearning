{
  "cells": [
    {
      "cell_type": "markdown",
      "metadata": {
        "id": "view-in-github",
        "colab_type": "text"
      },
      "source": [
        "<a href=\"https://colab.research.google.com/github/IANGECHUKI176/deeplearning/blob/main/pytorch/nlp/pytorch-seq2seq/3_Neural_Machine_Translation_by_Jointly_Learning_to_Align_and_Translate.ipynb\" target=\"_parent\"><img src=\"https://colab.research.google.com/assets/colab-badge.svg\" alt=\"Open In Colab\"/></a>"
      ]
    },
    {
      "cell_type": "markdown",
      "metadata": {
        "id": "AZaEXK13Oow5"
      },
      "source": [
        "Reference [Bentrevett](https://github.com/bentrevett/pytorch-seq2seq/blob/master/3%20-%20Neural%20Machine%20Translation%20by%20Jointly%20Learning%20to%20Align%20and%20Translate.ipynb)\n",
        "\n",
        "[NEURAL MACHINE TRANSLATION\n",
        "BY JOINTLY LEARNING TO ALIGN AND TRANSLATE](https://arxiv.org/pdf/1409.0473.pdf)"
      ]
    },
    {
      "cell_type": "code",
      "execution_count": null,
      "metadata": {
        "id": "KKsKlVpuNYRX"
      },
      "outputs": [],
      "source": [
        "import torch\n",
        "from torch import nn\n",
        "import torch.nn.functional as F\n",
        "\n",
        "import matplotlib.pyplot as plt\n",
        "import matplotlib.ticker as ticker\n",
        "import numpy as np\n",
        "from tqdm import tqdm\n",
        "import random\n",
        "import math\n",
        "import time"
      ]
    },
    {
      "cell_type": "code",
      "execution_count": null,
      "metadata": {
        "id": "DxdiBLiVOv3u"
      },
      "outputs": [],
      "source": [
        "import torchtext\n",
        "import torch\n",
        "from torchtext.data.utils import get_tokenizer\n",
        "from collections import Counter\n",
        "from torchtext.vocab import vocab\n",
        "from torchtext.utils import download_from_url, extract_archive\n",
        "import io"
      ]
    },
    {
      "cell_type": "code",
      "execution_count": null,
      "metadata": {
        "id": "knYhQXecQKw3"
      },
      "outputs": [],
      "source": [
        "# !python -m spacy download en_core_web_sm\n",
        "# !python -m spacy download de_core_news_sm"
      ]
    },
    {
      "cell_type": "code",
      "execution_count": null,
      "metadata": {
        "id": "oZkV94oZLze_"
      },
      "outputs": [],
      "source": [
        "\n",
        "url_base = 'https://raw.githubusercontent.com/multi30k/dataset/master/data/task1/raw/'\n",
        "train_urls = ('train.de.gz', 'train.en.gz')\n",
        "val_urls = ('val.de.gz', 'val.en.gz')\n",
        "test_urls = ('test_2016_flickr.de.gz', 'test_2016_flickr.en.gz')\n",
        "\n",
        "train_filepaths = [extract_archive(download_from_url(url_base + url))[0] for url in train_urls]\n",
        "val_filepaths = [extract_archive(download_from_url(url_base + url))[0] for url in val_urls]\n",
        "test_filepaths = [extract_archive(download_from_url(url_base + url))[0] for url in test_urls]\n",
        "\n",
        "de_tokenizer = get_tokenizer('spacy', language='de_core_news_sm')\n",
        "en_tokenizer = get_tokenizer('spacy', language='en_core_web_sm')\n",
        "\n",
        "def build_vocab(filepath, tokenizer):\n",
        "    counter = Counter()\n",
        "    with io.open(filepath, encoding=\"utf8\") as f:\n",
        "        for string_ in f:\n",
        "            counter.update(tokenizer(string_))\n",
        "    v2 = vocab(counter, specials=['<unk>', '<pad>', '<bos>', '<eos>'])\n",
        "    v2.set_default_index(0)\n",
        "    return v2\n",
        "\n",
        "de_vocab = build_vocab(train_filepaths[0], de_tokenizer)\n",
        "en_vocab = build_vocab(train_filepaths[1], en_tokenizer)\n",
        "\n",
        "def data_process(filepaths):\n",
        "    raw_de_iter = iter(io.open(filepaths[0], encoding=\"utf8\"))\n",
        "    raw_en_iter = iter(io.open(filepaths[1], encoding=\"utf8\"))\n",
        "    data = []\n",
        "    for (raw_de, raw_en) in zip(raw_de_iter, raw_en_iter):\n",
        "        de_tensor_ = torch.tensor([de_vocab[token] for token in de_tokenizer(raw_de)],\n",
        "                                dtype=torch.long)\n",
        "        en_tensor_ = torch.tensor([en_vocab[token] for token in en_tokenizer(raw_en)],\n",
        "                                dtype=torch.long)\n",
        "        data.append((de_tensor_, en_tensor_))\n",
        "    return data\n",
        "\n",
        "train_data = data_process(train_filepaths)\n",
        "val_data = data_process(val_filepaths)\n",
        "test_data = data_process(test_filepaths)"
      ]
    },
    {
      "cell_type": "code",
      "execution_count": null,
      "metadata": {
        "colab": {
          "base_uri": "https://localhost:8080/"
        },
        "id": "dLftjF_FO1tH",
        "outputId": "a20adcd7-b237-4ec8-dfa2-a04b4320892e"
      },
      "outputs": [
        {
          "data": {
            "text/plain": [
              "19215"
            ]
          },
          "execution_count": 7,
          "metadata": {},
          "output_type": "execute_result"
        }
      ],
      "source": [
        "len(de_vocab)"
      ]
    },
    {
      "cell_type": "code",
      "execution_count": null,
      "metadata": {
        "id": "jHKwZbCdNJTN"
      },
      "outputs": [],
      "source": [
        "BATCH_SIZE = 128\n",
        "PAD_IDX = de_vocab['<pad>']\n",
        "BOS_IDX = de_vocab['<bos>']\n",
        "EOS_IDX = de_vocab['<eos>']\n",
        "\n",
        "from torch.nn.utils.rnn import pad_sequence\n",
        "from torch.utils.data import DataLoader\n",
        "\n",
        "device = torch.device('cuda' if torch.cuda.is_available() else 'cpu')\n",
        "def generate_batch(data_batch):\n",
        "  de_batch, en_batch = [], []\n",
        "  for (de_item, en_item) in data_batch:\n",
        "    de_batch.append(torch.cat([torch.tensor([BOS_IDX]), de_item, torch.tensor([EOS_IDX])], dim=0))\n",
        "    en_batch.append(torch.cat([torch.tensor([BOS_IDX]), en_item, torch.tensor([EOS_IDX])], dim=0))\n",
        "  de_batch = pad_sequence(de_batch, padding_value=PAD_IDX)\n",
        "  en_batch = pad_sequence(en_batch, padding_value=PAD_IDX)\n",
        "  return de_batch, en_batch\n",
        "\n",
        "train_iter = DataLoader(train_data, batch_size=BATCH_SIZE,\n",
        "                        shuffle=True, collate_fn=generate_batch)\n",
        "valid_iter = DataLoader(val_data, batch_size=BATCH_SIZE,\n",
        "                        shuffle=True, collate_fn=generate_batch)\n",
        "test_iter = DataLoader(test_data, batch_size=BATCH_SIZE,\n",
        "                       shuffle=True, collate_fn=generate_batch)"
      ]
    },
    {
      "cell_type": "code",
      "execution_count": null,
      "metadata": {
        "id": "cBGlzyeFvoV5"
      },
      "outputs": [],
      "source": [
        "class Encoder(nn.Module):\n",
        "    def __init__(self,input_dim,embed_dim,enc_hid_dim,dec_hic_dim,dropout):\n",
        "        super(Encoder,self).__init__()\n",
        "\n",
        "        self.embedding = nn.Embedding(input_dim,embed_dim)\n",
        "\n",
        "        self.rnn = nn.GRU(embed_dim,enc_hid_dim,bidirectional = True)\n",
        "\n",
        "        self.fc = nn.Linear(enc_hid_dim * 2,dec_hic_dim)\n",
        "\n",
        "        self.dropout = nn.Dropout(dropout)\n",
        "\n",
        "    def forward(self,src):\n",
        "        #src = [src len ,batch_size]\n",
        "        embedded = self.dropout(self.embedding(src))\n",
        "\n",
        "        #embedded = [src len ,batch_size,embedded_dim]\n",
        "        outputs , hidden = self.rnn(embedded)\n",
        "\n",
        "        #outputs = [src len, batch size, hid dim * num directions]\n",
        "        #hidden = [n layers * num directions, batch size, hid dim]\n",
        "\n",
        "        #hidden is stacked [forward_1, backward_1, forward_2, backward_2, ...]\n",
        "        #outputs are always from the last layer\n",
        "\n",
        "        #hidden [-2, :, : ] is the last of the forwards RNN\n",
        "        #hidden [-1, :, : ] is the last of the backwards RNN\n",
        "\n",
        "        #initial decoder hidden is final hidden state of the forwards and backwards\n",
        "        #  encoder RNNs fed through a linear layer\n",
        "\n",
        "        hidden = torch.tanh(self.fc(torch.cat([hidden[-2,:,:],hidden[-1,:,:]],dim = 1)))\n",
        "\n",
        "        #outputs = [src len, batch size, enc hid dim * 2]\n",
        "        #hidden = [batch size, dec hid dim]\n",
        "        return outputs,hidden"
      ]
    },
    {
      "cell_type": "code",
      "execution_count": null,
      "metadata": {
        "id": "NC0s8GVLvq6r"
      },
      "outputs": [],
      "source": [
        "class Attention(nn.Module):\n",
        "    def __init__(self,enc_hid_dim,dec_hid_dim):\n",
        "        super().__init__()\n",
        "        self.att = nn.Linear((enc_hid_dim * 2) + dec_hid_dim,dec_hid_dim)\n",
        "        self.v = nn.Linear(dec_hid_dim,1,bias = False)\n",
        "    def forward(self,hidden,encoder_outputs):\n",
        "        #hidden = [batch_size,dec_hid dim]\n",
        "        #encoder_outputs = [src len,batch size,encoder hid dim * 2]\n",
        "        batch_size = encoder_outputs.shape[1]\n",
        "        src_len = encoder_outputs.shape[0]\n",
        "\n",
        "        hidden = hidden.unsqueeze(1)\n",
        "        #hidden = torch.Size([batch size, 1, dec_hid dim])\n",
        "        #repeat decoder hidden states src_len times\n",
        "        hidden = hidden.repeat(1,src_len,1)\n",
        "        #hidden = torch.Size([batch size, seq len, dec_hid dim])\n",
        "\n",
        "        encoder_outputs = encoder_outputs.permute(1,0,2)\n",
        "        #encoder_outputs = [batch size,src len,encoder hid dim * 2]\n",
        "\n",
        "        energy = torch.tanh(self.att(torch.cat((hidden,encoder_outputs),dim = 2)))\n",
        "        #energy = [batch size, src len, dec hid dim]\n",
        "\n",
        "        attention = self.v(energy)\n",
        "        #attention = [batch size, src len, 1]\n",
        "\n",
        "        attention = attention.squeeze(2)\n",
        "        #attention = [batch size, src len]\n",
        "        return F.softmax(attention,dim=1)\n"
      ]
    },
    {
      "cell_type": "code",
      "execution_count": null,
      "metadata": {
        "id": "R7zHMb4DvwZK"
      },
      "outputs": [],
      "source": [
        "class Decoder(nn.Module):\n",
        "    def __init__(self,output_dim,emb_dim,enc_hid_dim,dec_hid_dim,dropout,attention):\n",
        "        super().__init__()\n",
        "        self.output_dim = output_dim\n",
        "        self.attention = attention\n",
        "        self.embedding = nn.Embedding(output_dim,emb_dim)\n",
        "        self.rnn = nn.GRU((enc_hid_dim*2)+ emb_dim,dec_hid_dim)\n",
        "        self.fc_out = nn.Linear((enc_hid_dim*2)+ dec_hid_dim + emb_dim,output_dim)\n",
        "        self.dropout = nn.Dropout(dropout)\n",
        "    def forward(self,input,hidden,encoder_outputs):\n",
        "        #input = [batch size]\n",
        "        #hidden = [batch size, dec hid dim]\n",
        "        #encoder_outputs = [src len, batch size, enc hid dim * 2]\n",
        "        input = input.unsqueeze(0)\n",
        "        #input = [1,batch size]\n",
        "\n",
        "        embedded = self.dropout(self.embedding(input))\n",
        "        #embedded = [1,batch size,embed_dim]\n",
        "\n",
        "        a = self.attention(hidden,encoder_outputs)\n",
        "        #a = [batch size, src len]\n",
        "\n",
        "        a = a.unsqueeze(1)\n",
        "        #a = [batch size, 1, src len]\n",
        "\n",
        "        encoder_outputs = encoder_outputs.permute(1,0,2)\n",
        "        #encoder_outputs = [batch size, src len, enc hid dim * 2]\n",
        "\n",
        "        weighted = torch.bmm(a,encoder_outputs)\n",
        "        #[batch size,1 ,enc hid dim * 2]\n",
        "\n",
        "        weighted = weighted.permute(1,0,2)\n",
        "        #[1 ,batch size,enc hid dim * 2]\n",
        "\n",
        "        rnn_input = torch.cat((embedded,weighted),dim=2)\n",
        "        #rnn_input = [1, batch size, (enc hid dim * 2) + emb dim]\n",
        "\n",
        "        output,hidden = self.rnn(rnn_input,hidden.unsqueeze(0))\n",
        "        #output = [seq len, batch size, dec hid dim * n directions]\n",
        "        #hidden = [n layers * n directions, batch size, dec hid dim]\n",
        "\n",
        "        #seq len, n layers and n directions will always be 1 in this decoder, therefore:\n",
        "        #output = [1, batch size, dec hid dim]\n",
        "        #hidden = [1, batch size, dec hid dim]\n",
        "        #this also means that output == hidden\n",
        "        assert (output == hidden).all()\n",
        "\n",
        "        embedded = embedded.squeeze(0) #[batch size,embed_dim]\n",
        "        output = output.squeeze(0)     #[batch size, dec hid dim]\n",
        "        weighted = weighted.squeeze(0) #[batch size,enc hid dim * 2]\n",
        "\n",
        "        out_cat = torch.cat((output,weighted,embedded),dim = 1)\n",
        "        #out_cat = [batch size,(enc hid dim * 2)+dec hid dim+embed_dim]\n",
        "        prediction = self.fc_out(out_cat)\n",
        "        #prediction = [batch size,out dim]\n",
        "        return prediction , hidden.squeeze(0)"
      ]
    },
    {
      "cell_type": "markdown",
      "metadata": {
        "id": "Dsn9zvuYJCEk"
      },
      "source": []
    },
    {
      "cell_type": "code",
      "execution_count": null,
      "metadata": {
        "id": "7RKSbnRi1jor"
      },
      "outputs": [],
      "source": [
        "class Seq2Seq(nn.Module):\n",
        "    def __init__(self,encoder,decoder):\n",
        "        super().__init__()\n",
        "\n",
        "        self.encoder = encoder\n",
        "        self.decoder = decoder\n",
        "    def forward(self,src,trg,teacher_forcing_ratio = 0.5):\n",
        "        #src = [src len, batch size]\n",
        "        #trg = [trg len, batch size]\n",
        "        #teacher_forcing_ratio is probability to use teacher forcing\n",
        "        #e.g. if teacher_forcing_ratio is 0.75 we use teacher forcing 75% of the time\n",
        "        batch_size = trg.shape[1]\n",
        "        trg_len = trg.shape[0]\n",
        "        trg_vocab_size = self.decoder.output_dim\n",
        "\n",
        "        #tensor to store decoder outputs\n",
        "        outputs = torch.zeros(trg_len,batch_size,trg_vocab_size).to(device)\n",
        "\n",
        "        #encoder_outputs is all hidden states of the input sequence, back and forwards\n",
        "        #hidden is the final forward and backward hidden states, passed through a linear layer\n",
        "        encoder_outputs,hidden = self.encoder(src)\n",
        "\n",
        "        #first input to the decoder is the <sos> tokens\n",
        "        input = trg[0,:]\n",
        "\n",
        "        for t in range(1,trg_len):\n",
        "            #insert input token embedding, previous hidden state and all encoder hidden states\n",
        "            #receive output tensor (predictions) and new hidden state\n",
        "            output,hidden = self.decoder(input,hidden,encoder_outputs)\n",
        "\n",
        "            #place predictions in a tensor holding predictions for each token\n",
        "            outputs[t] = output\n",
        "\n",
        "            #decide if we are going to use teacher forcing or not\n",
        "            teacher_force = random.random() < teacher_forcing_ratio\n",
        "\n",
        "            #get the highest predicted token from our predictions\n",
        "            top1 = output.argmax(1)\n",
        "\n",
        "            #if teacher forcing, use actual next token as next input\n",
        "            #if not, use predicted token\n",
        "            input =trg[t] if teacher_force else top1\n",
        "        return outputs"
      ]
    },
    {
      "cell_type": "code",
      "execution_count": null,
      "metadata": {
        "id": "uSavDCyAv0Kb"
      },
      "outputs": [],
      "source": [
        "INPUT_DIM =  len(de_vocab)\n",
        "OUTPUT_DIM = len(en_vocab)\n",
        "ENC_EMB_DIM = 256\n",
        "DEC_EMB_DIM = 256\n",
        "ENC_HID_DIM = 512\n",
        "DEC_HID_DIM = 512\n",
        "ENC_DROPOUT = 0.5\n",
        "DEC_DROPOUT = 0.5\n",
        "\n",
        "# outputs,hidden = enc(x.T)\n",
        "# input = y[:,0]\n",
        "enc = Encoder(INPUT_DIM,ENC_EMB_DIM,ENC_HID_DIM,DEC_HID_DIM,ENC_DROPOUT)\n",
        "# outputs,hidden = enc(x)\n",
        "att = Attention(ENC_HID_DIM,DEC_HID_DIM)\n",
        "# a = att(hidden,outputs)\n",
        "dec = Decoder(OUTPUT_DIM,DEC_EMB_DIM,ENC_HID_DIM,DEC_HID_DIM,DEC_DROPOUT,att)\n",
        "\n",
        "# pred,hidden = dec(input,hidden,outputs)\n",
        "model = Seq2Seq(enc,dec).to(device)"
      ]
    },
    {
      "cell_type": "code",
      "execution_count": null,
      "metadata": {
        "id": "CYIqiyUq1dSy"
      },
      "outputs": [],
      "source": [
        "def init_weights(m:nn.Module):\n",
        "    for name,param in m.named_parameters():\n",
        "        if 'weight' in name:\n",
        "            nn.init.normal_(param.data, mean=0, std=0.01)\n",
        "        else:\n",
        "            nn.init.constant_(param.data, 0)\n",
        "init_weights(model)"
      ]
    },
    {
      "cell_type": "code",
      "execution_count": null,
      "metadata": {
        "colab": {
          "base_uri": "https://localhost:8080/"
        },
        "id": "w9at1KPz2lFM",
        "outputId": "8060adbc-4c04-4163-883c-c7f5b7475077"
      },
      "outputs": [
        {
          "data": {
            "text/plain": [
              "33559382"
            ]
          },
          "execution_count": 20,
          "metadata": {},
          "output_type": "execute_result"
        }
      ],
      "source": [
        "def count_paramters(model:nn.Module):\n",
        "    return sum(p.numel() for p in model.parameters() if p.requires_grad)\n",
        "count_paramters(model)"
      ]
    },
    {
      "cell_type": "code",
      "execution_count": null,
      "metadata": {
        "id": "eMNLArTm2oAb"
      },
      "outputs": [],
      "source": [
        "TRG_PAD_IDX = en_vocab.get_stoi()['<pad>']\n",
        "\n",
        "criterion = nn.CrossEntropyLoss(ignore_index = TRG_PAD_IDX)\n",
        "\n",
        "optimizer = torch.optim.Adam(model.parameters())"
      ]
    },
    {
      "cell_type": "code",
      "execution_count": null,
      "metadata": {
        "id": "JMZwbY7w_6iP"
      },
      "outputs": [],
      "source": [
        "from tqdm import tqdm"
      ]
    },
    {
      "cell_type": "code",
      "execution_count": null,
      "metadata": {
        "id": "PCcQWc_H3u2i"
      },
      "outputs": [],
      "source": [
        "def train(model:nn.Module,\n",
        "          iterator :torch.utils.data.DataLoader,\n",
        "          optimizer:torch.optim.Optimizer,\n",
        "        criterion : nn.Module,\n",
        "          clip:float\n",
        "          ):\n",
        "\n",
        "    model.train()\n",
        "\n",
        "    epoch_loss = 0\n",
        "\n",
        "    for _, (src, trg) in enumerate(tqdm(iterator)):\n",
        "        src,trg = src.to(device),trg.to(device)\n",
        "        optimizer.zero_grad()\n",
        "        output = model(src,trg)\n",
        "        #trg = [trg len, batch size]\n",
        "        #output = [trg len, batch size, output dim]\n",
        "\n",
        "        output = output[1:].view(-1,output.shape[-1])\n",
        "        trg = trg[1:].view(-1)\n",
        "\n",
        "        #trg = [(trg len - 1) * batch size]\n",
        "        #output = [(trg len - 1) * batch size, output dim]\n",
        "\n",
        "        loss = criterion(output,trg)\n",
        "        loss.backward()\n",
        "        optimizer.step()\n",
        "\n",
        "        epoch_loss += loss.item()\n",
        "    return epoch_loss / len(iterator)"
      ]
    },
    {
      "cell_type": "code",
      "execution_count": null,
      "metadata": {
        "id": "dj8FkJ_B7Aw8"
      },
      "outputs": [],
      "source": [
        "def evaluate(model:nn.Module,\n",
        "             iterator:torch.utils.data.DataLoader,\n",
        "             criterion : nn.Module\n",
        "             ):\n",
        "    model.eval()\n",
        "    epoch_loss = 0\n",
        "\n",
        "    with torch.no_grad():\n",
        "        for _, (src, trg) in enumerate(tqdm(iterator)):\n",
        "            src,trg = src.to(device),trg.to(device)\n",
        "            output = model(src,trg,0)  #turn off teacher forcing\n",
        "\n",
        "            #trg = [trg len, batch size]\n",
        "            #output = [trg len, batch size, output dim]\n",
        "\n",
        "            output = output[1:].view(-1,output.shape[-1])\n",
        "            target = trg[1:].view(-1)\n",
        "\n",
        "            #trg = [(trg len - 1) * batch size]\n",
        "            #output = [(trg len - 1) * batch size, output dim]\n",
        "\n",
        "            loss = criterion(output,target)\n",
        "\n",
        "            epoch_loss += loss.item()\n",
        "    return epoch_loss/len(iterator)"
      ]
    },
    {
      "cell_type": "code",
      "execution_count": null,
      "metadata": {
        "id": "K8vDIx6p6O9o"
      },
      "outputs": [],
      "source": [
        "def epoch_time(start_time, end_time):\n",
        "    elapsed_time = end_time - start_time\n",
        "    elapsed_mins = int(elapsed_time / 60)\n",
        "    elapsed_secs = int(elapsed_time - (elapsed_mins * 60))\n",
        "    return elapsed_mins, elapsed_secs"
      ]
    },
    {
      "cell_type": "code",
      "execution_count": null,
      "metadata": {
        "colab": {
          "base_uri": "https://localhost:8080/"
        },
        "id": "7XccKdA47Mdu",
        "outputId": "a5868d6a-b820-4a3e-a62b-f33764ba92ad"
      },
      "outputs": [
        {
          "name": "stderr",
          "output_type": "stream",
          "text": [
            "100%|██████████| 227/227 [02:06<00:00,  1.80it/s]\n",
            "100%|██████████| 8/8 [00:02<00:00,  3.89it/s]\n"
          ]
        },
        {
          "name": "stdout",
          "output_type": "stream",
          "text": [
            "Epoch: 01 | Time: 2m 8s\n",
            "\tTrain Loss: 4.974 | Train PPL: 144.654\n",
            "\t Val. Loss: 4.961 |  Val. PPL: 142.777\n"
          ]
        },
        {
          "name": "stderr",
          "output_type": "stream",
          "text": [
            "100%|██████████| 227/227 [02:07<00:00,  1.78it/s]\n",
            "100%|██████████| 8/8 [00:02<00:00,  4.00it/s]\n"
          ]
        },
        {
          "name": "stdout",
          "output_type": "stream",
          "text": [
            "Epoch: 02 | Time: 2m 9s\n",
            "\tTrain Loss: 4.165 | Train PPL:  64.415\n",
            "\t Val. Loss: 4.617 |  Val. PPL: 101.165\n"
          ]
        },
        {
          "name": "stderr",
          "output_type": "stream",
          "text": [
            "100%|██████████| 227/227 [02:07<00:00,  1.78it/s]\n",
            "100%|██████████| 8/8 [00:02<00:00,  3.94it/s]\n"
          ]
        },
        {
          "name": "stdout",
          "output_type": "stream",
          "text": [
            "Epoch: 03 | Time: 2m 9s\n",
            "\tTrain Loss: 3.750 | Train PPL:  42.512\n",
            "\t Val. Loss: 4.324 |  Val. PPL:  75.521\n"
          ]
        },
        {
          "name": "stderr",
          "output_type": "stream",
          "text": [
            "100%|██████████| 227/227 [02:07<00:00,  1.78it/s]\n",
            "100%|██████████| 8/8 [00:01<00:00,  4.00it/s]\n"
          ]
        },
        {
          "name": "stdout",
          "output_type": "stream",
          "text": [
            "Epoch: 04 | Time: 2m 9s\n",
            "\tTrain Loss: 3.224 | Train PPL:  25.121\n",
            "\t Val. Loss: 3.904 |  Val. PPL:  49.624\n"
          ]
        },
        {
          "name": "stderr",
          "output_type": "stream",
          "text": [
            "100%|██████████| 227/227 [02:07<00:00,  1.78it/s]\n",
            "100%|██████████| 8/8 [00:02<00:00,  3.62it/s]\n"
          ]
        },
        {
          "name": "stdout",
          "output_type": "stream",
          "text": [
            "Epoch: 05 | Time: 2m 9s\n",
            "\tTrain Loss: 2.780 | Train PPL:  16.122\n",
            "\t Val. Loss: 3.714 |  Val. PPL:  41.034\n"
          ]
        },
        {
          "name": "stderr",
          "output_type": "stream",
          "text": [
            "100%|██████████| 227/227 [02:07<00:00,  1.79it/s]\n",
            "100%|██████████| 8/8 [00:01<00:00,  4.04it/s]\n"
          ]
        },
        {
          "name": "stdout",
          "output_type": "stream",
          "text": [
            "Epoch: 06 | Time: 2m 9s\n",
            "\tTrain Loss: 2.360 | Train PPL:  10.588\n",
            "\t Val. Loss: 3.635 |  Val. PPL:  37.883\n"
          ]
        },
        {
          "name": "stderr",
          "output_type": "stream",
          "text": [
            "100%|██████████| 227/227 [02:08<00:00,  1.77it/s]\n",
            "100%|██████████| 8/8 [00:02<00:00,  3.91it/s]\n"
          ]
        },
        {
          "name": "stdout",
          "output_type": "stream",
          "text": [
            "Epoch: 07 | Time: 2m 10s\n",
            "\tTrain Loss: 2.053 | Train PPL:   7.794\n",
            "\t Val. Loss: 3.514 |  Val. PPL:  33.575\n"
          ]
        },
        {
          "name": "stderr",
          "output_type": "stream",
          "text": [
            "100%|██████████| 227/227 [02:08<00:00,  1.77it/s]\n",
            "100%|██████████| 8/8 [00:02<00:00,  3.63it/s]\n"
          ]
        },
        {
          "name": "stdout",
          "output_type": "stream",
          "text": [
            "Epoch: 08 | Time: 2m 10s\n",
            "\tTrain Loss: 1.796 | Train PPL:   6.024\n",
            "\t Val. Loss: 3.568 |  Val. PPL:  35.434\n"
          ]
        },
        {
          "name": "stderr",
          "output_type": "stream",
          "text": [
            "100%|██████████| 227/227 [02:07<00:00,  1.78it/s]\n",
            "100%|██████████| 8/8 [00:02<00:00,  3.91it/s]\n"
          ]
        },
        {
          "name": "stdout",
          "output_type": "stream",
          "text": [
            "Epoch: 09 | Time: 2m 9s\n",
            "\tTrain Loss: 1.599 | Train PPL:   4.950\n",
            "\t Val. Loss: 3.614 |  Val. PPL:  37.099\n"
          ]
        },
        {
          "name": "stderr",
          "output_type": "stream",
          "text": [
            "100%|██████████| 227/227 [02:08<00:00,  1.77it/s]\n",
            "100%|██████████| 8/8 [00:02<00:00,  3.83it/s]"
          ]
        },
        {
          "name": "stdout",
          "output_type": "stream",
          "text": [
            "Epoch: 10 | Time: 2m 10s\n",
            "\tTrain Loss: 1.460 | Train PPL:   4.307\n",
            "\t Val. Loss: 3.643 |  Val. PPL:  38.224\n"
          ]
        },
        {
          "name": "stderr",
          "output_type": "stream",
          "text": [
            "\n"
          ]
        }
      ],
      "source": [
        "N_EPOCHS = 10\n",
        "CLIP = 1\n",
        "\n",
        "best_valid_loss = float('inf')\n",
        "train_losses = []\n",
        "val_losses = []\n",
        "for epoch in range(N_EPOCHS):\n",
        "\n",
        "    start_time = time.time()\n",
        "\n",
        "    train_loss = train(model, train_iter, optimizer, criterion, CLIP)\n",
        "    valid_loss = evaluate(model, valid_iter, criterion)\n",
        "    train_losses.append(train_loss)\n",
        "    val_losses.append(valid_loss)\n",
        "    end_time = time.time()\n",
        "\n",
        "    epoch_mins, epoch_secs = epoch_time(start_time, end_time)\n",
        "\n",
        "    if valid_loss < best_valid_loss:\n",
        "        best_valid_loss = valid_loss\n",
        "        torch.save(model.state_dict(), 'tut3-model.pt')\n",
        "\n",
        "    print(f'Epoch: {epoch+1:02} | Time: {epoch_mins}m {epoch_secs}s')\n",
        "    print(f'\\tTrain Loss: {train_loss:.3f} | Train PPL: {math.exp(train_loss):7.3f}')\n",
        "    print(f'\\t Val. Loss: {valid_loss:.3f} |  Val. PPL: {math.exp(valid_loss):7.3f}')"
      ]
    },
    {
      "cell_type": "code",
      "execution_count": null,
      "metadata": {
        "colab": {
          "base_uri": "https://localhost:8080/",
          "height": 448
        },
        "id": "jEtmJbPU7TyX",
        "outputId": "d8f3e610-d1e8-4e45-d97f-889e2a8b6a74"
      },
      "outputs": [
        {
          "data": {
            "text/plain": [
              "[<matplotlib.lines.Line2D at 0x7f853cd45c90>]"
            ]
          },
          "execution_count": 27,
          "metadata": {},
          "output_type": "execute_result"
        },
        {
          "data": {
            "image/png": "[encoded data removed]",
            "text/plain": [
              "<Figure size 640x480 with 1 Axes>"
            ]
          },
          "metadata": {},
          "output_type": "display_data"
        }
      ],
      "source": [
        "import matplotlib.pyplot as plt\n",
        "plt.plot(train_losses)\n",
        "plt.plot(val_losses)"
      ]
    },
    {
      "cell_type": "code",
      "execution_count": null,
      "metadata": {
        "id": "XceQPZMuVuv4"
      },
      "outputs": [],
      "source": [
        "# Define the translation function\n",
        "def translate_sentence(model, src_sentence,device, max_len=50):\n",
        "    model.eval()\n",
        "    with torch.no_grad():\n",
        "        if isinstance(src_sentence, str):\n",
        "            tokens = de_tokenizer(src_sentence)\n",
        "        else:\n",
        "            tokens = src_sentence\n",
        "\n",
        "\n",
        "        tokens = ['<bos>'] + tokens + ['<eos>']\n",
        "        src_indexes = de_vocab.lookup_indices(tokens)\n",
        "\n",
        "        src_tensor = torch.tensor(src_indexes).unsqueeze(1).to(device)\n",
        "\n",
        "\n",
        "        with torch.no_grad():\n",
        "            encoder_outputs, hidden = model.encoder(src_tensor)\n",
        "\n",
        "\n",
        "        BOS_INDEX = en_vocab.get_stoi()[\"<bos>\"]\n",
        "\n",
        "        trg_indexes = [BOS_INDEX]\n",
        "\n",
        "        for i in range(max_len):\n",
        "\n",
        "            trg_tensor = torch.LongTensor([trg_indexes[-1]]).to(device)\n",
        "            with torch.no_grad():\n",
        "                output, hidden = model.decoder(trg_tensor, hidden, encoder_outputs)\n",
        "\n",
        "\n",
        "            pred_token = output.argmax(1).item()\n",
        "\n",
        "            trg_indexes.append(pred_token)\n",
        "\n",
        "            if pred_token == en_vocab.get_stoi()[\"<eos>\"]:\n",
        "                break\n",
        "\n",
        "    trg_tokens = en_vocab.lookup_tokens(trg_indexes)\n",
        "\n",
        "    return trg_tokens[1:]"
      ]
    },
    {
      "cell_type": "code",
      "execution_count": null,
      "metadata": {
        "id": "8ALDmzlvPgUV"
      },
      "outputs": [],
      "source": [
        "def get_test_data(filepaths): #test_filepaths\n",
        "    raw_de_iter = iter(io.open(filepaths[0], encoding=\"utf8\"))\n",
        "    raw_en_iter = iter(io.open(filepaths[1], encoding=\"utf8\"))\n",
        "    return raw_de_iter,raw_en_iter\n"
      ]
    },
    {
      "cell_type": "code",
      "execution_count": null,
      "metadata": {
        "id": "n5pPP8B5PkFM"
      },
      "outputs": [],
      "source": [
        "test_x,test_y = get_test_data(test_filepaths)\n",
        "src_arr = []\n",
        "trg_arr = []\n",
        "for x,y in zip(test_x,test_y):\n",
        "    src_arr.append(x)\n",
        "    trg_arr.append(y)"
      ]
    },
    {
      "cell_type": "code",
      "execution_count": null,
      "metadata": {
        "colab": {
          "base_uri": "https://localhost:8080/"
        },
        "id": "yhqvHmwqRXsU",
        "outputId": "6d2d04e1-cc24-40ac-f2b8-6fc24df9e927"
      },
      "outputs": [
        {
          "name": "stdout",
          "output_type": "stream",
          "text": [
            "src: Eine Mutter und ihr kleiner Sohn genießen einen schönen Tag im Freien.\n",
            "\n",
            "trg: A mother and her young song enjoying a beautiful day outside.\n",
            "\n",
            "predicted trg = ['A', 'mother', 'and', 'her', 'son', 'enjoying', 'enjoying', 'a', 'hot', 'day', 'day', '.', '\\n', '<eos>']\n"
          ]
        }
      ],
      "source": [
        "example_idx = 10\n",
        "src = src_arr[example_idx]\n",
        "trg = trg_arr[example_idx]\n",
        "\n",
        "translation = translate_sentence(model,src, device)\n",
        "print('src:',src)\n",
        "print('trg:',trg)\n",
        "print(f'predicted trg = {translation}')"
      ]
    },
    {
      "cell_type": "code",
      "execution_count": null,
      "metadata": {
        "colab": {
          "background_save": true
        },
        "id": "jJ3K7KV1IsCc",
        "outputId": "5431618e-594c-4f4a-d0eb-119521a92a83"
      },
      "outputs": [
        {
          "name": "stdout",
          "output_type": "stream",
          "text": [
            "src: Eine Frau, die in einer Küche eine Schale mit Essen hält.\n",
            "\n",
            "trg: A woman holding a bowl of food in a kitchen.\n",
            "\n",
            "predicted trg = ['A', 'woman', 'holding', 'a', 'dish', 'in', 'a', 'kitchen', 'holding', 'food', '.', '\\n', '<eos>']\n"
          ]
        }
      ],
      "source": [
        "example_idx = 12\n",
        "src = src_arr[example_idx]\n",
        "trg = trg_arr[example_idx]\n",
        "\n",
        "translation = translate_sentence(model,src, device)\n",
        "print('src:',src)\n",
        "print('trg:',trg)\n",
        "print(f'predicted trg = {translation}')"
      ]
    },
    {
      "cell_type": "code",
      "source": [
        "example_idx = 14\n",
        "src = src_arr[example_idx]\n",
        "trg = trg_arr[example_idx]\n",
        "\n",
        "translation = translate_sentence(model,src, device)\n",
        "print('src:',src)\n",
        "print('trg:',trg)\n",
        "print(f'predicted trg = {translation}')"
      ],
      "metadata": {
        "colab": {
          "base_uri": "https://localhost:8080/"
        },
        "id": "Jz-aWALjJa2x",
        "outputId": "40262c1e-2969-4009-b9fb-8d261ffe9825"
      },
      "execution_count": 33,
      "outputs": [
        {
          "output_type": "stream",
          "name": "stdout",
          "text": [
            "src: Drei Leute sitzen in einer Höhle.\n",
            "\n",
            "trg: Three people sit in a cave.\n",
            "\n",
            "predicted trg = ['Three', 'people', 'are', 'sitting', 'in', 'a', 'mall', '.', '\\n', '<eos>']\n"
          ]
        }
      ]
    },
    {
      "cell_type": "code",
      "source": [
        "example_idx = 15\n",
        "src = src_arr[example_idx]\n",
        "trg = trg_arr[example_idx]\n",
        "\n",
        "translation = translate_sentence(model,src, device)\n",
        "print('src:',src)\n",
        "print('trg:',trg)\n",
        "print(f'predicted trg = {translation}')"
      ],
      "metadata": {
        "colab": {
          "base_uri": "https://localhost:8080/"
        },
        "id": "posgMJ4tJiKb",
        "outputId": "6aa51bd4-3aea-41bd-f84e-680ba0cea91b"
      },
      "execution_count": 34,
      "outputs": [
        {
          "output_type": "stream",
          "name": "stdout",
          "text": [
            "src: Ein Mädchen in einem Jeanskleid läuft über einen erhöhten Schwebebalken.\n",
            "\n",
            "trg: A girl in a jean dress is walking along a raised balance beam.\n",
            "\n",
            "predicted trg = ['A', 'girl', 'in', 'a', 'denim', 'dress', 'runs', 'across', 'a', 'piece', 'of', 'beam', '.', '\\n', '<eos>']\n"
          ]
        }
      ]
    }
  ],
  "metadata": {
    "accelerator": "GPU",
    "colab": {
      "provenance": [],
      "include_colab_link": true
    },
    "kernelspec": {
      "display_name": "Python 3",
      "name": "python3"
    },
    "language_info": {
      "name": "python"
    }
  },
  "nbformat": 4,
  "nbformat_minor": 0
}