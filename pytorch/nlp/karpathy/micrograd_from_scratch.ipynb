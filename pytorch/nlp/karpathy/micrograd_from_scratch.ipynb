{
  "nbformat": 4,
  "nbformat_minor": 0,
  "metadata": {
    "colab": {
      "provenance": [],
      "gpuType": "T4",
      "authorship_tag": "ABX9TyNrrhRawQdRaNctjYghnzRP",
      "include_colab_link": true
    },
    "kernelspec": {
      "name": "python3",
      "display_name": "Python 3"
    },
    "language_info": {
      "name": "python"
    },
    "accelerator": "GPU"
  },
  "cells": [
    {
      "cell_type": "markdown",
      "metadata": {
        "id": "view-in-github",
        "colab_type": "text"
      },
      "source": [
        "<a href=\"https://colab.research.google.com/github/IANGECHUKI176/deeplearning/blob/main/pytorch/nlp/karpathy/micrograd_from_scratch.ipynb\" target=\"_parent\"><img src=\"https://colab.research.google.com/assets/colab-badge.svg\" alt=\"Open In Colab\"/></a>"
      ]
    },
    {
      "cell_type": "code",
      "source": [
        "import numpy as np\n",
        "import matplotlib.pyplot as plt\n",
        "import math\n",
        "import random\n",
        "%matplotlib inline\n"
      ],
      "metadata": {
        "id": "MDT1WPQr6AxP"
      },
      "execution_count": null,
      "outputs": []
    },
    {
      "cell_type": "code",
      "source": [
        "def f(x):\n",
        "    return 3*x**2 - 4*x + 5"
      ],
      "metadata": {
        "id": "H4ZOdjdZ6Ow2"
      },
      "execution_count": null,
      "outputs": []
    },
    {
      "cell_type": "code",
      "source": [
        "f(3.0)"
      ],
      "metadata": {
        "colab": {
          "base_uri": "https://localhost:8080/"
        },
        "id": "K_yastfE6ai3",
        "outputId": "feb11292-3c4c-4063-ad55-01abd094afb4"
      },
      "execution_count": null,
      "outputs": [
        {
          "output_type": "execute_result",
          "data": {
            "text/plain": [
              "20.0"
            ]
          },
          "metadata": {},
          "execution_count": 379
        }
      ]
    },
    {
      "cell_type": "code",
      "source": [
        "x5 = np.arange(-5,5,0.25)\n",
        "y5 = f(x5)\n",
        "plt.plot(x5,y5)"
      ],
      "metadata": {
        "colab": {
          "base_uri": "https://localhost:8080/",
          "height": 447
        },
        "id": "0ESW_Wkm6ek7",
        "outputId": "0f27c8ba-2851-46ac-9ca0-1831a018ec58"
      },
      "execution_count": null,
      "outputs": [
        {
          "output_type": "execute_result",
          "data": {
            "text/plain": [
              "[<matplotlib.lines.Line2D at 0x7b87620ef310>]"
            ]
          },
          "metadata": {},
          "execution_count": 380
        },
        {
          "output_type": "display_data",
          "data": {
            "text/plain": [
              "<Figure size 640x480 with 1 Axes>"
            ],
            "image/png": "[encoded data removed]"
          },
          "metadata": {}
        }
      ]
    },
    {
      "cell_type": "code",
      "source": [
        "h= 0.0000001\n",
        "x= 2/3\n",
        "(f(x+h) - f(x) )/ h"
      ],
      "metadata": {
        "colab": {
          "base_uri": "https://localhost:8080/"
        },
        "id": "8PYIIMv_6ly-",
        "outputId": "db6110a0-a2a0-4517-92e2-487fc3a31cc1"
      },
      "execution_count": null,
      "outputs": [
        {
          "output_type": "execute_result",
          "data": {
            "text/plain": [
              "2.9753977059954195e-07"
            ]
          },
          "metadata": {},
          "execution_count": 381
        }
      ]
    },
    {
      "cell_type": "code",
      "source": [
        "a = 2.0\n",
        "b = -3.0\n",
        "c = 10.0\n",
        "d = a*b + c\n",
        "\n",
        "print(d)"
      ],
      "metadata": {
        "colab": {
          "base_uri": "https://localhost:8080/"
        },
        "id": "3tsZC5j78yUT",
        "outputId": "6563bfcc-4748-4afa-b514-7e1019d8f9b1"
      },
      "execution_count": null,
      "outputs": [
        {
          "output_type": "stream",
          "name": "stdout",
          "text": [
            "4.0\n"
          ]
        }
      ]
    },
    {
      "cell_type": "code",
      "source": [
        "h = 0.0001\n",
        "\n",
        "#inputs\n",
        "a = 2.0\n",
        "b = -3.0\n",
        "c = 10.0\n",
        "d1 = a*b + c\n",
        "c += h\n",
        "d2 = a*b + c\n",
        "\n",
        "print('d1',d1)\n",
        "print('d2',d2)\n",
        "print('slope',(d2-d1)/h)\n"
      ],
      "metadata": {
        "colab": {
          "base_uri": "https://localhost:8080/"
        },
        "id": "FYaataxI9XFN",
        "outputId": "1c223c93-6dbb-4fc9-d330-4277f73947d8"
      },
      "execution_count": null,
      "outputs": [
        {
          "output_type": "stream",
          "name": "stdout",
          "text": [
            "d1 4.0\n",
            "d2 4.0001\n",
            "slope 0.9999999999976694\n"
          ]
        }
      ]
    },
    {
      "cell_type": "code",
      "source": [
        "class Value:\n",
        "    def __init__(self,data,_children=(),_op=\"\",label=\"\"):\n",
        "        self.data = data\n",
        "        self.grad = 0.0\n",
        "        self._backward = lambda : None\n",
        "        self._prev = set(_children)\n",
        "        self._op = _op\n",
        "        self.label=label\n",
        "\n",
        "\n",
        "    def __pow__(self,other):\n",
        "        assert isinstance(other,(int,float)) , \"only supports ints and floats for now\"\n",
        "        out = Value(self.data ** other,(self,),f\"**{other}\")\n",
        "        def _backward():\n",
        "            self.grad += other * (self.data ** (other-1)) * out.grad\n",
        "        out._backward = _backward\n",
        "        return out\n",
        "\n",
        "    def __add__(self,other):\n",
        "        other = other if isinstance(other,Value) else Value(other)\n",
        "        out = Value(self.data + other.data,(self,other),\"+\")\n",
        "        def _backward():\n",
        "            self.grad += 1.0 * out.grad\n",
        "            other.grad += 1.0 * out.grad\n",
        "        out._backward = _backward\n",
        "        return out\n",
        "\n",
        "    def __mul__(self,other):\n",
        "        other = other if isinstance(other,Value) else Value(other)\n",
        "        out = Value(self.data * other.data,(self,other),\"*\")\n",
        "        def _backward():\n",
        "            self.grad += other.data * out.grad\n",
        "            other.grad += self.data * out.grad\n",
        "        out._backward = _backward\n",
        "        return out\n",
        "\n",
        "\n",
        "    def __repr__(self):\n",
        "        return f\"Value(data={self.data})\"\n",
        "\n",
        "    def __truediv__(self,other):#self / other\n",
        "        return self * other ** -1\n",
        "\n",
        "    def __rmul__(self,other):# other * self\n",
        "        return self * other\n",
        "\n",
        "    def __radd__(self, other): # other + self\n",
        "        return self + other\n",
        "\n",
        "    def __neg__(self):\n",
        "        return self * -1\n",
        "\n",
        "    def __sub__(self,other):\n",
        "        return self + (-other)\n",
        "\n",
        "    def tanh(self):\n",
        "        x = self.data\n",
        "        t = (math.exp(2*x) - 1)/ (math.exp(2 * x) + 1)\n",
        "        out = Value(t,(self,),'tanh')\n",
        "        def _backward():\n",
        "            self.grad += (1 - t**2) * out.grad\n",
        "        out._backward = _backward\n",
        "        return out\n",
        "\n",
        "    def exp(self):\n",
        "        x = self.data\n",
        "        out = Value(math.exp(x),(self,),'exp')\n",
        "        def _backward():\n",
        "            self.grad  += out.data * out.grad\n",
        "        out._backward = _backward\n",
        "        return out\n",
        "\n",
        "    def backward(self):\n",
        "        visited = set()\n",
        "        topo = []\n",
        "        def build_topo(v):\n",
        "            if v not in visited:\n",
        "                visited.add(v)\n",
        "                for child in v._prev:\n",
        "                    build_topo(child)\n",
        "                topo.append(v)\n",
        "        build_topo(self)\n",
        "        self.grad = 1\n",
        "        for node in reversed(topo):\n",
        "            node._backward()\n"
      ],
      "metadata": {
        "id": "VxYvJGNL_7iA"
      },
      "execution_count": null,
      "outputs": []
    },
    {
      "cell_type": "code",
      "source": [
        "a = Value(8.0,label = 'a')\n",
        "b = Value(3.0,label = 'b')\n",
        "\n",
        "b - a"
      ],
      "metadata": {
        "colab": {
          "base_uri": "https://localhost:8080/"
        },
        "id": "_JAq6d6Fl-zM",
        "outputId": "f1ab1587-a503-4eff-f301-9fbbc53ef54a"
      },
      "execution_count": null,
      "outputs": [
        {
          "output_type": "execute_result",
          "data": {
            "text/plain": [
              "Value(data=-5.0)"
            ]
          },
          "metadata": {},
          "execution_count": 385
        }
      ]
    },
    {
      "cell_type": "code",
      "source": [
        "a = Value(2.0,label=\"a\")\n",
        "b = Value(-3.0,label=\"b\")\n",
        "c= Value(10.0,label=\"c\")\n",
        "e = a*b ; e.label=\"e\"\n",
        "d = e + c ;d.label='d'\n",
        "f = Value(-2.0,label='f')\n",
        "L= d * f; L.label='l'\n",
        "L"
      ],
      "metadata": {
        "colab": {
          "base_uri": "https://localhost:8080/"
        },
        "id": "wKdE7mcdAdMd",
        "outputId": "8bb2634f-3a77-4156-a011-ae197ff8197c"
      },
      "execution_count": null,
      "outputs": [
        {
          "output_type": "execute_result",
          "data": {
            "text/plain": [
              "Value(data=-8.0)"
            ]
          },
          "metadata": {},
          "execution_count": 386
        }
      ]
    },
    {
      "cell_type": "code",
      "source": [],
      "metadata": {
        "id": "BhMcF1a3sZM3"
      },
      "execution_count": null,
      "outputs": []
    },
    {
      "cell_type": "code",
      "source": [
        "from graphviz import Digraph\n",
        "\n",
        "def trace(root):\n",
        "  # builds a set of all nodes and edges in a graph\n",
        "  nodes, edges = set(), set()\n",
        "  def build(v):\n",
        "    if v not in nodes:\n",
        "      nodes.add(v)\n",
        "      for child in v._prev:\n",
        "        edges.add((child, v))\n",
        "        build(child)\n",
        "  build(root)\n",
        "  return nodes, edges\n",
        "\n",
        "def draw_dot(root):\n",
        "  dot = Digraph(format='svg', graph_attr={'rankdir': 'LR'}) # LR = left to right\n",
        "\n",
        "  nodes, edges = trace(root)\n",
        "  for n in nodes:\n",
        "    uid = str(id(n))\n",
        "    # for any value in the graph, create a rectangular ('record') node for it\n",
        "    dot.node(name = uid, label = \"{ %s | data %.4f | grad %.4f }\" % (n.label, n.data, n.grad), shape='record')\n",
        "    if n._op:\n",
        "      # if this value is a result of some operation, create an op node for it\n",
        "      dot.node(name = uid + n._op, label = n._op)\n",
        "      # and connect this node to it\n",
        "      dot.edge(uid + n._op, uid)\n",
        "\n",
        "  for n1, n2 in edges:\n",
        "    # connect n1 to the op node of n2\n",
        "    dot.edge(str(id(n1)), str(id(n2)) + n2._op)\n",
        "\n",
        "  return dot"
      ],
      "metadata": {
        "id": "G-UimDzsrYai"
      },
      "execution_count": null,
      "outputs": []
    },
    {
      "cell_type": "code",
      "source": [
        "L.grad = 1.0\n",
        "d.grad = -2\n",
        "f.grad = 4\n",
        "c.grad = -2.0\n",
        "e.grad = -2.0\n",
        "a.grad = 6\n",
        "b.grad = -4"
      ],
      "metadata": {
        "id": "i8-30qxvjXun"
      },
      "execution_count": null,
      "outputs": []
    },
    {
      "cell_type": "code",
      "source": [
        "draw_dot(L)"
      ],
      "metadata": {
        "colab": {
          "base_uri": "https://localhost:8080/",
          "height": 249
        },
        "id": "x9jZ0E29rkq6",
        "outputId": "33de31a9-dcbb-4339-fef5-7e543e92ad67"
      },
      "execution_count": null,
      "outputs": [
        {
          "output_type": "execute_result",
          "data": {
            "image/svg+xml": "<?xml version=\"1.0\" encoding=\"UTF-8\" standalone=\"no\"?>\n<!DOCTYPE svg PUBLIC \"-//W3C//DTD SVG 1.1//EN\"\n \"http://www.w3.org/Graphics/SVG/1.1/DTD/svg11.dtd\">\n<!-- Generated by graphviz version 2.43.0 (0)\n -->\n<!-- Title: %3 Pages: 1 -->\n<svg width=\"1152pt\" height=\"156pt\"\n viewBox=\"0.00 0.00 1152.00 156.00\" xmlns=\"http://www.w3.org/2000/svg\" xmlns:xlink=\"http://www.w3.org/1999/xlink\">\n<g id=\"graph0\" class=\"graph\" transform=\"scale(1 1) rotate(0) translate(4 152)\">\n<title>%3</title>\n<polygon fill=\"white\" stroke=\"transparent\" points=\"-4,4 -4,-152 1148,-152 1148,4 -4,4\"/>\n<!-- 135821394459664 -->\n<g id=\"node1\" class=\"node\">\n<title>135821394459664</title>\n<polygon fill=\"none\" stroke=\"black\" points=\"957,-27.5 957,-63.5 1144,-63.5 1144,-27.5 957,-27.5\"/>\n<text text-anchor=\"middle\" x=\"967\" y=\"-41.8\" font-family=\"Times,serif\" font-size=\"14.00\">l</text>\n<polyline fill=\"none\" stroke=\"black\" points=\"977,-27.5 977,-63.5 \"/>\n<text text-anchor=\"middle\" x=\"1019.5\" y=\"-41.8\" font-family=\"Times,serif\" font-size=\"14.00\">data &#45;8.0000</text>\n<polyline fill=\"none\" stroke=\"black\" points=\"1062,-27.5 1062,-63.5 \"/>\n<text text-anchor=\"middle\" x=\"1103\" y=\"-41.8\" font-family=\"Times,serif\" font-size=\"14.00\">grad 1.0000</text>\n</g>\n<!-- 135821394459664* -->\n<g id=\"node2\" class=\"node\">\n<title>135821394459664*</title>\n<ellipse fill=\"none\" stroke=\"black\" cx=\"894\" cy=\"-45.5\" rx=\"27\" ry=\"18\"/>\n<text text-anchor=\"middle\" x=\"894\" y=\"-41.8\" font-family=\"Times,serif\" font-size=\"14.00\">*</text>\n</g>\n<!-- 135821394459664*&#45;&gt;135821394459664 -->\n<g id=\"edge1\" class=\"edge\">\n<title>135821394459664*&#45;&gt;135821394459664</title>\n<path fill=\"none\" stroke=\"black\" d=\"M921.21,-45.5C928.73,-45.5 937.43,-45.5 946.67,-45.5\"/>\n<polygon fill=\"black\" stroke=\"black\" points=\"946.89,-49 956.89,-45.5 946.89,-42 946.89,-49\"/>\n</g>\n<!-- 135821394452128 -->\n<g id=\"node3\" class=\"node\">\n<title>135821394452128</title>\n<polygon fill=\"none\" stroke=\"black\" points=\"4.5,-111.5 4.5,-147.5 189.5,-147.5 189.5,-111.5 4.5,-111.5\"/>\n<text text-anchor=\"middle\" x=\"16\" y=\"-125.8\" font-family=\"Times,serif\" font-size=\"14.00\">a</text>\n<polyline fill=\"none\" stroke=\"black\" points=\"27.5,-111.5 27.5,-147.5 \"/>\n<text text-anchor=\"middle\" x=\"67.5\" y=\"-125.8\" font-family=\"Times,serif\" font-size=\"14.00\">data 2.0000</text>\n<polyline fill=\"none\" stroke=\"black\" points=\"107.5,-111.5 107.5,-147.5 \"/>\n<text text-anchor=\"middle\" x=\"148.5\" y=\"-125.8\" font-family=\"Times,serif\" font-size=\"14.00\">grad 6.0000</text>\n</g>\n<!-- 135821394445552* -->\n<g id=\"node8\" class=\"node\">\n<title>135821394445552*</title>\n<ellipse fill=\"none\" stroke=\"black\" cx=\"257\" cy=\"-101.5\" rx=\"27\" ry=\"18\"/>\n<text text-anchor=\"middle\" x=\"257\" y=\"-97.8\" font-family=\"Times,serif\" font-size=\"14.00\">*</text>\n</g>\n<!-- 135821394452128&#45;&gt;135821394445552* -->\n<g id=\"edge6\" class=\"edge\">\n<title>135821394452128&#45;&gt;135821394445552*</title>\n<path fill=\"none\" stroke=\"black\" d=\"M189.91,-113.21C200.76,-111.29 211.28,-109.43 220.61,-107.77\"/>\n<polygon fill=\"black\" stroke=\"black\" points=\"221.37,-111.19 230.6,-106 220.15,-104.3 221.37,-111.19\"/>\n</g>\n<!-- 135821394448576 -->\n<g id=\"node4\" class=\"node\">\n<title>135821394448576</title>\n<polygon fill=\"none\" stroke=\"black\" points=\"642,-55.5 642,-91.5 831,-91.5 831,-55.5 642,-55.5\"/>\n<text text-anchor=\"middle\" x=\"653.5\" y=\"-69.8\" font-family=\"Times,serif\" font-size=\"14.00\">d</text>\n<polyline fill=\"none\" stroke=\"black\" points=\"665,-55.5 665,-91.5 \"/>\n<text text-anchor=\"middle\" x=\"705\" y=\"-69.8\" font-family=\"Times,serif\" font-size=\"14.00\">data 4.0000</text>\n<polyline fill=\"none\" stroke=\"black\" points=\"745,-55.5 745,-91.5 \"/>\n<text text-anchor=\"middle\" x=\"788\" y=\"-69.8\" font-family=\"Times,serif\" font-size=\"14.00\">grad &#45;2.0000</text>\n</g>\n<!-- 135821394448576&#45;&gt;135821394459664* -->\n<g id=\"edge8\" class=\"edge\">\n<title>135821394448576&#45;&gt;135821394459664*</title>\n<path fill=\"none\" stroke=\"black\" d=\"M831.1,-56.65C840.4,-54.97 849.38,-53.35 857.49,-51.89\"/>\n<polygon fill=\"black\" stroke=\"black\" points=\"858.37,-55.29 867.59,-50.07 857.13,-48.4 858.37,-55.29\"/>\n</g>\n<!-- 135821394448576+ -->\n<g id=\"node5\" class=\"node\">\n<title>135821394448576+</title>\n<ellipse fill=\"none\" stroke=\"black\" cx=\"579\" cy=\"-73.5\" rx=\"27\" ry=\"18\"/>\n<text text-anchor=\"middle\" x=\"579\" y=\"-69.8\" font-family=\"Times,serif\" font-size=\"14.00\">+</text>\n</g>\n<!-- 135821394448576+&#45;&gt;135821394448576 -->\n<g id=\"edge2\" class=\"edge\">\n<title>135821394448576+&#45;&gt;135821394448576</title>\n<path fill=\"none\" stroke=\"black\" d=\"M606.03,-73.5C613.66,-73.5 622.52,-73.5 631.94,-73.5\"/>\n<polygon fill=\"black\" stroke=\"black\" points=\"631.94,-77 641.94,-73.5 631.94,-70 631.94,-77\"/>\n</g>\n<!-- 135821394445504 -->\n<g id=\"node6\" class=\"node\">\n<title>135821394445504</title>\n<polygon fill=\"none\" stroke=\"black\" points=\"642.5,-0.5 642.5,-36.5 830.5,-36.5 830.5,-0.5 642.5,-0.5\"/>\n<text text-anchor=\"middle\" x=\"653\" y=\"-14.8\" font-family=\"Times,serif\" font-size=\"14.00\">f</text>\n<polyline fill=\"none\" stroke=\"black\" points=\"663.5,-0.5 663.5,-36.5 \"/>\n<text text-anchor=\"middle\" x=\"706\" y=\"-14.8\" font-family=\"Times,serif\" font-size=\"14.00\">data &#45;2.0000</text>\n<polyline fill=\"none\" stroke=\"black\" points=\"748.5,-0.5 748.5,-36.5 \"/>\n<text text-anchor=\"middle\" x=\"789.5\" y=\"-14.8\" font-family=\"Times,serif\" font-size=\"14.00\">grad 4.0000</text>\n</g>\n<!-- 135821394445504&#45;&gt;135821394459664* -->\n<g id=\"edge9\" class=\"edge\">\n<title>135821394445504&#45;&gt;135821394459664*</title>\n<path fill=\"none\" stroke=\"black\" d=\"M830.65,-34.67C840.2,-36.33 849.43,-37.93 857.72,-39.37\"/>\n<polygon fill=\"black\" stroke=\"black\" points=\"857.24,-42.84 867.69,-41.11 858.44,-35.95 857.24,-42.84\"/>\n</g>\n<!-- 135821394445552 -->\n<g id=\"node7\" class=\"node\">\n<title>135821394445552</title>\n<polygon fill=\"none\" stroke=\"black\" points=\"321,-83.5 321,-119.5 515,-119.5 515,-83.5 321,-83.5\"/>\n<text text-anchor=\"middle\" x=\"332.5\" y=\"-97.8\" font-family=\"Times,serif\" font-size=\"14.00\">e</text>\n<polyline fill=\"none\" stroke=\"black\" points=\"344,-83.5 344,-119.5 \"/>\n<text text-anchor=\"middle\" x=\"386.5\" y=\"-97.8\" font-family=\"Times,serif\" font-size=\"14.00\">data &#45;6.0000</text>\n<polyline fill=\"none\" stroke=\"black\" points=\"429,-83.5 429,-119.5 \"/>\n<text text-anchor=\"middle\" x=\"472\" y=\"-97.8\" font-family=\"Times,serif\" font-size=\"14.00\">grad &#45;2.0000</text>\n</g>\n<!-- 135821394445552&#45;&gt;135821394448576+ -->\n<g id=\"edge4\" class=\"edge\">\n<title>135821394445552&#45;&gt;135821394448576+</title>\n<path fill=\"none\" stroke=\"black\" d=\"M515.16,-84.57C524.82,-82.87 534.13,-81.23 542.49,-79.75\"/>\n<polygon fill=\"black\" stroke=\"black\" points=\"543.3,-83.17 552.54,-77.98 542.08,-76.27 543.3,-83.17\"/>\n</g>\n<!-- 135821394445552*&#45;&gt;135821394445552 -->\n<g id=\"edge3\" class=\"edge\">\n<title>135821394445552*&#45;&gt;135821394445552</title>\n<path fill=\"none\" stroke=\"black\" d=\"M284.26,-101.5C292.05,-101.5 301.1,-101.5 310.75,-101.5\"/>\n<polygon fill=\"black\" stroke=\"black\" points=\"310.99,-105 320.99,-101.5 310.99,-98 310.99,-105\"/>\n</g>\n<!-- 135821394449200 -->\n<g id=\"node9\" class=\"node\">\n<title>135821394449200</title>\n<polygon fill=\"none\" stroke=\"black\" points=\"320,-28.5 320,-64.5 516,-64.5 516,-28.5 320,-28.5\"/>\n<text text-anchor=\"middle\" x=\"331.5\" y=\"-42.8\" font-family=\"Times,serif\" font-size=\"14.00\">c</text>\n<polyline fill=\"none\" stroke=\"black\" points=\"343,-28.5 343,-64.5 \"/>\n<text text-anchor=\"middle\" x=\"386.5\" y=\"-42.8\" font-family=\"Times,serif\" font-size=\"14.00\">data 10.0000</text>\n<polyline fill=\"none\" stroke=\"black\" points=\"430,-28.5 430,-64.5 \"/>\n<text text-anchor=\"middle\" x=\"473\" y=\"-42.8\" font-family=\"Times,serif\" font-size=\"14.00\">grad &#45;2.0000</text>\n</g>\n<!-- 135821394449200&#45;&gt;135821394448576+ -->\n<g id=\"edge7\" class=\"edge\">\n<title>135821394449200&#45;&gt;135821394448576+</title>\n<path fill=\"none\" stroke=\"black\" d=\"M516.07,-62.98C525.42,-64.57 534.43,-66.1 542.55,-67.48\"/>\n<polygon fill=\"black\" stroke=\"black\" points=\"542.21,-70.97 552.65,-69.2 543.38,-64.07 542.21,-70.97\"/>\n</g>\n<!-- 135821394446800 -->\n<g id=\"node10\" class=\"node\">\n<title>135821394446800</title>\n<polygon fill=\"none\" stroke=\"black\" points=\"0,-56.5 0,-92.5 194,-92.5 194,-56.5 0,-56.5\"/>\n<text text-anchor=\"middle\" x=\"11.5\" y=\"-70.8\" font-family=\"Times,serif\" font-size=\"14.00\">b</text>\n<polyline fill=\"none\" stroke=\"black\" points=\"23,-56.5 23,-92.5 \"/>\n<text text-anchor=\"middle\" x=\"65.5\" y=\"-70.8\" font-family=\"Times,serif\" font-size=\"14.00\">data &#45;3.0000</text>\n<polyline fill=\"none\" stroke=\"black\" points=\"108,-56.5 108,-92.5 \"/>\n<text text-anchor=\"middle\" x=\"151\" y=\"-70.8\" font-family=\"Times,serif\" font-size=\"14.00\">grad &#45;4.0000</text>\n</g>\n<!-- 135821394446800&#45;&gt;135821394445552* -->\n<g id=\"edge5\" class=\"edge\">\n<title>135821394446800&#45;&gt;135821394445552*</title>\n<path fill=\"none\" stroke=\"black\" d=\"M194.01,-90.91C203.35,-92.5 212.37,-94.04 220.49,-95.43\"/>\n<polygon fill=\"black\" stroke=\"black\" points=\"220.16,-98.93 230.6,-97.16 221.34,-92.03 220.16,-98.93\"/>\n</g>\n</g>\n</svg>\n",
            "text/plain": [
              "<graphviz.graphs.Digraph at 0x7b8761f838e0>"
            ]
          },
          "metadata": {},
          "execution_count": 389
        }
      ]
    },
    {
      "cell_type": "code",
      "source": [
        "def lol():\n",
        "    h = 0.001\n",
        "    a = Value(2.0,label=\"a\")\n",
        "    b = Value(-3.0,label=\"b\")\n",
        "    c= Value(10.0,label=\"c\")\n",
        "    # c.data += h\n",
        "    e = a*b ; e.label=\"e\"\n",
        "\n",
        "    d = e + c ;d.label='d'\n",
        "    f = Value(-2.0,label='f')\n",
        "    L= d * f; L.label='l'\n",
        "    L1 = L.data\n",
        "\n",
        "    a = Value(2.0,label=\"a\")\n",
        "    b = Value(-3.0,label=\"b\")\n",
        "    b.data += h\n",
        "    c= Value(10.0,label=\"c\")\n",
        "    e = a*b ; e.label=\"e\"\n",
        "\n",
        "    d = e + c ;d.label='d'\n",
        "    f = Value(-2.0,label='f')\n",
        "    L= d * f; L.label='l'\n",
        "    L2 = L.data\n",
        "    print((L2 - L1)/h)\n",
        "\n",
        "lol()"
      ],
      "metadata": {
        "colab": {
          "base_uri": "https://localhost:8080/"
        },
        "id": "e8MriheahWgp",
        "outputId": "07174921-a28e-48af-9df2-8a7879066387"
      },
      "execution_count": null,
      "outputs": [
        {
          "output_type": "stream",
          "name": "stdout",
          "text": [
            "-3.9999999999995595\n"
          ]
        }
      ]
    },
    {
      "cell_type": "code",
      "source": [
        "a.data += 0.01 * a.grad\n",
        "b.data += 0.01 * b.grad\n",
        "c.data += 0.01 * c.grad\n",
        "f.data += 0.01 * f.grad\n",
        "\n",
        "e = a *b\n",
        "d = e + c\n",
        "L = d * f\n",
        "L.data"
      ],
      "metadata": {
        "colab": {
          "base_uri": "https://localhost:8080/"
        },
        "id": "LRLmTF3cqDuy",
        "outputId": "6fb0f70b-8bf6-4a8f-a81c-ae74a4b8f4a2"
      },
      "execution_count": null,
      "outputs": [
        {
          "output_type": "execute_result",
          "data": {
            "text/plain": [
              "-7.286496"
            ]
          },
          "metadata": {},
          "execution_count": 391
        }
      ]
    },
    {
      "cell_type": "code",
      "source": [
        "def relu(x):\n",
        "    return np.maximum(0,x)\n",
        "def sigmoid(x):\n",
        "    return 1 / (1 + np.exp(-x))\n"
      ],
      "metadata": {
        "id": "BlDOx6Y7regX"
      },
      "execution_count": null,
      "outputs": []
    },
    {
      "cell_type": "code",
      "source": [
        "x = np.arange(-5,5,0.2)\n",
        "y = sigmoid(x)\n",
        "plt.plot(x,y)\n",
        "plt.grid()"
      ],
      "metadata": {
        "colab": {
          "base_uri": "https://localhost:8080/",
          "height": 430
        },
        "id": "N7ExXG6TrMOz",
        "outputId": "c52a905a-7854-46b0-ea28-a298c66990ea"
      },
      "execution_count": null,
      "outputs": [
        {
          "output_type": "display_data",
          "data": {
            "text/plain": [
              "<Figure size 640x480 with 1 Axes>"
            ],
            "image/png": "[encoded data removed]"
          },
          "metadata": {}
        }
      ]
    },
    {
      "cell_type": "code",
      "source": [
        "#inputs\n",
        "x1 = Value(2.0,label = 'x1')\n",
        "x2 = Value(0.0,label = 'x2')\n",
        "#weights\n",
        "w1 = Value(-3.0,label = \"w1\")\n",
        "w2 = Value(1.0,label = 'w2')\n",
        "#bias\n",
        "b = Value(6.8813735870195432,label = 'b')\n",
        "\n",
        "x1w1 = x1*w1 ; x1w1.label = 'x1*w1'\n",
        "x2w2 = x2*w2 ; x2w2.label = 'x2*w2'\n",
        "x1w1x2w2 = x1w1 + x2w2 ; x1w1x2w2.label = 'x1w1 + x2w2'\n",
        "n = x1w1x2w2 + b ;n.label ='n'\n",
        "o = n.tanh(); o.label"
      ],
      "metadata": {
        "colab": {
          "base_uri": "https://localhost:8080/",
          "height": 35
        },
        "id": "jxBtPbQfxqiR",
        "outputId": "09c93e15-84ae-4159-8fb6-37b7ba6157f3"
      },
      "execution_count": null,
      "outputs": [
        {
          "output_type": "execute_result",
          "data": {
            "text/plain": [
              "''"
            ],
            "application/vnd.google.colaboratory.intrinsic+json": {
              "type": "string"
            }
          },
          "metadata": {},
          "execution_count": 394
        }
      ]
    },
    {
      "cell_type": "code",
      "source": [
        "# o.grad = 1\n",
        "# n.grad = 0.5\n",
        "# x1w1x2w2.grad = 0.5\n",
        "# b.grad = 0.5\n",
        "# x1w1.grad = 0.5\n",
        "# x2w2.grad = 0.5\n",
        "# x2.grad = w2.data * x2w2.grad\n",
        "# w2.grad = x2.data * x2w2.grad\n",
        "# w1.grad  = x1.data * x1w1.grad\n",
        "# x1.grad = w1.data * x1w1.grad\n",
        "\n",
        "# o.grad = 1\n",
        "# o._backward()\n",
        "# n._backward()\n",
        "# x1w1x2w2._backward()\n",
        "# x1w1._backward()\n",
        "# x2w2._backward()"
      ],
      "metadata": {
        "id": "6lw1LqHbNwpa"
      },
      "execution_count": null,
      "outputs": []
    },
    {
      "cell_type": "code",
      "source": [
        "# o.grad = 1\n",
        "# visited = set()\n",
        "# topo = []\n",
        "# def build_topo(v):\n",
        "#     if v not in visited:\n",
        "#         visited.add(v)\n",
        "#         for child in v._prev:\n",
        "#             build_topo(child)\n",
        "#         topo.append(v)\n",
        "# build_topo(o)\n",
        "\n",
        "# for node in reversed(topo):\n",
        "#     node._backward()"
      ],
      "metadata": {
        "id": "9s_UXpDam71F"
      },
      "execution_count": null,
      "outputs": []
    },
    {
      "cell_type": "code",
      "source": [
        "o.backward()\n",
        "draw_dot(o)"
      ],
      "metadata": {
        "colab": {
          "base_uri": "https://localhost:8080/",
          "height": 321
        },
        "id": "MWmSZ9vxN7mo",
        "outputId": "df74d6ad-d54d-46b0-c071-285e4832c27a"
      },
      "execution_count": null,
      "outputs": [
        {
          "output_type": "execute_result",
          "data": {
            "image/svg+xml": "<?xml version=\"1.0\" encoding=\"UTF-8\" standalone=\"no\"?>\n<!DOCTYPE svg PUBLIC \"-//W3C//DTD SVG 1.1//EN\"\n \"http://www.w3.org/Graphics/SVG/1.1/DTD/svg11.dtd\">\n<!-- Generated by graphviz version 2.43.0 (0)\n -->\n<!-- Title: %3 Pages: 1 -->\n<svg width=\"1558pt\" height=\"210pt\"\n viewBox=\"0.00 0.00 1558.00 210.00\" xmlns=\"http://www.w3.org/2000/svg\" xmlns:xlink=\"http://www.w3.org/1999/xlink\">\n<g id=\"graph0\" class=\"graph\" transform=\"scale(1 1) rotate(0) translate(4 206)\">\n<title>%3</title>\n<polygon fill=\"white\" stroke=\"transparent\" points=\"-4,4 -4,-206 1554,-206 1554,4 -4,4\"/>\n<!-- 135821390733344 -->\n<g id=\"node1\" class=\"node\">\n<title>135821390733344</title>\n<polygon fill=\"none\" stroke=\"black\" points=\"0,-165.5 0,-201.5 200,-201.5 200,-165.5 0,-165.5\"/>\n<text text-anchor=\"middle\" x=\"16.5\" y=\"-179.8\" font-family=\"Times,serif\" font-size=\"14.00\">w1</text>\n<polyline fill=\"none\" stroke=\"black\" points=\"33,-165.5 33,-201.5 \"/>\n<text text-anchor=\"middle\" x=\"75.5\" y=\"-179.8\" font-family=\"Times,serif\" font-size=\"14.00\">data &#45;3.0000</text>\n<polyline fill=\"none\" stroke=\"black\" points=\"118,-165.5 118,-201.5 \"/>\n<text text-anchor=\"middle\" x=\"159\" y=\"-179.8\" font-family=\"Times,serif\" font-size=\"14.00\">grad 1.0000</text>\n</g>\n<!-- 135821393850816* -->\n<g id=\"node12\" class=\"node\">\n<title>135821393850816*</title>\n<ellipse fill=\"none\" stroke=\"black\" cx=\"263\" cy=\"-128.5\" rx=\"27\" ry=\"18\"/>\n<text text-anchor=\"middle\" x=\"263\" y=\"-124.8\" font-family=\"Times,serif\" font-size=\"14.00\">*</text>\n</g>\n<!-- 135821390733344&#45;&gt;135821393850816* -->\n<g id=\"edge8\" class=\"edge\">\n<title>135821390733344&#45;&gt;135821393850816*</title>\n<path fill=\"none\" stroke=\"black\" d=\"M172.53,-165.44C181.84,-162.67 191.2,-159.67 200,-156.5 210.53,-152.71 221.75,-147.9 231.72,-143.33\"/>\n<polygon fill=\"black\" stroke=\"black\" points=\"233.25,-146.48 240.82,-139.07 230.28,-140.14 233.25,-146.48\"/>\n</g>\n<!-- 135821393839152 -->\n<g id=\"node2\" class=\"node\">\n<title>135821393839152</title>\n<polygon fill=\"none\" stroke=\"black\" points=\"709,-27.5 709,-63.5 894,-63.5 894,-27.5 709,-27.5\"/>\n<text text-anchor=\"middle\" x=\"720.5\" y=\"-41.8\" font-family=\"Times,serif\" font-size=\"14.00\">b</text>\n<polyline fill=\"none\" stroke=\"black\" points=\"732,-27.5 732,-63.5 \"/>\n<text text-anchor=\"middle\" x=\"772\" y=\"-41.8\" font-family=\"Times,serif\" font-size=\"14.00\">data 6.8814</text>\n<polyline fill=\"none\" stroke=\"black\" points=\"812,-27.5 812,-63.5 \"/>\n<text text-anchor=\"middle\" x=\"853\" y=\"-41.8\" font-family=\"Times,serif\" font-size=\"14.00\">grad 0.5000</text>\n</g>\n<!-- 135821393850336+ -->\n<g id=\"node14\" class=\"node\">\n<title>135821393850336+</title>\n<ellipse fill=\"none\" stroke=\"black\" cx=\"994\" cy=\"-72.5\" rx=\"27\" ry=\"18\"/>\n<text text-anchor=\"middle\" x=\"994\" y=\"-68.8\" font-family=\"Times,serif\" font-size=\"14.00\">+</text>\n</g>\n<!-- 135821393839152&#45;&gt;135821393850336+ -->\n<g id=\"edge14\" class=\"edge\">\n<title>135821393839152&#45;&gt;135821393850336+</title>\n<path fill=\"none\" stroke=\"black\" d=\"M894.12,-58.49C916.59,-61.67 939.33,-64.89 957.33,-67.44\"/>\n<polygon fill=\"black\" stroke=\"black\" points=\"956.95,-70.93 967.34,-68.86 957.93,-63.99 956.95,-70.93\"/>\n</g>\n<!-- 135821393840256 -->\n<g id=\"node3\" class=\"node\">\n<title>135821393840256</title>\n<polygon fill=\"none\" stroke=\"black\" points=\"1368,-54.5 1368,-90.5 1550,-90.5 1550,-54.5 1368,-54.5\"/>\n<text text-anchor=\"middle\" x=\"1378\" y=\"-68.8\" font-family=\"Times,serif\" font-size=\"14.00\"> </text>\n<polyline fill=\"none\" stroke=\"black\" points=\"1388,-54.5 1388,-90.5 \"/>\n<text text-anchor=\"middle\" x=\"1428\" y=\"-68.8\" font-family=\"Times,serif\" font-size=\"14.00\">data 0.7071</text>\n<polyline fill=\"none\" stroke=\"black\" points=\"1468,-54.5 1468,-90.5 \"/>\n<text text-anchor=\"middle\" x=\"1509\" y=\"-68.8\" font-family=\"Times,serif\" font-size=\"14.00\">grad 1.0000</text>\n</g>\n<!-- 135821393840256tanh -->\n<g id=\"node4\" class=\"node\">\n<title>135821393840256tanh</title>\n<ellipse fill=\"none\" stroke=\"black\" cx=\"1305\" cy=\"-72.5\" rx=\"27\" ry=\"18\"/>\n<text text-anchor=\"middle\" x=\"1305\" y=\"-68.8\" font-family=\"Times,serif\" font-size=\"14.00\">tanh</text>\n</g>\n<!-- 135821393840256tanh&#45;&gt;135821393840256 -->\n<g id=\"edge1\" class=\"edge\">\n<title>135821393840256tanh&#45;&gt;135821393840256</title>\n<path fill=\"none\" stroke=\"black\" d=\"M1332.13,-72.5C1339.67,-72.5 1348.39,-72.5 1357.64,-72.5\"/>\n<polygon fill=\"black\" stroke=\"black\" points=\"1357.87,-76 1367.87,-72.5 1357.87,-69 1357.87,-76\"/>\n</g>\n<!-- 135821393849088 -->\n<g id=\"node5\" class=\"node\">\n<title>135821393849088</title>\n<polygon fill=\"none\" stroke=\"black\" points=\"672,-82.5 672,-118.5 931,-118.5 931,-82.5 672,-82.5\"/>\n<text text-anchor=\"middle\" x=\"718\" y=\"-96.8\" font-family=\"Times,serif\" font-size=\"14.00\">x1w1 + x2w2</text>\n<polyline fill=\"none\" stroke=\"black\" points=\"764,-82.5 764,-118.5 \"/>\n<text text-anchor=\"middle\" x=\"806.5\" y=\"-96.8\" font-family=\"Times,serif\" font-size=\"14.00\">data &#45;6.0000</text>\n<polyline fill=\"none\" stroke=\"black\" points=\"849,-82.5 849,-118.5 \"/>\n<text text-anchor=\"middle\" x=\"890\" y=\"-96.8\" font-family=\"Times,serif\" font-size=\"14.00\">grad 0.5000</text>\n</g>\n<!-- 135821393849088&#45;&gt;135821393850336+ -->\n<g id=\"edge10\" class=\"edge\">\n<title>135821393849088&#45;&gt;135821393850336+</title>\n<path fill=\"none\" stroke=\"black\" d=\"M925.03,-82.49C936.7,-80.77 947.77,-79.15 957.46,-77.72\"/>\n<polygon fill=\"black\" stroke=\"black\" points=\"958.01,-81.18 967.4,-76.26 957,-74.25 958.01,-81.18\"/>\n</g>\n<!-- 135821393849088+ -->\n<g id=\"node6\" class=\"node\">\n<title>135821393849088+</title>\n<ellipse fill=\"none\" stroke=\"black\" cx=\"609\" cy=\"-100.5\" rx=\"27\" ry=\"18\"/>\n<text text-anchor=\"middle\" x=\"609\" y=\"-96.8\" font-family=\"Times,serif\" font-size=\"14.00\">+</text>\n</g>\n<!-- 135821393849088+&#45;&gt;135821393849088 -->\n<g id=\"edge2\" class=\"edge\">\n<title>135821393849088+&#45;&gt;135821393849088</title>\n<path fill=\"none\" stroke=\"black\" d=\"M636.09,-100.5C643.58,-100.5 652.3,-100.5 661.75,-100.5\"/>\n<polygon fill=\"black\" stroke=\"black\" points=\"661.84,-104 671.84,-100.5 661.84,-97 661.84,-104\"/>\n</g>\n<!-- 135821393844480 -->\n<g id=\"node7\" class=\"node\">\n<title>135821393844480</title>\n<polygon fill=\"none\" stroke=\"black\" points=\"2,-110.5 2,-146.5 198,-146.5 198,-110.5 2,-110.5\"/>\n<text text-anchor=\"middle\" x=\"17\" y=\"-124.8\" font-family=\"Times,serif\" font-size=\"14.00\">x1</text>\n<polyline fill=\"none\" stroke=\"black\" points=\"32,-110.5 32,-146.5 \"/>\n<text text-anchor=\"middle\" x=\"72\" y=\"-124.8\" font-family=\"Times,serif\" font-size=\"14.00\">data 2.0000</text>\n<polyline fill=\"none\" stroke=\"black\" points=\"112,-110.5 112,-146.5 \"/>\n<text text-anchor=\"middle\" x=\"155\" y=\"-124.8\" font-family=\"Times,serif\" font-size=\"14.00\">grad &#45;1.5000</text>\n</g>\n<!-- 135821393844480&#45;&gt;135821393850816* -->\n<g id=\"edge7\" class=\"edge\">\n<title>135821393844480&#45;&gt;135821393850816*</title>\n<path fill=\"none\" stroke=\"black\" d=\"M198.37,-128.5C208.05,-128.5 217.4,-128.5 225.8,-128.5\"/>\n<polygon fill=\"black\" stroke=\"black\" points=\"225.91,-132 235.91,-128.5 225.91,-125 225.91,-132\"/>\n</g>\n<!-- 135821387857200 -->\n<g id=\"node8\" class=\"node\">\n<title>135821387857200</title>\n<polygon fill=\"none\" stroke=\"black\" points=\"4,-55.5 4,-91.5 196,-91.5 196,-55.5 4,-55.5\"/>\n<text text-anchor=\"middle\" x=\"19\" y=\"-69.8\" font-family=\"Times,serif\" font-size=\"14.00\">x2</text>\n<polyline fill=\"none\" stroke=\"black\" points=\"34,-55.5 34,-91.5 \"/>\n<text text-anchor=\"middle\" x=\"74\" y=\"-69.8\" font-family=\"Times,serif\" font-size=\"14.00\">data 0.0000</text>\n<polyline fill=\"none\" stroke=\"black\" points=\"114,-55.5 114,-91.5 \"/>\n<text text-anchor=\"middle\" x=\"155\" y=\"-69.8\" font-family=\"Times,serif\" font-size=\"14.00\">grad 0.5000</text>\n</g>\n<!-- 135821393851776* -->\n<g id=\"node10\" class=\"node\">\n<title>135821393851776*</title>\n<ellipse fill=\"none\" stroke=\"black\" cx=\"263\" cy=\"-73.5\" rx=\"27\" ry=\"18\"/>\n<text text-anchor=\"middle\" x=\"263\" y=\"-69.8\" font-family=\"Times,serif\" font-size=\"14.00\">*</text>\n</g>\n<!-- 135821387857200&#45;&gt;135821393851776* -->\n<g id=\"edge13\" class=\"edge\">\n<title>135821387857200&#45;&gt;135821393851776*</title>\n<path fill=\"none\" stroke=\"black\" d=\"M196.05,-73.5C206.52,-73.5 216.65,-73.5 225.71,-73.5\"/>\n<polygon fill=\"black\" stroke=\"black\" points=\"225.79,-77 235.79,-73.5 225.79,-70 225.79,-77\"/>\n</g>\n<!-- 135821393851776 -->\n<g id=\"node9\" class=\"node\">\n<title>135821393851776</title>\n<polygon fill=\"none\" stroke=\"black\" points=\"328.5,-55.5 328.5,-91.5 543.5,-91.5 543.5,-55.5 328.5,-55.5\"/>\n<text text-anchor=\"middle\" x=\"355\" y=\"-69.8\" font-family=\"Times,serif\" font-size=\"14.00\">x2*w2</text>\n<polyline fill=\"none\" stroke=\"black\" points=\"381.5,-55.5 381.5,-91.5 \"/>\n<text text-anchor=\"middle\" x=\"421.5\" y=\"-69.8\" font-family=\"Times,serif\" font-size=\"14.00\">data 0.0000</text>\n<polyline fill=\"none\" stroke=\"black\" points=\"461.5,-55.5 461.5,-91.5 \"/>\n<text text-anchor=\"middle\" x=\"502.5\" y=\"-69.8\" font-family=\"Times,serif\" font-size=\"14.00\">grad 0.5000</text>\n</g>\n<!-- 135821393851776&#45;&gt;135821393849088+ -->\n<g id=\"edge6\" class=\"edge\">\n<title>135821393851776&#45;&gt;135821393849088+</title>\n<path fill=\"none\" stroke=\"black\" d=\"M543.84,-90.37C554.01,-91.98 563.76,-93.51 572.44,-94.89\"/>\n<polygon fill=\"black\" stroke=\"black\" points=\"572.05,-98.37 582.47,-96.47 573.14,-91.45 572.05,-98.37\"/>\n</g>\n<!-- 135821393851776*&#45;&gt;135821393851776 -->\n<g id=\"edge3\" class=\"edge\">\n<title>135821393851776*&#45;&gt;135821393851776</title>\n<path fill=\"none\" stroke=\"black\" d=\"M290.34,-73.5C298.51,-73.5 308.08,-73.5 318.36,-73.5\"/>\n<polygon fill=\"black\" stroke=\"black\" points=\"318.39,-77 328.39,-73.5 318.39,-70 318.39,-77\"/>\n</g>\n<!-- 135821393850816 -->\n<g id=\"node11\" class=\"node\">\n<title>135821393850816</title>\n<polygon fill=\"none\" stroke=\"black\" points=\"326,-110.5 326,-146.5 546,-146.5 546,-110.5 326,-110.5\"/>\n<text text-anchor=\"middle\" x=\"352.5\" y=\"-124.8\" font-family=\"Times,serif\" font-size=\"14.00\">x1*w1</text>\n<polyline fill=\"none\" stroke=\"black\" points=\"379,-110.5 379,-146.5 \"/>\n<text text-anchor=\"middle\" x=\"421.5\" y=\"-124.8\" font-family=\"Times,serif\" font-size=\"14.00\">data &#45;6.0000</text>\n<polyline fill=\"none\" stroke=\"black\" points=\"464,-110.5 464,-146.5 \"/>\n<text text-anchor=\"middle\" x=\"505\" y=\"-124.8\" font-family=\"Times,serif\" font-size=\"14.00\">grad 0.5000</text>\n</g>\n<!-- 135821393850816&#45;&gt;135821393849088+ -->\n<g id=\"edge12\" class=\"edge\">\n<title>135821393850816&#45;&gt;135821393849088+</title>\n<path fill=\"none\" stroke=\"black\" d=\"M546.27,-110.61C555.64,-109.07 564.6,-107.61 572.65,-106.29\"/>\n<polygon fill=\"black\" stroke=\"black\" points=\"573.35,-109.72 582.65,-104.65 572.22,-102.81 573.35,-109.72\"/>\n</g>\n<!-- 135821393850816*&#45;&gt;135821393850816 -->\n<g id=\"edge4\" class=\"edge\">\n<title>135821393850816*&#45;&gt;135821393850816</title>\n<path fill=\"none\" stroke=\"black\" d=\"M290.34,-128.5C297.77,-128.5 306.37,-128.5 315.6,-128.5\"/>\n<polygon fill=\"black\" stroke=\"black\" points=\"315.84,-132 325.84,-128.5 315.84,-125 315.84,-132\"/>\n</g>\n<!-- 135821393850336 -->\n<g id=\"node13\" class=\"node\">\n<title>135821393850336</title>\n<polygon fill=\"none\" stroke=\"black\" points=\"1057,-54.5 1057,-90.5 1242,-90.5 1242,-54.5 1057,-54.5\"/>\n<text text-anchor=\"middle\" x=\"1068.5\" y=\"-68.8\" font-family=\"Times,serif\" font-size=\"14.00\">n</text>\n<polyline fill=\"none\" stroke=\"black\" points=\"1080,-54.5 1080,-90.5 \"/>\n<text text-anchor=\"middle\" x=\"1120\" y=\"-68.8\" font-family=\"Times,serif\" font-size=\"14.00\">data 0.8814</text>\n<polyline fill=\"none\" stroke=\"black\" points=\"1160,-54.5 1160,-90.5 \"/>\n<text text-anchor=\"middle\" x=\"1201\" y=\"-68.8\" font-family=\"Times,serif\" font-size=\"14.00\">grad 0.5000</text>\n</g>\n<!-- 135821393850336&#45;&gt;135821393840256tanh -->\n<g id=\"edge11\" class=\"edge\">\n<title>135821393850336&#45;&gt;135821393840256tanh</title>\n<path fill=\"none\" stroke=\"black\" d=\"M1242.01,-72.5C1251.01,-72.5 1259.74,-72.5 1267.66,-72.5\"/>\n<polygon fill=\"black\" stroke=\"black\" points=\"1267.91,-76 1277.91,-72.5 1267.91,-69 1267.91,-76\"/>\n</g>\n<!-- 135821393850336+&#45;&gt;135821393850336 -->\n<g id=\"edge5\" class=\"edge\">\n<title>135821393850336+&#45;&gt;135821393850336</title>\n<path fill=\"none\" stroke=\"black\" d=\"M1021.04,-72.5C1028.58,-72.5 1037.3,-72.5 1046.57,-72.5\"/>\n<polygon fill=\"black\" stroke=\"black\" points=\"1046.81,-76 1056.81,-72.5 1046.81,-69 1046.81,-76\"/>\n</g>\n<!-- 135821393843184 -->\n<g id=\"node15\" class=\"node\">\n<title>135821393843184</title>\n<polygon fill=\"none\" stroke=\"black\" points=\"2.5,-0.5 2.5,-36.5 197.5,-36.5 197.5,-0.5 2.5,-0.5\"/>\n<text text-anchor=\"middle\" x=\"19\" y=\"-14.8\" font-family=\"Times,serif\" font-size=\"14.00\">w2</text>\n<polyline fill=\"none\" stroke=\"black\" points=\"35.5,-0.5 35.5,-36.5 \"/>\n<text text-anchor=\"middle\" x=\"75.5\" y=\"-14.8\" font-family=\"Times,serif\" font-size=\"14.00\">data 1.0000</text>\n<polyline fill=\"none\" stroke=\"black\" points=\"115.5,-0.5 115.5,-36.5 \"/>\n<text text-anchor=\"middle\" x=\"156.5\" y=\"-14.8\" font-family=\"Times,serif\" font-size=\"14.00\">grad 0.0000</text>\n</g>\n<!-- 135821393843184&#45;&gt;135821393851776* -->\n<g id=\"edge9\" class=\"edge\">\n<title>135821393843184&#45;&gt;135821393851776*</title>\n<path fill=\"none\" stroke=\"black\" d=\"M169.28,-36.5C179.65,-39.61 190.16,-42.98 200,-46.5 210.28,-50.17 221.28,-54.74 231.11,-59.07\"/>\n<polygon fill=\"black\" stroke=\"black\" points=\"229.93,-62.37 240.48,-63.27 232.79,-55.99 229.93,-62.37\"/>\n</g>\n</g>\n</svg>\n",
            "text/plain": [
              "<graphviz.graphs.Digraph at 0x7b8761eed3c0>"
            ]
          },
          "metadata": {},
          "execution_count": 397
        }
      ]
    },
    {
      "cell_type": "code",
      "source": [
        "#inputs\n",
        "x1 = Value(2.0,label = 'x1')\n",
        "x2 = Value(0.0,label = 'x2')\n",
        "#weights\n",
        "w1 = Value(-3.0,label = \"w1\")\n",
        "w2 = Value(1.0,label = 'w2')\n",
        "#bias\n",
        "b = Value(6.8813735870195432,label = 'b')\n",
        "\n",
        "x1w1 = x1*w1 ; x1w1.label = 'x1*w1'\n",
        "x2w2 = x2*w2 ; x2w2.label = 'x2*w2'\n",
        "x1w1x2w2 = x1w1 + x2w2 ; x1w1x2w2.label = 'x1w1 + x2w2'\n",
        "n = x1w1x2w2 + b ;n.label ='n'\n",
        "e = (2*n).exp()\n",
        "o = (e - 1) / (e + 1); o.label\n",
        "o.backward()\n",
        "draw_dot(o)"
      ],
      "metadata": {
        "colab": {
          "base_uri": "https://localhost:8080/",
          "height": 360
        },
        "id": "WOlsvBjEvTCQ",
        "outputId": "4e72e3e0-5336-4dbc-b55a-f0971c42f50d"
      },
      "execution_count": null,
      "outputs": [
        {
          "output_type": "execute_result",
          "data": {
            "image/svg+xml": "<?xml version=\"1.0\" encoding=\"UTF-8\" standalone=\"no\"?>\n<!DOCTYPE svg PUBLIC \"-//W3C//DTD SVG 1.1//EN\"\n \"http://www.w3.org/Graphics/SVG/1.1/DTD/svg11.dtd\">\n<!-- Generated by graphviz version 2.43.0 (0)\n -->\n<!-- Title: %3 Pages: 1 -->\n<svg width=\"2927pt\" height=\"239pt\"\n viewBox=\"0.00 0.00 2927.00 239.00\" xmlns=\"http://www.w3.org/2000/svg\" xmlns:xlink=\"http://www.w3.org/1999/xlink\">\n<g id=\"graph0\" class=\"graph\" transform=\"scale(1 1) rotate(0) translate(4 235)\">\n<title>%3</title>\n<polygon fill=\"white\" stroke=\"transparent\" points=\"-4,4 -4,-235 2923,-235 2923,4 -4,4\"/>\n<!-- 135821393840640 -->\n<g id=\"node1\" class=\"node\">\n<title>135821393840640</title>\n<polygon fill=\"none\" stroke=\"black\" points=\"2,-194.5 2,-230.5 198,-230.5 198,-194.5 2,-194.5\"/>\n<text text-anchor=\"middle\" x=\"17\" y=\"-208.8\" font-family=\"Times,serif\" font-size=\"14.00\">x1</text>\n<polyline fill=\"none\" stroke=\"black\" points=\"32,-194.5 32,-230.5 \"/>\n<text text-anchor=\"middle\" x=\"72\" y=\"-208.8\" font-family=\"Times,serif\" font-size=\"14.00\">data 2.0000</text>\n<polyline fill=\"none\" stroke=\"black\" points=\"112,-194.5 112,-230.5 \"/>\n<text text-anchor=\"middle\" x=\"155\" y=\"-208.8\" font-family=\"Times,serif\" font-size=\"14.00\">grad &#45;1.5000</text>\n</g>\n<!-- 135821393838528* -->\n<g id=\"node14\" class=\"node\">\n<title>135821393838528*</title>\n<ellipse fill=\"none\" stroke=\"black\" cx=\"263\" cy=\"-157.5\" rx=\"27\" ry=\"18\"/>\n<text text-anchor=\"middle\" x=\"263\" y=\"-153.8\" font-family=\"Times,serif\" font-size=\"14.00\">*</text>\n</g>\n<!-- 135821393840640&#45;&gt;135821393838528* -->\n<g id=\"edge24\" class=\"edge\">\n<title>135821393840640&#45;&gt;135821393838528*</title>\n<path fill=\"none\" stroke=\"black\" d=\"M172.53,-194.44C181.84,-191.67 191.2,-188.67 200,-185.5 210.53,-181.71 221.75,-176.9 231.72,-172.33\"/>\n<polygon fill=\"black\" stroke=\"black\" points=\"233.25,-175.48 240.82,-168.07 230.28,-169.14 233.25,-175.48\"/>\n</g>\n<!-- 135821393851920 -->\n<g id=\"node2\" class=\"node\">\n<title>135821393851920</title>\n<polygon fill=\"none\" stroke=\"black\" points=\"2429,-31.5 2429,-67.5 2611,-67.5 2611,-31.5 2429,-31.5\"/>\n<text text-anchor=\"middle\" x=\"2439\" y=\"-45.8\" font-family=\"Times,serif\" font-size=\"14.00\"> </text>\n<polyline fill=\"none\" stroke=\"black\" points=\"2449,-31.5 2449,-67.5 \"/>\n<text text-anchor=\"middle\" x=\"2489\" y=\"-45.8\" font-family=\"Times,serif\" font-size=\"14.00\">data 0.1464</text>\n<polyline fill=\"none\" stroke=\"black\" points=\"2529,-31.5 2529,-67.5 \"/>\n<text text-anchor=\"middle\" x=\"2570\" y=\"-45.8\" font-family=\"Times,serif\" font-size=\"14.00\">grad 4.8284</text>\n</g>\n<!-- 135821395249232* -->\n<g id=\"node5\" class=\"node\">\n<title>135821395249232*</title>\n<ellipse fill=\"none\" stroke=\"black\" cx=\"2674\" cy=\"-72.5\" rx=\"27\" ry=\"18\"/>\n<text text-anchor=\"middle\" x=\"2674\" y=\"-68.8\" font-family=\"Times,serif\" font-size=\"14.00\">*</text>\n</g>\n<!-- 135821393851920&#45;&gt;135821395249232* -->\n<g id=\"edge17\" class=\"edge\">\n<title>135821393851920&#45;&gt;135821395249232*</title>\n<path fill=\"none\" stroke=\"black\" d=\"M2611.18,-63.15C2620.42,-64.54 2629.38,-65.9 2637.47,-67.12\"/>\n<polygon fill=\"black\" stroke=\"black\" points=\"2637.15,-70.61 2647.56,-68.65 2638.19,-63.69 2637.15,-70.61\"/>\n</g>\n<!-- 135821393851920**&#45;1 -->\n<g id=\"node3\" class=\"node\">\n<title>135821393851920**&#45;1</title>\n<ellipse fill=\"none\" stroke=\"black\" cx=\"2302\" cy=\"-45.5\" rx=\"27\" ry=\"18\"/>\n<text text-anchor=\"middle\" x=\"2302\" y=\"-41.8\" font-family=\"Times,serif\" font-size=\"14.00\">**&#45;1</text>\n</g>\n<!-- 135821393851920**&#45;1&#45;&gt;135821393851920 -->\n<g id=\"edge1\" class=\"edge\">\n<title>135821393851920**&#45;1&#45;&gt;135821393851920</title>\n<path fill=\"none\" stroke=\"black\" d=\"M2329.05,-45.98C2351.53,-46.4 2385.48,-47.03 2418.5,-47.64\"/>\n<polygon fill=\"black\" stroke=\"black\" points=\"2418.64,-51.14 2428.7,-47.83 2418.77,-44.14 2418.64,-51.14\"/>\n</g>\n<!-- 135821395249232 -->\n<g id=\"node4\" class=\"node\">\n<title>135821395249232</title>\n<polygon fill=\"none\" stroke=\"black\" points=\"2737,-54.5 2737,-90.5 2919,-90.5 2919,-54.5 2737,-54.5\"/>\n<text text-anchor=\"middle\" x=\"2747\" y=\"-68.8\" font-family=\"Times,serif\" font-size=\"14.00\"> </text>\n<polyline fill=\"none\" stroke=\"black\" points=\"2757,-54.5 2757,-90.5 \"/>\n<text text-anchor=\"middle\" x=\"2797\" y=\"-68.8\" font-family=\"Times,serif\" font-size=\"14.00\">data 0.7071</text>\n<polyline fill=\"none\" stroke=\"black\" points=\"2837,-54.5 2837,-90.5 \"/>\n<text text-anchor=\"middle\" x=\"2878\" y=\"-68.8\" font-family=\"Times,serif\" font-size=\"14.00\">grad 1.0000</text>\n</g>\n<!-- 135821395249232*&#45;&gt;135821395249232 -->\n<g id=\"edge2\" class=\"edge\">\n<title>135821395249232*&#45;&gt;135821395249232</title>\n<path fill=\"none\" stroke=\"black\" d=\"M2701.13,-72.5C2708.67,-72.5 2717.39,-72.5 2726.64,-72.5\"/>\n<polygon fill=\"black\" stroke=\"black\" points=\"2726.87,-76 2736.87,-72.5 2726.87,-69 2726.87,-76\"/>\n</g>\n<!-- 135821393840736 -->\n<g id=\"node6\" class=\"node\">\n<title>135821393840736</title>\n<polygon fill=\"none\" stroke=\"black\" points=\"2.5,-84.5 2.5,-120.5 197.5,-120.5 197.5,-84.5 2.5,-84.5\"/>\n<text text-anchor=\"middle\" x=\"19\" y=\"-98.8\" font-family=\"Times,serif\" font-size=\"14.00\">w2</text>\n<polyline fill=\"none\" stroke=\"black\" points=\"35.5,-84.5 35.5,-120.5 \"/>\n<text text-anchor=\"middle\" x=\"75.5\" y=\"-98.8\" font-family=\"Times,serif\" font-size=\"14.00\">data 1.0000</text>\n<polyline fill=\"none\" stroke=\"black\" points=\"115.5,-84.5 115.5,-120.5 \"/>\n<text text-anchor=\"middle\" x=\"156.5\" y=\"-98.8\" font-family=\"Times,serif\" font-size=\"14.00\">grad 0.0000</text>\n</g>\n<!-- 135821393849280* -->\n<g id=\"node25\" class=\"node\">\n<title>135821393849280*</title>\n<ellipse fill=\"none\" stroke=\"black\" cx=\"263\" cy=\"-102.5\" rx=\"27\" ry=\"18\"/>\n<text text-anchor=\"middle\" x=\"263\" y=\"-98.8\" font-family=\"Times,serif\" font-size=\"14.00\">*</text>\n</g>\n<!-- 135821393840736&#45;&gt;135821393849280* -->\n<g id=\"edge12\" class=\"edge\">\n<title>135821393840736&#45;&gt;135821393849280*</title>\n<path fill=\"none\" stroke=\"black\" d=\"M197.91,-102.5C207.65,-102.5 217.05,-102.5 225.52,-102.5\"/>\n<polygon fill=\"black\" stroke=\"black\" points=\"225.7,-106 235.7,-102.5 225.7,-99 225.7,-106\"/>\n</g>\n<!-- 135821393842800 -->\n<g id=\"node7\" class=\"node\">\n<title>135821393842800</title>\n<polygon fill=\"none\" stroke=\"black\" points=\"672,-111.5 672,-147.5 931,-147.5 931,-111.5 672,-111.5\"/>\n<text text-anchor=\"middle\" x=\"718\" y=\"-125.8\" font-family=\"Times,serif\" font-size=\"14.00\">x1w1 + x2w2</text>\n<polyline fill=\"none\" stroke=\"black\" points=\"764,-111.5 764,-147.5 \"/>\n<text text-anchor=\"middle\" x=\"806.5\" y=\"-125.8\" font-family=\"Times,serif\" font-size=\"14.00\">data &#45;6.0000</text>\n<polyline fill=\"none\" stroke=\"black\" points=\"849,-111.5 849,-147.5 \"/>\n<text text-anchor=\"middle\" x=\"890\" y=\"-125.8\" font-family=\"Times,serif\" font-size=\"14.00\">grad 0.5000</text>\n</g>\n<!-- 135821393850864+ -->\n<g id=\"node28\" class=\"node\">\n<title>135821393850864+</title>\n<ellipse fill=\"none\" stroke=\"black\" cx=\"994\" cy=\"-101.5\" rx=\"27\" ry=\"18\"/>\n<text text-anchor=\"middle\" x=\"994\" y=\"-97.8\" font-family=\"Times,serif\" font-size=\"14.00\">+</text>\n</g>\n<!-- 135821393842800&#45;&gt;135821393850864+ -->\n<g id=\"edge23\" class=\"edge\">\n<title>135821393842800&#45;&gt;135821393850864+</title>\n<path fill=\"none\" stroke=\"black\" d=\"M925.03,-111.49C936.7,-109.77 947.77,-108.15 957.46,-106.72\"/>\n<polygon fill=\"black\" stroke=\"black\" points=\"958.01,-110.18 967.4,-105.26 957,-103.25 958.01,-110.18\"/>\n</g>\n<!-- 135821393842800+ -->\n<g id=\"node8\" class=\"node\">\n<title>135821393842800+</title>\n<ellipse fill=\"none\" stroke=\"black\" cx=\"609\" cy=\"-129.5\" rx=\"27\" ry=\"18\"/>\n<text text-anchor=\"middle\" x=\"609\" y=\"-125.8\" font-family=\"Times,serif\" font-size=\"14.00\">+</text>\n</g>\n<!-- 135821393842800+&#45;&gt;135821393842800 -->\n<g id=\"edge3\" class=\"edge\">\n<title>135821393842800+&#45;&gt;135821393842800</title>\n<path fill=\"none\" stroke=\"black\" d=\"M636.09,-129.5C643.58,-129.5 652.3,-129.5 661.75,-129.5\"/>\n<polygon fill=\"black\" stroke=\"black\" points=\"661.84,-133 671.84,-129.5 661.84,-126 661.84,-133\"/>\n</g>\n<!-- 135821393843856 -->\n<g id=\"node9\" class=\"node\">\n<title>135821393843856</title>\n<polygon fill=\"none\" stroke=\"black\" points=\"1678.5,-55.5 1678.5,-91.5 1860.5,-91.5 1860.5,-55.5 1678.5,-55.5\"/>\n<text text-anchor=\"middle\" x=\"1688.5\" y=\"-69.8\" font-family=\"Times,serif\" font-size=\"14.00\"> </text>\n<polyline fill=\"none\" stroke=\"black\" points=\"1698.5,-55.5 1698.5,-91.5 \"/>\n<text text-anchor=\"middle\" x=\"1738.5\" y=\"-69.8\" font-family=\"Times,serif\" font-size=\"14.00\">data 5.8284</text>\n<polyline fill=\"none\" stroke=\"black\" points=\"1778.5,-55.5 1778.5,-91.5 \"/>\n<text text-anchor=\"middle\" x=\"1819.5\" y=\"-69.8\" font-family=\"Times,serif\" font-size=\"14.00\">grad 0.0429</text>\n</g>\n<!-- 135821393842416+ -->\n<g id=\"node19\" class=\"node\">\n<title>135821393842416+</title>\n<ellipse fill=\"none\" stroke=\"black\" cx=\"1926\" cy=\"-100.5\" rx=\"27\" ry=\"18\"/>\n<text text-anchor=\"middle\" x=\"1926\" y=\"-96.8\" font-family=\"Times,serif\" font-size=\"14.00\">+</text>\n</g>\n<!-- 135821393843856&#45;&gt;135821393842416+ -->\n<g id=\"edge21\" class=\"edge\">\n<title>135821393843856&#45;&gt;135821393842416+</title>\n<path fill=\"none\" stroke=\"black\" d=\"M1860.82,-89.28C1871.07,-91.08 1881.01,-92.81 1889.88,-94.36\"/>\n<polygon fill=\"black\" stroke=\"black\" points=\"1889.3,-97.81 1899.75,-96.09 1890.5,-90.92 1889.3,-97.81\"/>\n</g>\n<!-- 135821393853264+ -->\n<g id=\"node22\" class=\"node\">\n<title>135821393853264+</title>\n<ellipse fill=\"none\" stroke=\"black\" cx=\"1926\" cy=\"-45.5\" rx=\"27\" ry=\"18\"/>\n<text text-anchor=\"middle\" x=\"1926\" y=\"-41.8\" font-family=\"Times,serif\" font-size=\"14.00\">+</text>\n</g>\n<!-- 135821393843856&#45;&gt;135821393853264+ -->\n<g id=\"edge28\" class=\"edge\">\n<title>135821393843856&#45;&gt;135821393853264+</title>\n<path fill=\"none\" stroke=\"black\" d=\"M1860.82,-57.13C1871.07,-55.27 1881.01,-53.47 1889.88,-51.87\"/>\n<polygon fill=\"black\" stroke=\"black\" points=\"1890.54,-55.3 1899.75,-50.08 1889.29,-48.42 1890.54,-55.3\"/>\n</g>\n<!-- 135821393843856exp -->\n<g id=\"node10\" class=\"node\">\n<title>135821393843856exp</title>\n<ellipse fill=\"none\" stroke=\"black\" cx=\"1613\" cy=\"-73.5\" rx=\"27\" ry=\"18\"/>\n<text text-anchor=\"middle\" x=\"1613\" y=\"-69.8\" font-family=\"Times,serif\" font-size=\"14.00\">exp</text>\n</g>\n<!-- 135821393843856exp&#45;&gt;135821393843856 -->\n<g id=\"edge4\" class=\"edge\">\n<title>135821393843856exp&#45;&gt;135821393843856</title>\n<path fill=\"none\" stroke=\"black\" d=\"M1640.21,-73.5C1648.34,-73.5 1657.85,-73.5 1667.94,-73.5\"/>\n<polygon fill=\"black\" stroke=\"black\" points=\"1668.19,-77 1678.19,-73.5 1668.19,-70 1668.19,-77\"/>\n</g>\n<!-- 135821393850528 -->\n<g id=\"node11\" class=\"node\">\n<title>135821393850528</title>\n<polygon fill=\"none\" stroke=\"black\" points=\"1058.5,-28.5 1058.5,-64.5 1240.5,-64.5 1240.5,-28.5 1058.5,-28.5\"/>\n<text text-anchor=\"middle\" x=\"1068.5\" y=\"-42.8\" font-family=\"Times,serif\" font-size=\"14.00\"> </text>\n<polyline fill=\"none\" stroke=\"black\" points=\"1078.5,-28.5 1078.5,-64.5 \"/>\n<text text-anchor=\"middle\" x=\"1118.5\" y=\"-42.8\" font-family=\"Times,serif\" font-size=\"14.00\">data 2.0000</text>\n<polyline fill=\"none\" stroke=\"black\" points=\"1158.5,-28.5 1158.5,-64.5 \"/>\n<text text-anchor=\"middle\" x=\"1199.5\" y=\"-42.8\" font-family=\"Times,serif\" font-size=\"14.00\">grad 0.2203</text>\n</g>\n<!-- 135821393842944* -->\n<g id=\"node17\" class=\"node\">\n<title>135821393842944*</title>\n<ellipse fill=\"none\" stroke=\"black\" cx=\"1305\" cy=\"-73.5\" rx=\"27\" ry=\"18\"/>\n<text text-anchor=\"middle\" x=\"1305\" y=\"-69.8\" font-family=\"Times,serif\" font-size=\"14.00\">*</text>\n</g>\n<!-- 135821393850528&#45;&gt;135821393842944* -->\n<g id=\"edge22\" class=\"edge\">\n<title>135821393850528&#45;&gt;135821393842944*</title>\n<path fill=\"none\" stroke=\"black\" d=\"M1240.68,-62.36C1250.61,-64.11 1260.23,-65.8 1268.84,-67.32\"/>\n<polygon fill=\"black\" stroke=\"black\" points=\"1268.36,-70.78 1278.81,-69.07 1269.57,-63.89 1268.36,-70.78\"/>\n</g>\n<!-- 135821393844384 -->\n<g id=\"node12\" class=\"node\">\n<title>135821393844384</title>\n<polygon fill=\"none\" stroke=\"black\" points=\"0,-139.5 0,-175.5 200,-175.5 200,-139.5 0,-139.5\"/>\n<text text-anchor=\"middle\" x=\"16.5\" y=\"-153.8\" font-family=\"Times,serif\" font-size=\"14.00\">w1</text>\n<polyline fill=\"none\" stroke=\"black\" points=\"33,-139.5 33,-175.5 \"/>\n<text text-anchor=\"middle\" x=\"75.5\" y=\"-153.8\" font-family=\"Times,serif\" font-size=\"14.00\">data &#45;3.0000</text>\n<polyline fill=\"none\" stroke=\"black\" points=\"118,-139.5 118,-175.5 \"/>\n<text text-anchor=\"middle\" x=\"159\" y=\"-153.8\" font-family=\"Times,serif\" font-size=\"14.00\">grad 1.0000</text>\n</g>\n<!-- 135821393844384&#45;&gt;135821393838528* -->\n<g id=\"edge18\" class=\"edge\">\n<title>135821393844384&#45;&gt;135821393838528*</title>\n<path fill=\"none\" stroke=\"black\" d=\"M200.21,-157.5C209.2,-157.5 217.86,-157.5 225.7,-157.5\"/>\n<polygon fill=\"black\" stroke=\"black\" points=\"225.85,-161 235.85,-157.5 225.85,-154 225.85,-161\"/>\n</g>\n<!-- 135821393838528 -->\n<g id=\"node13\" class=\"node\">\n<title>135821393838528</title>\n<polygon fill=\"none\" stroke=\"black\" points=\"326,-139.5 326,-175.5 546,-175.5 546,-139.5 326,-139.5\"/>\n<text text-anchor=\"middle\" x=\"352.5\" y=\"-153.8\" font-family=\"Times,serif\" font-size=\"14.00\">x1*w1</text>\n<polyline fill=\"none\" stroke=\"black\" points=\"379,-139.5 379,-175.5 \"/>\n<text text-anchor=\"middle\" x=\"421.5\" y=\"-153.8\" font-family=\"Times,serif\" font-size=\"14.00\">data &#45;6.0000</text>\n<polyline fill=\"none\" stroke=\"black\" points=\"464,-139.5 464,-175.5 \"/>\n<text text-anchor=\"middle\" x=\"505\" y=\"-153.8\" font-family=\"Times,serif\" font-size=\"14.00\">grad 0.5000</text>\n</g>\n<!-- 135821393838528&#45;&gt;135821393842800+ -->\n<g id=\"edge13\" class=\"edge\">\n<title>135821393838528&#45;&gt;135821393842800+</title>\n<path fill=\"none\" stroke=\"black\" d=\"M546.27,-139.61C555.64,-138.07 564.6,-136.61 572.65,-135.29\"/>\n<polygon fill=\"black\" stroke=\"black\" points=\"573.35,-138.72 582.65,-133.65 572.22,-131.81 573.35,-138.72\"/>\n</g>\n<!-- 135821393838528*&#45;&gt;135821393838528 -->\n<g id=\"edge5\" class=\"edge\">\n<title>135821393838528*&#45;&gt;135821393838528</title>\n<path fill=\"none\" stroke=\"black\" d=\"M290.34,-157.5C297.77,-157.5 306.37,-157.5 315.6,-157.5\"/>\n<polygon fill=\"black\" stroke=\"black\" points=\"315.84,-161 325.84,-157.5 315.84,-154 315.84,-161\"/>\n</g>\n<!-- 135821393839344 -->\n<g id=\"node15\" class=\"node\">\n<title>135821393839344</title>\n<polygon fill=\"none\" stroke=\"black\" points=\"709,-56.5 709,-92.5 894,-92.5 894,-56.5 709,-56.5\"/>\n<text text-anchor=\"middle\" x=\"720.5\" y=\"-70.8\" font-family=\"Times,serif\" font-size=\"14.00\">b</text>\n<polyline fill=\"none\" stroke=\"black\" points=\"732,-56.5 732,-92.5 \"/>\n<text text-anchor=\"middle\" x=\"772\" y=\"-70.8\" font-family=\"Times,serif\" font-size=\"14.00\">data 6.8814</text>\n<polyline fill=\"none\" stroke=\"black\" points=\"812,-56.5 812,-92.5 \"/>\n<text text-anchor=\"middle\" x=\"853\" y=\"-70.8\" font-family=\"Times,serif\" font-size=\"14.00\">grad 0.5000</text>\n</g>\n<!-- 135821393839344&#45;&gt;135821393850864+ -->\n<g id=\"edge19\" class=\"edge\">\n<title>135821393839344&#45;&gt;135821393850864+</title>\n<path fill=\"none\" stroke=\"black\" d=\"M894.12,-87.49C916.59,-90.67 939.33,-93.89 957.33,-96.44\"/>\n<polygon fill=\"black\" stroke=\"black\" points=\"956.95,-99.93 967.34,-97.86 957.93,-92.99 956.95,-99.93\"/>\n</g>\n<!-- 135821393842944 -->\n<g id=\"node16\" class=\"node\">\n<title>135821393842944</title>\n<polygon fill=\"none\" stroke=\"black\" points=\"1368,-55.5 1368,-91.5 1550,-91.5 1550,-55.5 1368,-55.5\"/>\n<text text-anchor=\"middle\" x=\"1378\" y=\"-69.8\" font-family=\"Times,serif\" font-size=\"14.00\"> </text>\n<polyline fill=\"none\" stroke=\"black\" points=\"1388,-55.5 1388,-91.5 \"/>\n<text text-anchor=\"middle\" x=\"1428\" y=\"-69.8\" font-family=\"Times,serif\" font-size=\"14.00\">data 1.7627</text>\n<polyline fill=\"none\" stroke=\"black\" points=\"1468,-55.5 1468,-91.5 \"/>\n<text text-anchor=\"middle\" x=\"1509\" y=\"-69.8\" font-family=\"Times,serif\" font-size=\"14.00\">grad 0.2500</text>\n</g>\n<!-- 135821393842944&#45;&gt;135821393843856exp -->\n<g id=\"edge25\" class=\"edge\">\n<title>135821393842944&#45;&gt;135821393843856exp</title>\n<path fill=\"none\" stroke=\"black\" d=\"M1550.18,-73.5C1559.14,-73.5 1567.83,-73.5 1575.73,-73.5\"/>\n<polygon fill=\"black\" stroke=\"black\" points=\"1575.96,-77 1585.96,-73.5 1575.96,-70 1575.96,-77\"/>\n</g>\n<!-- 135821393842944*&#45;&gt;135821393842944 -->\n<g id=\"edge6\" class=\"edge\">\n<title>135821393842944*&#45;&gt;135821393842944</title>\n<path fill=\"none\" stroke=\"black\" d=\"M1332.13,-73.5C1339.67,-73.5 1348.39,-73.5 1357.64,-73.5\"/>\n<polygon fill=\"black\" stroke=\"black\" points=\"1357.87,-77 1367.87,-73.5 1357.87,-70 1357.87,-77\"/>\n</g>\n<!-- 135821393842416 -->\n<g id=\"node18\" class=\"node\">\n<title>135821393842416</title>\n<polygon fill=\"none\" stroke=\"black\" points=\"2211,-82.5 2211,-118.5 2393,-118.5 2393,-82.5 2211,-82.5\"/>\n<text text-anchor=\"middle\" x=\"2221\" y=\"-96.8\" font-family=\"Times,serif\" font-size=\"14.00\"> </text>\n<polyline fill=\"none\" stroke=\"black\" points=\"2231,-82.5 2231,-118.5 \"/>\n<text text-anchor=\"middle\" x=\"2271\" y=\"-96.8\" font-family=\"Times,serif\" font-size=\"14.00\">data 4.8284</text>\n<polyline fill=\"none\" stroke=\"black\" points=\"2311,-82.5 2311,-118.5 \"/>\n<text text-anchor=\"middle\" x=\"2352\" y=\"-96.8\" font-family=\"Times,serif\" font-size=\"14.00\">grad 0.1464</text>\n</g>\n<!-- 135821393842416&#45;&gt;135821395249232* -->\n<g id=\"edge14\" class=\"edge\">\n<title>135821393842416&#45;&gt;135821395249232*</title>\n<path fill=\"none\" stroke=\"black\" d=\"M2393.31,-93.9C2454.7,-89.37 2537.76,-83.19 2611,-77.5 2619.42,-76.85 2628.48,-76.13 2637.01,-75.44\"/>\n<polygon fill=\"black\" stroke=\"black\" points=\"2637.37,-78.92 2647.06,-74.63 2636.81,-71.94 2637.37,-78.92\"/>\n</g>\n<!-- 135821393842416+&#45;&gt;135821393842416 -->\n<g id=\"edge7\" class=\"edge\">\n<title>135821393842416+&#45;&gt;135821393842416</title>\n<path fill=\"none\" stroke=\"black\" d=\"M1953,-100.5C2003.46,-100.5 2117.06,-100.5 2200.81,-100.5\"/>\n<polygon fill=\"black\" stroke=\"black\" points=\"2200.87,-104 2210.87,-100.5 2200.87,-97 2200.87,-104\"/>\n</g>\n<!-- 135821393839392 -->\n<g id=\"node20\" class=\"node\">\n<title>135821393839392</title>\n<polygon fill=\"none\" stroke=\"black\" points=\"4,-29.5 4,-65.5 196,-65.5 196,-29.5 4,-29.5\"/>\n<text text-anchor=\"middle\" x=\"19\" y=\"-43.8\" font-family=\"Times,serif\" font-size=\"14.00\">x2</text>\n<polyline fill=\"none\" stroke=\"black\" points=\"34,-29.5 34,-65.5 \"/>\n<text text-anchor=\"middle\" x=\"74\" y=\"-43.8\" font-family=\"Times,serif\" font-size=\"14.00\">data 0.0000</text>\n<polyline fill=\"none\" stroke=\"black\" points=\"114,-29.5 114,-65.5 \"/>\n<text text-anchor=\"middle\" x=\"155\" y=\"-43.8\" font-family=\"Times,serif\" font-size=\"14.00\">grad 0.5000</text>\n</g>\n<!-- 135821393839392&#45;&gt;135821393849280* -->\n<g id=\"edge16\" class=\"edge\">\n<title>135821393839392&#45;&gt;135821393849280*</title>\n<path fill=\"none\" stroke=\"black\" d=\"M169.28,-65.5C179.65,-68.61 190.16,-71.98 200,-75.5 210.28,-79.17 221.28,-83.74 231.11,-88.07\"/>\n<polygon fill=\"black\" stroke=\"black\" points=\"229.93,-91.37 240.48,-92.27 232.79,-84.99 229.93,-91.37\"/>\n</g>\n<!-- 135821393853264 -->\n<g id=\"node21\" class=\"node\">\n<title>135821393853264</title>\n<polygon fill=\"none\" stroke=\"black\" points=\"1989,-27.5 1989,-63.5 2175,-63.5 2175,-27.5 1989,-27.5\"/>\n<text text-anchor=\"middle\" x=\"1999\" y=\"-41.8\" font-family=\"Times,serif\" font-size=\"14.00\"> </text>\n<polyline fill=\"none\" stroke=\"black\" points=\"2009,-27.5 2009,-63.5 \"/>\n<text text-anchor=\"middle\" x=\"2049\" y=\"-41.8\" font-family=\"Times,serif\" font-size=\"14.00\">data 6.8284</text>\n<polyline fill=\"none\" stroke=\"black\" points=\"2089,-27.5 2089,-63.5 \"/>\n<text text-anchor=\"middle\" x=\"2132\" y=\"-41.8\" font-family=\"Times,serif\" font-size=\"14.00\">grad &#45;0.1036</text>\n</g>\n<!-- 135821393853264&#45;&gt;135821393851920**&#45;1 -->\n<g id=\"edge11\" class=\"edge\">\n<title>135821393853264&#45;&gt;135821393851920**&#45;1</title>\n<path fill=\"none\" stroke=\"black\" d=\"M2175.14,-45.5C2206.72,-45.5 2240.24,-45.5 2264.74,-45.5\"/>\n<polygon fill=\"black\" stroke=\"black\" points=\"2264.98,-49 2274.98,-45.5 2264.98,-42 2264.98,-49\"/>\n</g>\n<!-- 135821393853264+&#45;&gt;135821393853264 -->\n<g id=\"edge8\" class=\"edge\">\n<title>135821393853264+&#45;&gt;135821393853264</title>\n<path fill=\"none\" stroke=\"black\" d=\"M1953.12,-45.5C1960.62,-45.5 1969.29,-45.5 1978.5,-45.5\"/>\n<polygon fill=\"black\" stroke=\"black\" points=\"1978.69,-49 1988.69,-45.5 1978.69,-42 1978.69,-49\"/>\n</g>\n<!-- 135821393842608 -->\n<g id=\"node23\" class=\"node\">\n<title>135821393842608</title>\n<polygon fill=\"none\" stroke=\"black\" points=\"1676,-110.5 1676,-146.5 1863,-146.5 1863,-110.5 1676,-110.5\"/>\n<text text-anchor=\"middle\" x=\"1686\" y=\"-124.8\" font-family=\"Times,serif\" font-size=\"14.00\"> </text>\n<polyline fill=\"none\" stroke=\"black\" points=\"1696,-110.5 1696,-146.5 \"/>\n<text text-anchor=\"middle\" x=\"1738.5\" y=\"-124.8\" font-family=\"Times,serif\" font-size=\"14.00\">data &#45;1.0000</text>\n<polyline fill=\"none\" stroke=\"black\" points=\"1781,-110.5 1781,-146.5 \"/>\n<text text-anchor=\"middle\" x=\"1822\" y=\"-124.8\" font-family=\"Times,serif\" font-size=\"14.00\">grad 0.1464</text>\n</g>\n<!-- 135821393842608&#45;&gt;135821393842416+ -->\n<g id=\"edge26\" class=\"edge\">\n<title>135821393842608&#45;&gt;135821393842416+</title>\n<path fill=\"none\" stroke=\"black\" d=\"M1863.05,-111.73C1872.54,-110.01 1881.71,-108.35 1889.95,-106.85\"/>\n<polygon fill=\"black\" stroke=\"black\" points=\"1890.64,-110.28 1899.85,-105.06 1889.39,-103.4 1890.64,-110.28\"/>\n</g>\n<!-- 135821393849280 -->\n<g id=\"node24\" class=\"node\">\n<title>135821393849280</title>\n<polygon fill=\"none\" stroke=\"black\" points=\"328.5,-84.5 328.5,-120.5 543.5,-120.5 543.5,-84.5 328.5,-84.5\"/>\n<text text-anchor=\"middle\" x=\"355\" y=\"-98.8\" font-family=\"Times,serif\" font-size=\"14.00\">x2*w2</text>\n<polyline fill=\"none\" stroke=\"black\" points=\"381.5,-84.5 381.5,-120.5 \"/>\n<text text-anchor=\"middle\" x=\"421.5\" y=\"-98.8\" font-family=\"Times,serif\" font-size=\"14.00\">data 0.0000</text>\n<polyline fill=\"none\" stroke=\"black\" points=\"461.5,-84.5 461.5,-120.5 \"/>\n<text text-anchor=\"middle\" x=\"502.5\" y=\"-98.8\" font-family=\"Times,serif\" font-size=\"14.00\">grad 0.5000</text>\n</g>\n<!-- 135821393849280&#45;&gt;135821393842800+ -->\n<g id=\"edge15\" class=\"edge\">\n<title>135821393849280&#45;&gt;135821393842800+</title>\n<path fill=\"none\" stroke=\"black\" d=\"M543.84,-119.37C554.01,-120.98 563.76,-122.51 572.44,-123.89\"/>\n<polygon fill=\"black\" stroke=\"black\" points=\"572.05,-127.37 582.47,-125.47 573.14,-120.45 572.05,-127.37\"/>\n</g>\n<!-- 135821393849280*&#45;&gt;135821393849280 -->\n<g id=\"edge9\" class=\"edge\">\n<title>135821393849280*&#45;&gt;135821393849280</title>\n<path fill=\"none\" stroke=\"black\" d=\"M290.34,-102.5C298.51,-102.5 308.08,-102.5 318.36,-102.5\"/>\n<polygon fill=\"black\" stroke=\"black\" points=\"318.39,-106 328.39,-102.5 318.39,-99 318.39,-106\"/>\n</g>\n<!-- 135821393853408 -->\n<g id=\"node26\" class=\"node\">\n<title>135821393853408</title>\n<polygon fill=\"none\" stroke=\"black\" points=\"1676.5,-0.5 1676.5,-36.5 1862.5,-36.5 1862.5,-0.5 1676.5,-0.5\"/>\n<text text-anchor=\"middle\" x=\"1686.5\" y=\"-14.8\" font-family=\"Times,serif\" font-size=\"14.00\"> </text>\n<polyline fill=\"none\" stroke=\"black\" points=\"1696.5,-0.5 1696.5,-36.5 \"/>\n<text text-anchor=\"middle\" x=\"1736.5\" y=\"-14.8\" font-family=\"Times,serif\" font-size=\"14.00\">data 1.0000</text>\n<polyline fill=\"none\" stroke=\"black\" points=\"1776.5,-0.5 1776.5,-36.5 \"/>\n<text text-anchor=\"middle\" x=\"1819.5\" y=\"-14.8\" font-family=\"Times,serif\" font-size=\"14.00\">grad &#45;0.1036</text>\n</g>\n<!-- 135821393853408&#45;&gt;135821393853264+ -->\n<g id=\"edge27\" class=\"edge\">\n<title>135821393853408&#45;&gt;135821393853264+</title>\n<path fill=\"none\" stroke=\"black\" d=\"M1862.6,-34.6C1872.15,-36.26 1881.37,-37.88 1889.68,-39.33\"/>\n<polygon fill=\"black\" stroke=\"black\" points=\"1889.2,-42.8 1899.65,-41.07 1890.4,-35.9 1889.2,-42.8\"/>\n</g>\n<!-- 135821393850864 -->\n<g id=\"node27\" class=\"node\">\n<title>135821393850864</title>\n<polygon fill=\"none\" stroke=\"black\" points=\"1057,-83.5 1057,-119.5 1242,-119.5 1242,-83.5 1057,-83.5\"/>\n<text text-anchor=\"middle\" x=\"1068.5\" y=\"-97.8\" font-family=\"Times,serif\" font-size=\"14.00\">n</text>\n<polyline fill=\"none\" stroke=\"black\" points=\"1080,-83.5 1080,-119.5 \"/>\n<text text-anchor=\"middle\" x=\"1120\" y=\"-97.8\" font-family=\"Times,serif\" font-size=\"14.00\">data 0.8814</text>\n<polyline fill=\"none\" stroke=\"black\" points=\"1160,-83.5 1160,-119.5 \"/>\n<text text-anchor=\"middle\" x=\"1201\" y=\"-97.8\" font-family=\"Times,serif\" font-size=\"14.00\">grad 0.5000</text>\n</g>\n<!-- 135821393850864&#45;&gt;135821393842944* -->\n<g id=\"edge20\" class=\"edge\">\n<title>135821393850864&#45;&gt;135821393842944*</title>\n<path fill=\"none\" stroke=\"black\" d=\"M1242.01,-84.81C1251.49,-83.08 1260.66,-81.41 1268.9,-79.9\"/>\n<polygon fill=\"black\" stroke=\"black\" points=\"1269.6,-83.33 1278.81,-78.09 1268.35,-76.45 1269.6,-83.33\"/>\n</g>\n<!-- 135821393850864+&#45;&gt;135821393850864 -->\n<g id=\"edge10\" class=\"edge\">\n<title>135821393850864+&#45;&gt;135821393850864</title>\n<path fill=\"none\" stroke=\"black\" d=\"M1021.04,-101.5C1028.58,-101.5 1037.3,-101.5 1046.57,-101.5\"/>\n<polygon fill=\"black\" stroke=\"black\" points=\"1046.81,-105 1056.81,-101.5 1046.81,-98 1046.81,-105\"/>\n</g>\n</g>\n</svg>\n",
            "text/plain": [
              "<graphviz.graphs.Digraph at 0x7b8761eec370>"
            ]
          },
          "metadata": {},
          "execution_count": 398
        }
      ]
    },
    {
      "cell_type": "code",
      "source": [
        "import torch"
      ],
      "metadata": {
        "id": "m0rvd7QO23tO"
      },
      "execution_count": null,
      "outputs": []
    },
    {
      "cell_type": "code",
      "source": [
        "x1 = torch.Tensor([2.0]).double()                   ;x1.requires_grad_(True)\n",
        "x2 = torch.Tensor([0.0]).double()                   ;x2.requires_grad_(True)\n",
        "w1 = torch.Tensor([-3.0]).double()                  ;w1.requires_grad_(True)\n",
        "w2 = torch.Tensor([1.0]).double()                   ;w2.requires_grad_(True)\n",
        "b = torch.Tensor([6.8813735870195432]).double()     ;b.requires_grad_(True)\n",
        "\n",
        "n = x1*w1 + x2*w2 + b\n",
        "o = torch.tanh(n)\n",
        "\n",
        "print(o.data.item())\n",
        "o.backward()\n",
        "print('--------')\n",
        "print('x2',x2.grad.item())\n",
        "print('w2',w2.grad.item())\n",
        "print('x1',x1.grad.item())\n",
        "print('w1',w1.grad.item())"
      ],
      "metadata": {
        "colab": {
          "base_uri": "https://localhost:8080/"
        },
        "id": "1LBvLc9x25qM",
        "outputId": "94589d89-cac4-4309-d2f0-046a77a89d70"
      },
      "execution_count": null,
      "outputs": [
        {
          "output_type": "stream",
          "name": "stdout",
          "text": [
            "0.7071066904050358\n",
            "--------\n",
            "x2 0.5000001283844369\n",
            "w2 0.0\n",
            "x1 -1.5000003851533106\n",
            "w1 1.0000002567688737\n"
          ]
        }
      ]
    },
    {
      "cell_type": "code",
      "source": [
        "class Neuron:\n",
        "    def __init__(self,nin):\n",
        "        self.w = [Value(random.uniform(-1,1)) for _ in range(nin)]\n",
        "        self.b = Value(random.uniform(-1,1))\n",
        "    def __call__(self,x):\n",
        "        #w*x + b\n",
        "        act = sum((wi*xi for wi, xi in zip(self.w, x)), self.b)\n",
        "        out = act.tanh()\n",
        "        return out\n",
        "    def parameters(self):\n",
        "        return self.w + [self.b]"
      ],
      "metadata": {
        "id": "a1yeTa8d7GhK"
      },
      "execution_count": null,
      "outputs": []
    },
    {
      "cell_type": "code",
      "source": [
        "x = [2.0,3.0]\n",
        "neuron = Neuron(2)\n",
        "neuron(x)"
      ],
      "metadata": {
        "colab": {
          "base_uri": "https://localhost:8080/"
        },
        "id": "suJb1cY37xNE",
        "outputId": "c740aa28-b2f4-43c6-9d51-4d6e2c1e6a69"
      },
      "execution_count": null,
      "outputs": [
        {
          "output_type": "execute_result",
          "data": {
            "text/plain": [
              "Value(data=0.8181622318511568)"
            ]
          },
          "metadata": {},
          "execution_count": 402
        }
      ]
    },
    {
      "cell_type": "code",
      "source": [
        "class Layer:\n",
        "    def __init__(self,nin,nout):\n",
        "        self.neurons = [Neuron(nin) for _ in range(nout)]\n",
        "\n",
        "    def __call__(self,x):\n",
        "        outs = [n(x) for n in self.neurons]\n",
        "        return outs[0] if len(outs) == 1 else outs\n",
        "\n",
        "    def parameters(self):\n",
        "        return [p for neuron in self.neurons for p in neuron.parameters()]\n",
        "        # params = []\n",
        "        # for neuron in self.neurons:\n",
        "        #     ps = neuron.parameters()\n",
        "        #     params.extend(ps)\n",
        "        # return params\n",
        "x = [2.0,3.0]\n",
        "n = Layer(2,4)\n",
        "n(x)"
      ],
      "metadata": {
        "colab": {
          "base_uri": "https://localhost:8080/"
        },
        "id": "V5YD2ap9btJL",
        "outputId": "fefb3595-711c-43ab-9ed5-e7b5bc3515c4"
      },
      "execution_count": null,
      "outputs": [
        {
          "output_type": "execute_result",
          "data": {
            "text/plain": [
              "[Value(data=-0.9996612851946786),\n",
              " Value(data=-0.008835974422672857),\n",
              " Value(data=0.02193028784387421),\n",
              " Value(data=0.7914636335544163)]"
            ]
          },
          "metadata": {},
          "execution_count": 403
        }
      ]
    },
    {
      "cell_type": "code",
      "source": [
        "class MLP:\n",
        "    def __init__(self,nin,nouts):\n",
        "        sz = [nin] + nouts\n",
        "\n",
        "        self.layers = [Layer(sz[i],sz[i+1]) for i in range(len(nouts))]\n",
        "    def __call__(self,x):\n",
        "        for layer in self.layers:\n",
        "            x = layer(x)\n",
        "        return x\n",
        "    def parameters(self):\n",
        "        return [p for layer in self.layers for p in layer.parameters()]"
      ],
      "metadata": {
        "id": "2eVY6ClgdlIz"
      },
      "execution_count": null,
      "outputs": []
    },
    {
      "cell_type": "code",
      "source": [
        "x = [2.0, 3.0, -1.0]\n",
        "n = MLP(3, [4, 4, 1])\n",
        "n(x)"
      ],
      "metadata": {
        "colab": {
          "base_uri": "https://localhost:8080/"
        },
        "id": "MmqhEJ6Ae6B9",
        "outputId": "6ae82be5-c538-4d6a-b17f-be20b52d4790"
      },
      "execution_count": null,
      "outputs": [
        {
          "output_type": "execute_result",
          "data": {
            "text/plain": [
              "Value(data=-0.34818180943760046)"
            ]
          },
          "metadata": {},
          "execution_count": 405
        }
      ]
    },
    {
      "cell_type": "code",
      "source": [
        "len(n.parameters())"
      ],
      "metadata": {
        "colab": {
          "base_uri": "https://localhost:8080/"
        },
        "id": "W8CLjRBmokWH",
        "outputId": "6e3f7d03-089b-49e8-f5d7-e00ba599651b"
      },
      "execution_count": null,
      "outputs": [
        {
          "output_type": "execute_result",
          "data": {
            "text/plain": [
              "41"
            ]
          },
          "metadata": {},
          "execution_count": 406
        }
      ]
    },
    {
      "cell_type": "code",
      "source": [
        "xs = [\n",
        "  [2.0, 3.0, -1.0],\n",
        "  [3.0, -1.0, 0.5],\n",
        "  [0.5, 1.0, 1.0],\n",
        "  [1.0, 1.0, -1.0],\n",
        "]\n",
        "ys = [1.0, -1.0, -1.0, 1.0] # desired targets\n",
        "# y_pred = [n(x) for x in xs]\n",
        "# y_pred"
      ],
      "metadata": {
        "id": "DkiW720ziOYn"
      },
      "execution_count": null,
      "outputs": []
    },
    {
      "cell_type": "code",
      "source": [
        "for k in range(20):\n",
        "    #forward pass\n",
        "    y_pred = [n(x) for x in xs]\n",
        "    loss = sum((yout - ygt)**2 for ygt, yout in zip(ys, y_pred))\n",
        "\n",
        "    #backward pass\n",
        "    for p in n.parameters():\n",
        "        p.grad = 0\n",
        "    loss.backward()\n",
        "\n",
        "    #update\n",
        "    for p in n.parameters():\n",
        "        p.data += -0.1 * p.grad\n",
        "\n",
        "    print(k,loss.data)\n"
      ],
      "metadata": {
        "colab": {
          "base_uri": "https://localhost:8080/"
        },
        "id": "NE0N_6owwbQI",
        "outputId": "537f5904-046b-4d29-9d90-4290e0415d7c"
      },
      "execution_count": null,
      "outputs": [
        {
          "output_type": "stream",
          "name": "stdout",
          "text": [
            "0 0.013554574357063708\n",
            "1 0.013185155787227067\n",
            "2 0.012833306555204408\n",
            "3 0.01249784382073639\n",
            "4 0.012177687431229104\n",
            "5 0.011871849059396197\n",
            "6 0.01157942268868773\n",
            "7 0.011299576255510967\n",
            "8 0.011031544287570087\n",
            "9 0.010774621402653218\n",
            "10 0.010528156552906264\n",
            "11 0.010291547916847391\n",
            "12 0.010064238355747374\n",
            "13 0.00984571136303521\n",
            "14 0.009635487445504477\n",
            "15 0.009433120883627142\n",
            "16 0.00923819682549731\n",
            "17 0.009050328675052344\n",
            "18 0.0088691557404301\n",
            "19 0.008694341112770381\n"
          ]
        }
      ]
    },
    {
      "cell_type": "code",
      "source": [
        "y_pred"
      ],
      "metadata": {
        "colab": {
          "base_uri": "https://localhost:8080/"
        },
        "id": "AJY2o9hexX6L",
        "outputId": "90c7c10e-760e-41a3-b091-afbf377abc6a"
      },
      "execution_count": null,
      "outputs": [
        {
          "output_type": "execute_result",
          "data": {
            "text/plain": [
              "[Value(data=0.960479548323418),\n",
              " Value(data=-0.9409714948678864),\n",
              " Value(data=-0.9622292632885051),\n",
              " Value(data=0.9528673993695627)]"
            ]
          },
          "metadata": {},
          "execution_count": 411
        }
      ]
    },
    {
      "cell_type": "code",
      "source": [],
      "metadata": {
        "id": "oQ7NT5zo10LC"
      },
      "execution_count": null,
      "outputs": []
    }
  ]
}